{
 "cells": [
  {
   "cell_type": "markdown",
   "id": "4a73bdda-a774-4493-bd9b-2b1476ef7f48",
   "metadata": {},
   "source": [
    "# Exercício \n",
    "### Pesquise as funções:\n",
    "- reverse\n",
    "- sort\n",
    "- copy\n",
    "\n",
    "\n",
    "###### Feito por Nayara de Oliveira Brabo"
   ]
  },
  {
   "cell_type": "markdown",
   "id": "61992588-4ec2-4b3b-b64b-7f1a87540e31",
   "metadata": {},
   "source": [
    "----"
   ]
  },
  {
   "cell_type": "markdown",
   "id": "cdad1f39-49e8-447c-aec7-9f5e5d5a9708",
   "metadata": {},
   "source": [
    "## REVERSE\n",
    "\n",
    "#### SYNTAX - list.reverse()"
   ]
  },
  {
   "cell_type": "raw",
   "id": "2e6bed9a-3723-473c-8a58-a1c9ac466037",
   "metadata": {},
   "source": [
    "Inverte a ordem dos elementos de uma lista. Útil quando se deseja acessar os elementos de uma lista na ordem inversa."
   ]
  },
  {
   "cell_type": "code",
   "execution_count": 2,
   "id": "4badb313-66ec-4c4d-a77b-762b07e3cf65",
   "metadata": {},
   "outputs": [
    {
     "name": "stdout",
     "output_type": "stream",
     "text": [
      "['Entrega final', 'Revisão', 'Primeira entrega', 'Início do projeto']\n"
     ]
    }
   ],
   "source": [
    "eventos = [\"Início do projeto\", \"Primeira entrega\", \"Revisão\", \"Entrega final\"]\n",
    "\n",
    "eventos.reverse()\n",
    "\n",
    "print(eventos)\n",
    "\n",
    "\n",
    "## DA DÉBORA COM TODOS OS ALUNOSz\n",
    "participantes_jumpstart4 = ['Débora Carolina dos Santos', 'Ellen Rayssa Lopes do Nascimento', 'Enzo Ryu Hyoda Yamada', 'Felipe Vellasco', 'Gabriel Tiggi Leite Lima', 'Gabryel Gomes Bahmad Camapum', 'Gleicilene de Andrade Santos', 'Guilherme Fernandes da Silva Araujo', 'Iuri Henrique dos Santos', 'João Pedro Tavares Ferreira', 'Júlio César Oliveira Carvalho', 'Katia Aparecida Vicente Santos', 'Leandro Perbelini Tezzon', 'Letícia Araújo Costa', 'Lívia Marcilio Lopes', 'Manaby Lousado Barbosa', 'Marcos Rodrigues dos Santos Gonçalves', 'Mariana de Godoy Barros', 'Mariana Sales Bossa', 'Natália Luize Nahas Berti', 'Nayara de Oliveira Brabo', 'Pedro Pedretti Alves', 'Reinaldo Santos Filho', 'Stella Roseno Trajano da Silva', 'Stephanie Fernandes de Souza', 'Tatiana Beltrão Alves da Costa', 'Thiago Costa Santana', 'William Silva Nogueira']\n",
    " \n",
    "participantes_jumpstart4.reverse()  \n",
    "\n",
    "print(\"Participantes Z a A:\", participantes_jumpstart4)"
   ]
  },
  {
   "cell_type": "markdown",
   "id": "8dab5d11-fb31-4e30-9afe-0908d4b642e9",
   "metadata": {},
   "source": [
    "-----"
   ]
  },
  {
   "cell_type": "markdown",
   "id": "b22fc88c-5c0a-4fe4-a061-eb631031511f",
   "metadata": {},
   "source": [
    "## SORT\n",
    "\n",
    "#### SYNTAX - list.sort(reverse=True|False, key=myFunc)\n",
    "- reverse - \n",
    "Opcional. reverse=True classificará a lista em ordem decrescente. O padrão é reverso=Fals.o\n",
    "- key -Opcional. Uma função para especificar os critérios de classificação.0"
   ]
  },
  {
   "cell_type": "raw",
   "id": "3f0adfe1-2d6d-48f6-a309-e04185c35cb2",
   "metadata": {},
   "source": [
    "Ordena os elementos de uma lista em ordem crescente (ou decrescente, se especificado). "
   ]
  },
  {
   "cell_type": "code",
   "execution_count": 6,
   "id": "163f0289-21aa-43c3-8bab-71143394de4a",
   "metadata": {},
   "outputs": [
    {
     "name": "stdout",
     "output_type": "stream",
     "text": [
      "Preços em ordem crescente: [9.99, 19.99, 29.99, 49.99]\n",
      "Preços em ordem decrescente: [49.99, 29.99, 19.99, 9.99]\n"
     ]
    }
   ],
   "source": [
    "precos = [29.99, 9.99, 49.99, 19.99]\n",
    "precos.sort()\n",
    "print('Preços em ordem crescente:',precos)\n",
    "\n",
    "\n",
    "# Para ordenar em ordem decrescente:\n",
    "precos.sort(reverse=True)\n",
    "print('Preços em ordem decrescente:',precos)"
   ]
  },
  {
   "cell_type": "markdown",
   "id": "51a7fc67-39ab-4932-b809-2a3f1641d57f",
   "metadata": {},
   "source": [
    "----"
   ]
  },
  {
   "cell_type": "markdown",
   "id": "92781400-00fb-4b5b-8e53-d684c12550f3",
   "metadata": {},
   "source": [
    "## COPY\n",
    "\n",
    "#### SYNTAX - list.copy()"
   ]
  },
  {
   "cell_type": "raw",
   "id": "8f30eab3-4815-4b4b-bd05-1c542305cda5",
   "metadata": {},
   "source": [
    "Cria uma cópia superficial de uma lista ou outro objeto mutável. Útil para evitar modificar a lista original ao trabalhar com cópias."
   ]
  },
  {
   "cell_type": "code",
   "execution_count": 7,
   "id": "d9832606-3355-49b5-a76f-b1fa89902027",
   "metadata": {},
   "outputs": [
    {
     "name": "stdout",
     "output_type": "stream",
     "text": [
      "['Comprar leite', 'Lavar o carro', 'Responder emails']\n",
      "['Comprar leite', 'Lavar o carro', 'Responder emails', 'Fazer exercícios']\n"
     ]
    }
   ],
   "source": [
    "tarefas_originais = [\"Comprar leite\", \"Lavar o carro\", \"Responder emails\"]\n",
    "tarefas_copia = tarefas_originais.copy()\n",
    "tarefas_copia.append(\"Fazer exercícios\")\n",
    "\n",
    "print(tarefas_originais)\n",
    "\n",
    "print(tarefas_copia)"
   ]
  }
 ],
 "metadata": {
  "kernelspec": {
   "display_name": "Python 3 (ipykernel)",
   "language": "python",
   "name": "python3"
  },
  "language_info": {
   "codemirror_mode": {
    "name": "ipython",
    "version": 3
   },
   "file_extension": ".py",
   "mimetype": "text/x-python",
   "name": "python",
   "nbconvert_exporter": "python",
   "pygments_lexer": "ipython3",
   "version": "3.11.7"
  }
 },
 "nbformat": 4,
 "nbformat_minor": 5
}
