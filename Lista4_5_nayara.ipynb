{
 "cells": [
  {
   "cell_type": "markdown",
   "id": "dce04dcc-47f7-46a3-8b6c-b4add6cddc6f",
   "metadata": {},
   "source": [
    "<h1 style=\"color: #FF7F00; font-weight: bold; text-align: center;\">LISTA 4 - JUMP START</h1>\n",
    "<h3 style=\"font-style: italic; text-align: center;\">Estruturas de decisão</h3>\n",
    "<p style=\"font-style: italic; text-align: center;\">Realizado por Nayara de Oliveira Brabo</p>"
   ]
  },
  {
   "cell_type": "markdown",
   "id": "547b9df5-a501-4828-8a30-66d1a3d3c83c",
   "metadata": {},
   "source": [
    "----"
   ]
  },
  {
   "cell_type": "markdown",
   "id": "e47b5d9e-ffb4-4655-92be-23b12b8b95e5",
   "metadata": {},
   "source": [
    "<h3 style=\"color: #FF7F00; font-weight: bold;\">EXERCÍCIO 1</h3>"
   ]
  },
  {
   "cell_type": "markdown",
   "id": "71f770cf-2365-4789-abc8-938a4cb58e99",
   "metadata": {},
   "source": [
    "##### Faça um programa com uma função que necessite de três argumentos, e que forneça a soma desses três argumentos. "
   ]
  },
  {
   "cell_type": "code",
   "execution_count": 1,
   "id": "d211a0cd-e648-47a4-8b98-48ce2a8b3847",
   "metadata": {},
   "outputs": [],
   "source": [
    "def soma3 (n1, n2, n3):\n",
    "    return n1 + n2 + n3"
   ]
  },
  {
   "cell_type": "code",
   "execution_count": 2,
   "id": "b4716384-0ac7-4227-bc87-7e61461848d6",
   "metadata": {},
   "outputs": [
    {
     "name": "stdin",
     "output_type": "stream",
     "text": [
      "Digite o preço do primeiro produto (pode usar vírgula): R$  25,60\n",
      "Digite o preço do primeiro produto (pode usar vírgula): R$  24,39\n",
      "Digite o preço do primeiro produto (pode usar vírgula): R$  2,2\n"
     ]
    },
    {
     "name": "stdout",
     "output_type": "stream",
     "text": [
      "\n",
      "----------------------------------------\n",
      "| Produto            |           Preço |\n",
      "----------------------------------------\n",
      "| Produto 1          |        R$ 25,60 |\n",
      "| Produto 2          |        R$ 24,39 |\n",
      "| Produto 3          |         R$ 2,20 |\n",
      "----------------------------------------\n",
      "| Total              | \u001b[1;42m       R$ 52,19\u001b[0m |\n",
      "----------------------------------------\n"
     ]
    }
   ],
   "source": [
    "import locale\n",
    "\n",
    "# Define a localidade para a formatação do salário (Brasil, por exemplo)\n",
    "locale.setlocale(locale.LC_ALL, 'pt_BR.UTF-8')\n",
    "\n",
    "precos = []\n",
    "i = 0\n",
    "\n",
    "while i < 3:\n",
    "    preco = input('Digite o preço do primeiro produto (pode usar vírgula): R$ ')\n",
    "    preco = preco.replace(',', '.')  # Substitui vírgula por ponto\n",
    "\n",
    "    try:\n",
    "        preco = float(preco)\n",
    "        if preco < 0:\n",
    "            print('\\n\\033[1;91mPREÇO INVÁLIDO. TEM QUE SER MAIOR QUE 0.TENTE NOVAMENTE.\\033[0m\\n')\n",
    "        else:\n",
    "            precos.append(preco)\n",
    "            i+=1\n",
    "    except ValueError:\n",
    "        print('\\n\\033[1;91mPOR FAVOR, INSIRA UM VALOR VÁLIDO.\\033[0m\\n')\n",
    "\n",
    "\n",
    "# Calcula a soma usando a função\n",
    "preco_total = soma3(precos[0], precos[1], precos[2])\n",
    "\n",
    "# Formata os preços e o total para a saída\n",
    "precos_formatados = [locale.currency(preco, grouping=True) for preco in precos]\n",
    "preco_total_formatado = locale.currency(preco_total, grouping=True)\n",
    "\n",
    "# Cria a tabela e exibe usando print\n",
    "print('\\n' + '-' * 40)\n",
    "print(f'| {\"Produto\":<18} | {\"Preço\":>15} |')\n",
    "print('-' * 40)\n",
    "\n",
    "for i, preco in enumerate(precos_formatados):\n",
    "    print(f'| {\"Produto \" + str(i+1):<18} | {preco:>15} |')\n",
    "\n",
    "print('-' * 40)\n",
    "print(f'| {\"Total\":<18} | \\033[1;42m{preco_total_formatado:>15}\\033[0m |')\n",
    "print('-' * 40)"
   ]
  },
  {
   "cell_type": "markdown",
   "id": "144af743-c06b-4834-bcf0-10df6ff361f3",
   "metadata": {},
   "source": [
    "----"
   ]
  },
  {
   "cell_type": "markdown",
   "id": "f9e814ff-5766-4b90-833f-b2c54791e2df",
   "metadata": {},
   "source": [
    "<h3 style=\"color: #FF7F00; font-weight: bold;\">EXERCÍCIO 2</h3>\n",
    "\n",
    "##### Faça um programa, com uma função que necessite de um argumento. A função retorna o valor de caractere ‘P’, se seu argumento for positivo, e ‘N’, se seu argumento for zero ou negativo. "
   ]
  },
  {
   "cell_type": "code",
   "execution_count": 4,
   "id": "8aed4989-a463-46b7-a245-5685ce5b0d1f",
   "metadata": {},
   "outputs": [],
   "source": [
    "def num(n1):\n",
    "    if n1 > 0:\n",
    "        valor = 'P'\n",
    "    elif n1 < 0:\n",
    "        valor = 'N'\n",
    "    else:\n",
    "        valor ='Valor zerado'\n",
    "    return valor"
   ]
  },
  {
   "cell_type": "code",
   "execution_count": 5,
   "id": "08c2c083-6f6c-43c9-a2f9-0c5eb1eb8080",
   "metadata": {},
   "outputs": [
    {
     "name": "stdin",
     "output_type": "stream",
     "text": [
      "DIGITE UM NÚMERO:  2\n"
     ]
    },
    {
     "name": "stdout",
     "output_type": "stream",
     "text": [
      "\n",
      "N1: 2 --> P\n"
     ]
    }
   ],
   "source": [
    "#Pedindo o n1\n",
    "while True:\n",
    "    try:\n",
    "        n1 = int(input('DIGITE UM NÚMERO: '))\n",
    "        break\n",
    "    except ValueError:\n",
    "        print('\\n\\033[1;91mPOR FAVOR, INSIRA UM VALOR VÁLIDO.\\033[0m\\n')\n",
    "\n",
    "#Calculando\n",
    "print(f'\\nN1: {n1} -->',num(n1))"
   ]
  },
  {
   "cell_type": "markdown",
   "id": "6c582151-633d-4b65-bea4-867835a10d5b",
   "metadata": {},
   "source": [
    "----"
   ]
  },
  {
   "cell_type": "markdown",
   "id": "dcaf32f5-2fc0-41f3-a84a-765cacc28b03",
   "metadata": {},
   "source": [
    "<h3 style=\"color: #FF7F00; font-weight: bold;\">EXERCÍCIO 3</h3>\n",
    "\n",
    "##### Faça um programa com uma função chamada somaImposto. A função possui dois parâmetros formais: \n",
    "- **taxaImposto** --> que é a quantia de imposto sobre vendas expressa em porcentagem\n",
    "- **custo** --> que é o custo de um item antes do imposto.\n",
    "\n",
    "##### A função “altera” o valor de custo para incluir o imposto sobre vendas.\n"
   ]
  },
  {
   "cell_type": "code",
   "execution_count": 6,
   "id": "5b1b9369-d1d2-42ed-8499-545ef82ec382",
   "metadata": {},
   "outputs": [],
   "source": [
    "def somaImposto(taxaImposto, custo):\n",
    "    #cálculo do imposto.\n",
    "    custo_imposto = custo + (custo * taxaImposto / 100)\n",
    "    #retorno do resultado do imposto\n",
    "    return custo_imposto"
   ]
  },
  {
   "cell_type": "code",
   "execution_count": 7,
   "id": "cbddb001-b12d-4002-a718-40f164f814c4",
   "metadata": {},
   "outputs": [
    {
     "name": "stdin",
     "output_type": "stream",
     "text": [
      "DIGITE A QUANTIA DE IMPOSTO SOBRE A VENDA EM % (pode usar vírgula):  25,6\n",
      "DIGITE O CUSTO DO ITEM ANTES DO IMPOSTO (pode usar vírgula): R$ 100,00\n"
     ]
    },
    {
     "name": "stdout",
     "output_type": "stream",
     "text": [
      "\n",
      "CUSTO DO PRODUTO COM IMPOSTOS: \u001b[1m R$ 125.60\u001b[0m\n"
     ]
    }
   ],
   "source": [
    "while True:\n",
    "    taxaImposto = input('DIGITE A QUANTIA DE IMPOSTO SOBRE A VENDA EM % (pode usar vírgula): ')\n",
    "    taxaImposto = taxaImposto.replace(',', '.') # Substitui vírgula por ponto\n",
    "    custo = input('DIGITE O CUSTO DO ITEM ANTES DO IMPOSTO (pode usar vírgula): R$')\n",
    "    custo = custo.replace(',', '.')  # Substitui vírgula por ponto\n",
    "    \n",
    "    try:\n",
    "        custo = float(custo)\n",
    "        taxaImposto = float(taxaImposto)\n",
    "        if custo > 0 and taxaImposto > 0:\n",
    "            break\n",
    "        else:\n",
    "            print('\\n\\033[1;91mVALORES INVÁLIDOS. TEM QUE SER MAIOR QUE 0.TENTE NOVAMENTE.\\033[0m\\n')\n",
    "    except ValueError:\n",
    "        print('\\n\\033[1;91mPOR FAVOR, INSIRA UM VALOR VÁLIDO.\\033[0m\\n')\n",
    "\n",
    "valor_final = somaImposto(taxaImposto, custo)\n",
    "\n",
    "\n",
    "print(f'\\nCUSTO DO PRODUTO COM IMPOSTOS: \\033[1m R$ {valor_final:.2f}\\033[0m')"
   ]
  },
  {
   "cell_type": "markdown",
   "id": "850c5b3a-765f-4b63-8100-ed1ac3bc9dbc",
   "metadata": {},
   "source": [
    "---"
   ]
  },
  {
   "cell_type": "markdown",
   "id": "24d5e3ef-8d2f-4ed6-86eb-fa13918e5826",
   "metadata": {},
   "source": [
    "<h3 style=\"color: #FF7F00; font-weight: bold;\">EXERCÍCIO 4</h3>\n",
    "\n",
    "##### Faça um programa que converta da notação de 24 horas para a notação de 12 horas. Por exemplo, o programa deve converter 14:25 em 2:25 P.M. A entrada é dada em dois inteiros. Deve haver pelo menos duas funções: uma para fazer a conversão e uma para a saída. Registre a informação A.M./P.M. como um valor ‘A’ para A.M. e ‘P’ para P.M. Assim, a função para efetuar as conversões terá um parâmetro formal para registrar se é A.M. ou P.M. Inclua um loop que permita que o usuário repita esse cálculo para novos valores de entrada todas as vezes que desejar.\n"
   ]
  },
  {
   "cell_type": "code",
   "execution_count": 8,
   "id": "1430424c-b767-477a-97bc-e60e429c5e79",
   "metadata": {},
   "outputs": [],
   "source": [
    "def converter_24_para_12(horas, minutos):\n",
    "    if horas == 0:\n",
    "        horas_12 = 12\n",
    "        periodo = 'A'\n",
    "    elif 1 <= horas < 12:\n",
    "        horas_12 = horas\n",
    "        periodo = 'A'\n",
    "    elif horas == 12:\n",
    "        horas_12 = 12\n",
    "        periodo = 'P'\n",
    "    else:\n",
    "        horas_12 = horas - 12\n",
    "        periodo = 'P'\n",
    "    \n",
    "    return horas_12, minutos, periodo\n",
    "\n",
    "def exibir_hora(horas_12, minutos, periodo):\n",
    "    periodo_str = 'A.M.' if periodo == 'A' else 'P.M.'\n",
    "    print(f\"{horas_12}:{minutos:02d} {periodo_str}\")"
   ]
  },
  {
   "cell_type": "code",
   "execution_count": 14,
   "id": "12767610-737f-4d8f-951e-f33f1aa77874",
   "metadata": {},
   "outputs": [
    {
     "name": "stdin",
     "output_type": "stream",
     "text": [
      "Digite as horas (0-23):  22\n",
      "Digite os minutos (0-59):  36\n"
     ]
    },
    {
     "name": "stdout",
     "output_type": "stream",
     "text": [
      "\n",
      "-- HORA FORMATADA --\n",
      "10:36 P.M.\n",
      "--------------------\n"
     ]
    },
    {
     "name": "stdin",
     "output_type": "stream",
     "text": [
      "Deseja converter outra hora? (s/n):  n\n"
     ]
    }
   ],
   "source": [
    "while True:\n",
    "    try:\n",
    "        horas = int(input(\"Digite as horas (0-23): \"))\n",
    "        minutos = int(input(\"Digite os minutos (0-59): \"))\n",
    "        \n",
    "        if 0 <= horas <= 23 and 0 <= minutos <= 59:\n",
    "            horas_12, minutos, periodo = converter_24_para_12(horas, minutos)\n",
    "            \n",
    "            print('\\n'+' HORA FORMATADA '.center(20,'-'))\n",
    "            exibir_hora(horas_12, minutos, periodo)\n",
    "            print('-'*20)\n",
    "        else:\n",
    "            print('\\n\\033[1;91mVALORES INVÁLIDOS. HORAS OU MINUTOS FORA DO INTERVALO PERMITIDO.\\033[0m\\n')\n",
    "    except ValueError:\n",
    "        print('\\n\\033[1;91mVALORES INVÁLIDOS. POR FAVOR INSIRA NÚMERO INTEIROS PARA AS HORAS E OS MINUTOS.\\033[0m\\n')\n",
    "    \n",
    "    repetir = input(\"Deseja converter outra hora? (s/n): \").lower()\n",
    "    if repetir != 's':\n",
    "        break"
   ]
  },
  {
   "cell_type": "markdown",
   "id": "09919849-0a5d-4334-a632-76dd320e428e",
   "metadata": {},
   "source": [
    "---"
   ]
  },
  {
   "cell_type": "markdown",
   "id": "63d9e13f-0ed9-4cf2-88a9-df6b57f85273",
   "metadata": {},
   "source": [
    "<h3 style=\"color: #FF7F00; font-weight: bold;\">EXERCÍCIO 5</h3>\n",
    "\n",
    "##### Faça uma função que informe a quantidade de dígitos de um determinado número inteiro informado.\n"
   ]
  },
  {
   "cell_type": "code",
   "execution_count": 9,
   "id": "139a68c7-e81e-4c6d-b7d2-3aa971235080",
   "metadata": {},
   "outputs": [],
   "source": [
    "def qtd_digitos(n):\n",
    "    return len(str(n))"
   ]
  },
  {
   "cell_type": "code",
   "execution_count": 10,
   "id": "164075fe-5a54-473c-86fd-b5b84187e0d4",
   "metadata": {},
   "outputs": [
    {
     "name": "stdin",
     "output_type": "stream",
     "text": [
      "DIGITE UM NÚMERO INTEIRO:  963\n"
     ]
    },
    {
     "name": "stdout",
     "output_type": "stream",
     "text": [
      "\n",
      "963 --> 3 dígitos\n"
     ]
    }
   ],
   "source": [
    "while True:\n",
    "    try:\n",
    "        n1 = int(input('DIGITE UM NÚMERO INTEIRO: '))\n",
    "        break\n",
    "    except ValueError:\n",
    "        print('\\n\\033[1;91mPOR FAVOR, INSIRA UM VALOR VÁLIDO.\\033[0m\\n')\n",
    "\n",
    "#Calculando\n",
    "print(f'\\n{n1} -->',qtd_digitos(n1), 'dígitos')"
   ]
  },
  {
   "cell_type": "markdown",
   "id": "2c2e230d-5349-44ba-8701-520a948ece17",
   "metadata": {},
   "source": [
    "----"
   ]
  },
  {
   "cell_type": "markdown",
   "id": "9b66fc43-0e84-464e-8eb4-397cbf29df8e",
   "metadata": {},
   "source": [
    "<h3 style=\"color: #FF7F00; font-weight: bold;\">EXERCÍCIO 6</h3>\n",
    "\n",
    "##### Faça uma função que retorne o reverso de um número inteiro informado. Por exemplo: 127 -> 721."
   ]
  },
  {
   "cell_type": "code",
   "execution_count": 11,
   "id": "915ced65-eeff-485c-9343-aed6cd70ac23",
   "metadata": {},
   "outputs": [],
   "source": [
    "def reverso(n):\n",
    " txt = str(n)\n",
    " reverso = txt[::-1] # sequencia[inicio:fim:passo]\n",
    " return int(reverso)"
   ]
  },
  {
   "cell_type": "code",
   "execution_count": 12,
   "id": "495793f1-75df-428b-a5ac-4bfeb66863f7",
   "metadata": {},
   "outputs": [
    {
     "name": "stdin",
     "output_type": "stream",
     "text": [
      "DIGITE UM NÚMERO INTEIRO:  12365\n"
     ]
    },
    {
     "name": "stdout",
     "output_type": "stream",
     "text": [
      "\n",
      "12365 ao contrário --> 56321\n"
     ]
    }
   ],
   "source": [
    "while True:\n",
    "    try:\n",
    "        n1 = int(input('DIGITE UM NÚMERO INTEIRO: '))\n",
    "        break\n",
    "    except ValueError:\n",
    "        print('\\n\\033[1;91mPOR FAVOR, INSIRA UM VALOR VÁLIDO.\\033[0m\\n')\n",
    "\n",
    "#Calculando\n",
    "print(f'\\n{n1} ao contrário -->',reverso(n1))"
   ]
  },
  {
   "cell_type": "markdown",
   "id": "0a20dcc3-0bd3-42fe-8701-95a8d95d5627",
   "metadata": {},
   "source": [
    "----"
   ]
  },
  {
   "cell_type": "markdown",
   "id": "c3fd183a-420e-4b76-8065-a476f353fa02",
   "metadata": {},
   "source": [
    "<h3 style=\"color: #FF7F00; font-weight: bold;\">EXERCÍCIO 7</h3>\n",
    "\n",
    "##### Construa uma função que receba uma data no formato DD/MM/AAAA e devolva uma string no formato D de mesPorExtenso de AAAA. Opcionalmente, valide a data e retorne NULL caso a data seja inválida.\n",
    "\n",
    "### Observações:\n",
    "##### O método strptime analisa a string date_string de acordo com o format fornecido e retorna um objeto datetime correspondente. Se a string não corresponder ao formato especificado, um ValueError será levantado.\n",
    "\n",
    "##### Exemplos Comuns de Formatos\n",
    "- %d: Dia do mês como zero-padded decimal number (01, 02, ..., 31)\n",
    "- %m: Mês como zero-padded decimal number (01, 02, ..., 12)\n",
    "- %Y: Ano com século como decimal number (0001, 0002, ..., 2013, 2014, ..., 9999)\n",
    "- %H: Hora (00-23)\n",
    "- %M: Minuto (00-59)\n",
    "- %S: Segundo (00-59)"
   ]
  },
  {
   "cell_type": "code",
   "execution_count": 13,
   "id": "f56890e9-0f85-40c1-8848-144d72859ab8",
   "metadata": {},
   "outputs": [
    {
     "name": "stdin",
     "output_type": "stream",
     "text": [
      "DIGITE UMA DATA:  30-09-1999\n"
     ]
    },
    {
     "name": "stdout",
     "output_type": "stream",
     "text": [
      "\n",
      "-------------------- DATA -------------------\n",
      "| \u001b[1m   Quinta-feira, 30 de setembro de 1999  \u001b[0m |\n",
      "---------------------------------------------\n"
     ]
    }
   ],
   "source": [
    "import datetime\n",
    "import locale\n",
    "\n",
    "# Configurar a localização para português\n",
    "locale.setlocale(locale.LC_TIME, 'pt_BR.UTF-8')\n",
    "\n",
    "def data_por_extenso(data):\n",
    "    try:\n",
    "        data = data.replace('-', '/')\n",
    "        # Estou chamando o módulo datetime, a classe datetime e o método strptime\n",
    "        data = datetime.datetime.strptime(data, '%d/%m/%Y') #  strptime significa \"string parse time\" \n",
    "    except ValueError:\n",
    "        return None\n",
    "\n",
    "    # o .day .month e .year são propriedades dos objetos da classe datetime (e date)\n",
    "    dia_extenso = data.strftime('%A')\n",
    "    dia = data.day\n",
    "    mes = data.strftime('%B')\n",
    "    ano = data.year\n",
    "\n",
    "    data_extenso = f\"{dia_extenso.capitalize()}, {dia} de {mes} de {ano}\"\n",
    "    return data_extenso\n",
    "\n",
    "data = input('DIGITE UMA DATA: ')\n",
    "print('\\n'+' DATA '.center(45,'-'))\n",
    "print('|',f'\\033[1m{data_por_extenso(data).center(41)}\\033[0m','|')\n",
    "print('-'*45)"
   ]
  },
  {
   "cell_type": "markdown",
   "id": "ad493621-067d-44d5-8886-7cb038390b7f",
   "metadata": {},
   "source": [
    "----"
   ]
  },
  {
   "cell_type": "markdown",
   "id": "d1c11c4e-0bcb-4be3-b7ab-cd8b238a2367",
   "metadata": {},
   "source": [
    "<h1 style=\"color: #120a8f; font-weight: bold; text-align: center;\">LISTA 5 - JUMP START</h1>\n",
    "<h3 style=\"font-style: italic; text-align: center;\">Estruturas sequenciais</h3>\n",
    "<p style=\"font-style: italic; text-align: center;\">Realizado por Nayara de Oliveira Brabo</p>"
   ]
  },
  {
   "cell_type": "markdown",
   "id": "bc479817-33ac-4889-9626-379c70a4d3cd",
   "metadata": {},
   "source": [
    "---"
   ]
  },
  {
   "cell_type": "markdown",
   "id": "f722a84e-bc92-4302-b1fe-cd9d7189d2bf",
   "metadata": {},
   "source": [
    "<h3 style=\"color: #120a8f; font-weight: bold;\">EXERCÍCIO 1</h3>"
   ]
  },
  {
   "attachments": {},
   "cell_type": "markdown",
   "id": "a7b14cb1-77da-4283-9525-79c4d5d0d788",
   "metadata": {},
   "source": [
    "<p>Tamanho de strings. Faça um programa que leia 2 strings e informe o conteúdo delas seguido do seu comprimento. Informe também se as duas strings possuem o mesmo comprimento e são iguais ou diferentes no conteúdo.</p>\n"
   ]
  },
  {
   "cell_type": "code",
   "execution_count": 3,
   "id": "1c12348b-d389-45b8-a99a-978615bf8f41",
   "metadata": {},
   "outputs": [
    {
     "name": "stdin",
     "output_type": "stream",
     "text": [
      "Digite a 1º string:  Eu sou a Nayara\n",
      "Digite a 2º string:  Eu sou a Nayara\n"
     ]
    },
    {
     "name": "stdout",
     "output_type": "stream",
     "text": [
      "\n",
      "---------------------------------------------------------------------------------\n",
      "| TEXTOS            |       Eu sou a Nayara       |       Eu sou a Nayara       |\n",
      "---------------------------------------------------------------------------------\n",
      "| TAMANHO           |             15              |             15              |\n",
      "---------------------------------------------------------------------------------\n",
      "| SITUAÇÃO TAMANHO  |                     MESMO COMPRIMENTO                     |\n",
      "---------------------------------------------------------------------------------\n",
      "| CONTEÚDO          |                      CONTEÚDO IGUAL                       |\n",
      "---------------------------------------------------------------------------------\n"
     ]
    }
   ],
   "source": [
    "# Leitura das strings\n",
    "str1 = input(\"Digite a 1º string: \")\n",
    "str2 = input(\"Digite a 2º string: \")\n",
    "\n",
    "# Imprime os resultados em formato de tabela\n",
    "print('\\n'+'-'*81)\n",
    "print(f'| {\"TEXTOS\":<18}|{str1:^29}|{str2:^29}|')\n",
    "print('-'*81)\n",
    "print(f'| {\"TAMANHO\":<18}|{len(str1):^29}|{len(str2):^29}|')\n",
    "print('-'*81)\n",
    "print(f'| {\"SITUAÇÃO TAMANHO\":<18}|{\"MESMO COMPRIMENTO\" if len(str1) == len(str2) else \"COMPRIMENTO DIFERENTE\":^59}|')\n",
    "print('-'*81)\n",
    "print(f'| {\"CONTEÚDO\":<18}|{\"CONTEÚDO IGUAL\" if str1 == str2 else \"CONTEÚDO DIFERENTE\":^59}|')\n",
    "print('-'*81)\n"
   ]
  },
  {
   "cell_type": "markdown",
   "id": "e259f1e5-a7cf-4811-9b01-1fe446e37739",
   "metadata": {},
   "source": [
    "-----"
   ]
  },
  {
   "cell_type": "markdown",
   "id": "c9fabde3-3ad4-448f-a35a-a46a425e0a07",
   "metadata": {},
   "source": [
    "<h3 style=\"color: #120a8f; font-weight: bold;\">EXERCÍCIO 2</h3>"
   ]
  },
  {
   "attachments": {},
   "cell_type": "markdown",
   "id": "149c6ec0-014d-4a6a-bf27-74f54552d336",
   "metadata": {},
   "source": [
    "<p>\n",
    "Faça um programa que permita ao usuário digitar o seu nome e em seguida mostre o nome do usuário de trás para frente utilizando somente letras maiúsculas.<br> Dica: lembre−se que ao informar o nome o usuário pode digitar letras maiúsculas ou minúsculas</p>"
   ]
  },
  {
   "cell_type": "code",
   "execution_count": 58,
   "id": "de3188dc-fa7e-41df-8a17-006010346ad0",
   "metadata": {},
   "outputs": [],
   "source": [
    "def reverso(nome):\n",
    " reverso = nome[::-1] # sequencia[inicio:fim:passo]\n",
    " return reverso"
   ]
  },
  {
   "cell_type": "code",
   "execution_count": 59,
   "id": "49f62033-3a1e-4c73-b740-3038813f2220",
   "metadata": {},
   "outputs": [
    {
     "name": "stdin",
     "output_type": "stream",
     "text": [
      "DIGITE SEU PRIMEIRO NOME nayara\n"
     ]
    },
    {
     "name": "stdout",
     "output_type": "stream",
     "text": [
      "\n",
      "NAYARA ao contrário --> ARAYAN\n"
     ]
    }
   ],
   "source": [
    "while True:\n",
    "    nome = input('DIGITE SEU PRIMEIRO NOME').upper()\n",
    "    if nome.isalpha():\n",
    "        break\n",
    "    else:\n",
    "        print('\\n\\033[1;91mPOR FAVOR, DIGITE APENAS O SEU PRIMEIRO NOME.\\033[0m\\n')\n",
    "\n",
    "#Calculando\n",
    "print(f'\\n{nome} ao contrário -->',reverso(nome))"
   ]
  },
  {
   "cell_type": "markdown",
   "id": "84f4626b-93d8-468a-a1ef-e13e88994bfd",
   "metadata": {},
   "source": [
    "----"
   ]
  },
  {
   "cell_type": "markdown",
   "id": "a70014f3-9a58-4637-8217-354073d8f670",
   "metadata": {},
   "source": [
    "<h3 style=\"color: #120a8f; font-weight: bold;\">EXERCÍCIO 3</h3>"
   ]
  },
  {
   "cell_type": "markdown",
   "id": "520482eb-677d-4392-ba24-25ca86da46a1",
   "metadata": {},
   "source": [
    "<p>Faça um programa que solicite o nome do usuário e imprima-o na vertical.</p>"
   ]
  },
  {
   "cell_type": "code",
   "execution_count": 60,
   "id": "2f3ae859-0f11-40da-b4f1-126cc1a952fb",
   "metadata": {},
   "outputs": [],
   "source": [
    "def vertical(nome):\n",
    "    for i in nome:\n",
    "        print(i)"
   ]
  },
  {
   "cell_type": "code",
   "execution_count": 68,
   "id": "4ab50c83-9cfb-4c63-b950-3a30aed5b34b",
   "metadata": {},
   "outputs": [
    {
     "name": "stdin",
     "output_type": "stream",
     "text": [
      "DIGITE SEU PRIMEIRO NOME nayara\n"
     ]
    },
    {
     "name": "stdout",
     "output_type": "stream",
     "text": [
      "\n",
      "---SEU NOME NA VERTICAL--\n",
      "N\n",
      "A\n",
      "Y\n",
      "A\n",
      "R\n",
      "A\n",
      "-------------------------\n"
     ]
    }
   ],
   "source": [
    "while True:\n",
    "    nome = input('DIGITE SEU PRIMEIRO NOME').upper()\n",
    "    if nome.isalpha():\n",
    "        break\n",
    "    else:\n",
    "        print('\\n\\033[1;91mPOR FAVOR, DIGITE APENAS O SEU PRIMEIRO NOME.\\033[0m\\n')\n",
    "\n",
    "#Calculando\n",
    "print('\\n'+'SEU NOME NA VERTICAL'.center(25, '-'))\n",
    "vertical(nome)\n",
    "print('-'*25)"
   ]
  },
  {
   "cell_type": "markdown",
   "id": "47510644-92f5-4261-99e4-6c9768521b0f",
   "metadata": {},
   "source": [
    "-----"
   ]
  },
  {
   "cell_type": "markdown",
   "id": "0bdc7723-ff09-455b-aa70-9a50f088ce64",
   "metadata": {},
   "source": [
    "<h3 style=\"color: #120a8f; font-weight: bold;\">EXERCÍCIO 4</h3>"
   ]
  },
  {
   "attachments": {},
   "cell_type": "markdown",
   "id": "fa1ab60d-e4e6-4e52-8c24-eb801ee29186",
   "metadata": {},
   "source": [
    "<p>Modifique o programa anterior de forma a mostrar o nome em formato de escada.</p>"
   ]
  },
  {
   "cell_type": "code",
   "execution_count": 70,
   "id": "9bf6acbc-648d-4b40-913d-744053a91344",
   "metadata": {},
   "outputs": [],
   "source": [
    "def escada(nome):\n",
    "    escada = ''\n",
    "    for i in nome:\n",
    "        escada += i\n",
    "        print(escada)"
   ]
  },
  {
   "cell_type": "code",
   "execution_count": 72,
   "id": "f7b5a8f5-ce37-4a5b-9500-729b96a7ba62",
   "metadata": {},
   "outputs": [
    {
     "name": "stdin",
     "output_type": "stream",
     "text": [
      "DIGITE SEU PRIMEIRO NOME nayara\n"
     ]
    },
    {
     "name": "stdout",
     "output_type": "stream",
     "text": [
      "\n",
      "----SEU NOME EM ESCADA---\n",
      "N\n",
      "NA\n",
      "NAY\n",
      "NAYA\n",
      "NAYAR\n",
      "NAYARA\n",
      "-------------------------\n"
     ]
    }
   ],
   "source": [
    "while True:\n",
    "    nome = input('DIGITE SEU PRIMEIRO NOME').upper()\n",
    "    if nome.isalpha():\n",
    "        break\n",
    "    else:\n",
    "        print('\\n\\033[1;91mPOR FAVOR, DIGITE APENAS O SEU PRIMEIRO NOME.\\033[0m\\n')\n",
    "\n",
    "#Calculando\n",
    "print('\\n'+'SEU NOME EM ESCADA'.center(25, '-'))\n",
    "escada(nome)\n",
    "print('-'*25)"
   ]
  },
  {
   "cell_type": "markdown",
   "id": "6aa49d70-a522-4ca0-8780-2b0147baaacc",
   "metadata": {},
   "source": [
    "-----"
   ]
  },
  {
   "cell_type": "markdown",
   "id": "069a897f-fbbf-47a5-ac3e-cd89236c8499",
   "metadata": {},
   "source": [
    "<h3 style=\"color: #120a8f; font-weight: bold;\">EXERCÍCIO 5</h3>"
   ]
  },
  {
   "attachments": {},
   "cell_type": "markdown",
   "id": "eba7fe5e-735e-4625-9eaf-f4b00374e7b0",
   "metadata": {},
   "source": [
    "<p>Altera o programa anterior de modo que a escada seja invertida.</p>"
   ]
  },
  {
   "cell_type": "code",
   "execution_count": 80,
   "id": "ed9ca99d-18e2-4771-a3f0-e10bfe068dc5",
   "metadata": {},
   "outputs": [],
   "source": [
    "def escada_invertida(nome):\n",
    "    escada = ''\n",
    "    escada_invertida = ''\n",
    "    for letra in nome:\n",
    "        escada += letra\n",
    "    for i in range(len(nome)):\n",
    "        escada_invertida = escada[0:len(nome)-i]\n",
    "        print(escada_invertida) "
   ]
  },
  {
   "cell_type": "code",
   "execution_count": 81,
   "id": "f37fbbb3-9f76-4694-a879-31dc0236384d",
   "metadata": {},
   "outputs": [
    {
     "name": "stdin",
     "output_type": "stream",
     "text": [
      "DIGITE SEU PRIMEIRO NOME nayara\n"
     ]
    },
    {
     "name": "stdout",
     "output_type": "stream",
     "text": [
      "\n",
      "----SEU NOME EM ESCADA---\n",
      "NAYARA\n",
      "NAYAR\n",
      "NAYA\n",
      "NAY\n",
      "NA\n",
      "N\n",
      "-------------------------\n"
     ]
    }
   ],
   "source": [
    "while True:\n",
    "    nome = input('DIGITE SEU PRIMEIRO NOME').upper()\n",
    "    if nome.isalpha():\n",
    "        break\n",
    "    else:\n",
    "        print('\\n\\033[1;91mPOR FAVOR, DIGITE APENAS O SEU PRIMEIRO NOME.\\033[0m\\n')\n",
    "\n",
    "#Calculando\n",
    "print('\\n'+'SEU NOME EM ESCADA'.center(25, '-'))\n",
    "escada_invertida(nome)\n",
    "print('-'*25)"
   ]
  },
  {
   "cell_type": "markdown",
   "id": "ad8f7dc6-d819-4495-a492-08e30a5fb7f1",
   "metadata": {},
   "source": [
    "----"
   ]
  },
  {
   "cell_type": "markdown",
   "id": "e23a64b3-93ae-4bcf-ba0b-651e9d25747a",
   "metadata": {},
   "source": [
    "<h3 style=\"color: #120a8f; font-weight: bold;\">EXERCÍCIO 6</h3>"
   ]
  },
  {
   "attachments": {},
   "cell_type": "markdown",
   "id": "b36b2f31-3cc4-4c09-872a-1992316ed97e",
   "metadata": {},
   "source": [
    "<p>Faça um programa que solicite a data de nascimento (dd/mm/aaaa) do usuário e imprima a data com o nome do mês por extenso.</p>"
   ]
  },
  {
   "cell_type": "code",
   "execution_count": 82,
   "id": "176d6b81-8a67-44ca-896f-dd00ff53b99b",
   "metadata": {},
   "outputs": [
    {
     "name": "stdin",
     "output_type": "stream",
     "text": [
      "DIGITE SUA DATA DE NASCIMENTO:  30-09-1999\n"
     ]
    },
    {
     "name": "stdout",
     "output_type": "stream",
     "text": [
      "\n",
      "------------- DATA DE NASCIMENTO ------------\n",
      "| \u001b[1m          30 de setembro de 1999         \u001b[0m |\n",
      "---------------------------------------------\n"
     ]
    }
   ],
   "source": [
    "import datetime\n",
    "import locale\n",
    "\n",
    "# Configurar a localização para português\n",
    "locale.setlocale(locale.LC_TIME, 'pt_BR.UTF-8')\n",
    "\n",
    "def data_por_extenso(data):\n",
    "    try:\n",
    "        data = data.replace('-', '/')\n",
    "        # Estou chamando o módulo datetime, a classe datetime e o método strptime\n",
    "        data = datetime.datetime.strptime(data, '%d/%m/%Y') #  strptime significa \"string parse time\" \n",
    "    except ValueError:\n",
    "        return None\n",
    "\n",
    "    # o .day .month e .year são propriedades dos objetos da classe datetime (e date)\n",
    "    dia = data.day\n",
    "    mes = data.strftime('%B')\n",
    "    ano = data.year\n",
    "\n",
    "    data_extenso = f\" {dia} de {mes} de {ano}\"\n",
    "    return data_extenso\n",
    "\n",
    "data = input('DIGITE SUA DATA DE NASCIMENTO: ')\n",
    "print('\\n'+' DATA DE NASCIMENTO '.center(45,'-'))\n",
    "print('|',f'\\033[1m{data_por_extenso(data).center(41)}\\033[0m','|')\n",
    "print('-'*45)"
   ]
  },
  {
   "cell_type": "markdown",
   "id": "e9cf2c98-7f24-4df0-bf7f-799ed6ddf21b",
   "metadata": {},
   "source": [
    "-----"
   ]
  },
  {
   "cell_type": "markdown",
   "id": "aea17d89-8d73-4a96-8722-17f032504310",
   "metadata": {},
   "source": [
    "<h3 style=\"color: #120a8f; font-weight: bold;\">EXERCÍCIO 7</h3>"
   ]
  },
  {
   "attachments": {},
   "cell_type": "markdown",
   "id": "12096df1-f975-4f82-9dd0-84a8e7b62fdd",
   "metadata": {},
   "source": [
    "<p>Dado uma string com uma frase informada pelo usuário (incluindo espaços em branco), conte:</p>\n",
    "\n",
    "    a. Quantos espaços em branco existem na frase.\n",
    "    b. Quantas vezes aparecem as vogais a, e, i, o, u.\n"
   ]
  },
  {
   "cell_type": "code",
   "execution_count": 89,
   "id": "dad916dd-4874-4a43-88b3-96be611fcbac",
   "metadata": {},
   "outputs": [
    {
     "name": "stdin",
     "output_type": "stream",
     "text": [
      "Digite uma frase:  232323jhhjhgjh fhsxhwqbyjhumol,ç\n"
     ]
    },
    {
     "name": "stdout",
     "output_type": "stream",
     "text": [
      "\n",
      "Existem 1 espaços em braco na frase.\n",
      "A:  0 \n",
      "E:  0 \n",
      "I:  0 \n",
      "O:  1 \n",
      "U:  1\n"
     ]
    }
   ],
   "source": [
    "frase = str(input('Digite uma frase: ')).lower()\n",
    "\n",
    "espacos_branco = frase.count(' ')\n",
    "\n",
    "vogais = []\n",
    "for i in range(len(frase)):\n",
    "    if frase[i] in ['a', 'e', 'i', 'o', 'u']:\n",
    "        vogais.append(frase[i])\n",
    "    else:\n",
    "        continue\n",
    "        \n",
    "print('\\nExistem', espacos_branco, 'espaços em braco na frase.')\n",
    "print('A: ', vogais.count('a'), '\\nE: ', vogais.count('e'), '\\nI: ', vogais.count('i'), '\\nO: ', vogais.count('o'), '\\nU: ', vogais.count('u'))"
   ]
  },
  {
   "cell_type": "markdown",
   "id": "0d445ec8-ad69-4bf6-b747-917b9c2d9c2a",
   "metadata": {},
   "source": [
    "----"
   ]
  },
  {
   "cell_type": "markdown",
   "id": "e3dd99d1-5aec-45ff-be72-66955cb4744b",
   "metadata": {},
   "source": [
    "<h3 style=\"color: #120a8f; font-weight: bold;\">EXERCÍCIO 8</h3>"
   ]
  },
  {
   "attachments": {},
   "cell_type": "markdown",
   "id": "bd17eb97-81d9-41ea-a01a-c9ce908228e9",
   "metadata": {},
   "source": [
    "<p>Desenvolva um programa que solicite a digitação de um número de CPF no formato xxx.xxx.xxx-xx e indique se é um número válido ou inválido através da validação dos dígitos verificadores e dos caracteres de formatação.\n",
    "</p>"
   ]
  },
  {
   "cell_type": "code",
   "execution_count": 2,
   "id": "d4dfef69-85fa-4758-81e8-75c16a6406c0",
   "metadata": {},
   "outputs": [
    {
     "name": "stdin",
     "output_type": "stream",
     "text": [
      "Insira seu CPF no seguinte formato: [xxx.xxx.xxx-xx]:  123.654.789-99\n"
     ]
    },
    {
     "name": "stdout",
     "output_type": "stream",
     "text": [
      "\n",
      "\u001b[1;92mO CPF 123.654.789-99 ESTÁ CORRETO!\u001b[0m\n"
     ]
    }
   ],
   "source": [
    "while True:\n",
    "    \n",
    "    cpf = str(input('Insira seu CPF no seguinte formato: [xxx.xxx.xxx-xx]: '))\n",
    "    cpf_numeros = cpf.replace('.', '').replace('-', '')\n",
    "    \n",
    "    if not cpf_numeros.isdigit():\n",
    "        print('\\n\\033[1;91mCPF INCORRETO. POR FAVOR, DIGITE NOVAMENTE.\\033[0m\\n')\n",
    "        \n",
    "    elif cpf[3] != '.' or cpf[7] != '.' or cpf[11] != '-' or len(cpf) != 14:\n",
    "        print('\\n\\033[1;91mCPF INCORRETO. POR FAVOR, DIGITE NOVAMENTE.\\033[0m\\n')\n",
    "        \n",
    "    else:\n",
    "        print(f'\\n\\033[1;92mO CPF {cpf} ESTÁ CORRETO!\\033[0m')\n",
    "        break"
   ]
  },
  {
   "cell_type": "markdown",
   "id": "bcdcbc6f-cc0f-4b72-9f5e-fefbf497703b",
   "metadata": {},
   "source": [
    "-----"
   ]
  },
  {
   "cell_type": "markdown",
   "id": "3b34356c-6664-4c06-bc67-b98dfc2ceec8",
   "metadata": {},
   "source": [
    "<h3 style=\"color: #120a8f; font-weight: bold;\">EXERCÍCIO 9</h3>"
   ]
  },
  {
   "attachments": {},
   "cell_type": "markdown",
   "id": "121e7df8-3e1c-427e-9451-7bf07af25301",
   "metadata": {},
   "source": [
    "<p>Escreva um programa que solicite ao usuário a digitação de um número até 99 e imprima-o na tela por extenso.</p>"
   ]
  },
  {
   "cell_type": "code",
   "execution_count": 29,
   "id": "3b03c5ad-4bd2-47fd-8632-4859030905ff",
   "metadata": {},
   "outputs": [],
   "source": [
    "def num_extenso(num):\n",
    "    dicionario_numerico = {\n",
    "        0: 'zero', 1: 'um', 2: 'dois', 3: 'três', 4: 'quatro', 5: 'cinco', 6: 'seis', 7: 'sete', 8: 'oito', 9: 'nove', 10: 'dez',\n",
    "        11: 'onze', 12: 'doze', 13: 'treze', 14: 'quatorze', 15: 'quinze',16: 'dezesseis', 17: 'dezessete', 18: 'dezoito', 19: 'dezenove', 20: 'vinte',\n",
    "        30: 'trinta', 40: 'quarenta', 50: 'cinquenta', 60: 'sessenta', 70: 'setenta', 80: 'oitenta', 90: 'noventa',\n",
    "    }\n",
    "    if num < 0:\n",
    "        return f'menos {num_extenso(-num)}'\n",
    "    elif num in dicionario_numerico:\n",
    "        return dicionario_numerico[num]\n",
    "    else:\n",
    "        dezena = num // 10 * 10 # divisão de dois números e retorna o resultado como um número inteiro\n",
    "        unidade = num % 10 # retorna o resto da divisão de um número pelo outro\n",
    "        if unidade == 0:\n",
    "            return dicionario_numerico[dezena]\n",
    "        else:\n",
    "            return f\"{dicionario_numerico[dezena]} e {dicionario_numerico[unidade]}\""
   ]
  },
  {
   "cell_type": "code",
   "execution_count": 37,
   "id": "c7048f6f-0609-4838-b39a-60782fbf6f21",
   "metadata": {},
   "outputs": [
    {
     "name": "stdin",
     "output_type": "stream",
     "text": [
      "DIGITE UM NÚMERO INTEIRO ATÉ 99:  100\n"
     ]
    },
    {
     "name": "stdout",
     "output_type": "stream",
     "text": [
      "\n",
      "\u001b[1;91mVALOR INCORRETO. POR FAVOR, DIGITE NOVAMENTE.\u001b[0m\n",
      "\n"
     ]
    },
    {
     "name": "stdin",
     "output_type": "stream",
     "text": [
      "DIGITE UM NÚMERO INTEIRO ATÉ 99:  23\n"
     ]
    },
    {
     "name": "stdout",
     "output_type": "stream",
     "text": [
      "\n",
      "--- NÚMERO ------- NÚMERO POR EXTENSO -----\n",
      "|     23     | \u001b[1m       VINTE E TRÊS       \u001b[0m |\n",
      "-------------------------------------------\n"
     ]
    }
   ],
   "source": [
    "while True:\n",
    "    try:\n",
    "        num = int(input('DIGITE UM NÚMERO INTEIRO ATÉ 99: '))\n",
    "        if num > 99 or num < -99:\n",
    "            print('\\n\\033[1;91mVALOR INCORRETO. POR FAVOR, DIGITE NOVAMENTE.\\033[0m\\n')            \n",
    "        else:\n",
    "            break\n",
    "    except ValueError:\n",
    "        print('\\n\\033[1;91mVALOR INCORRETO. POR FAVOR, DIGITE UM NÚMERO INTEIRO ATÉ 99.\\033[0m\\n')\n",
    "\n",
    "print('\\n'+' NÚMERO '.center(13,'-')+' NÚMERO POR EXTENSO '.center(30,'-'))\n",
    "print('|',f'{num:^10}','|',f'\\033[1m{num_extenso(num).center(26).upper()}\\033[0m','|')\n",
    "print('-'*43)"
   ]
  },
  {
   "cell_type": "markdown",
   "id": "2f0ecf4a-9126-4cb9-bf31-a7717d06bb1b",
   "metadata": {},
   "source": [
    "---"
   ]
  },
  {
   "cell_type": "markdown",
   "id": "54d586d3-86f7-4234-b9c4-bbc604fa52f6",
   "metadata": {},
   "source": [
    "<h3 style=\"color: #120a8f; font-weight: bold;\">EXERCÍCIO 10</h3>"
   ]
  },
  {
   "attachments": {},
   "cell_type": "markdown",
   "id": "358cb365-55e3-46ae-9567-da6ef3ac7cdc",
   "metadata": {},
   "source": [
    "<p>Desenvolva um jogo da forca. O programa terá uma lista de palavras lidas de um arquivo texto e escolherá uma aleatoriamente. O jogador poderá errar 6 vezes antes de ser enforcado.\n",
    "</p\n",
    "\n",
    "![texto](forca.jpg)\n",
    "\n",
    "\n",
    "###### Os desenhos utilizados para o ganhador e perdedor do jogo e a forca foram pegos na internet"
   ]
  },
  {
   "cell_type": "markdown",
   "id": "54fd9458-c098-4cf5-ab01-7fcd9c8a7bb2",
   "metadata": {},
   "source": [
    "<h5>OBSERVAÇÕES</h5>\n",
    "<p>A expressão if __name__ == \"__main__\": é usada para colocar código que só deve ser executado quando o script é executado diretamente, e não quando é importado.</p>"
   ]
  },
  {
   "cell_type": "code",
   "execution_count": 2,
   "id": "cd128944-009f-40ed-bbba-3c736fabec70",
   "metadata": {},
   "outputs": [
    {
     "name": "stdout",
     "output_type": "stream",
     "text": [
      "=============================================\n",
      "         BEM VINDO AO JOGO DA FORCA!         \n",
      "============================================= \n",
      "\n",
      "['_', '_', '_', '_', '_', '_', '_', '_']\n",
      "\n",
      "\n"
     ]
    },
    {
     "name": "stdin",
     "output_type": "stream",
     "text": [
      "Qual letra?  a\n"
     ]
    },
    {
     "name": "stdout",
     "output_type": "stream",
     "text": [
      "\n",
      "\n",
      "['_', '_', '_', 'A', '_', '_', '_', 'A']\n",
      "\n",
      "\n"
     ]
    },
    {
     "name": "stdin",
     "output_type": "stream",
     "text": [
      "Qual letra?  m\n"
     ]
    },
    {
     "name": "stdout",
     "output_type": "stream",
     "text": [
      "\n",
      "\n",
      "['M', '_', '_', 'A', '_', '_', '_', 'A']\n",
      "\n",
      "\n"
     ]
    },
    {
     "name": "stdin",
     "output_type": "stream",
     "text": [
      "Qual letra?  n\n"
     ]
    },
    {
     "name": "stdout",
     "output_type": "stream",
     "text": [
      "\n",
      "\n",
      "['M', '_', '_', 'A', 'N', '_', '_', 'A']\n",
      "\n",
      "\n"
     ]
    },
    {
     "name": "stdin",
     "output_type": "stream",
     "text": [
      "Qual letra?  l\n"
     ]
    },
    {
     "name": "stdout",
     "output_type": "stream",
     "text": [
      "\n",
      "\n",
      "['M', '_', 'L', 'A', 'N', '_', '_', 'A']\n",
      "\n",
      "\n"
     ]
    },
    {
     "name": "stdin",
     "output_type": "stream",
     "text": [
      "Qual letra?  e\n"
     ]
    },
    {
     "name": "stdout",
     "output_type": "stream",
     "text": [
      "\n",
      "\n",
      "['M', 'E', 'L', 'A', 'N', '_', '_', 'A']\n",
      "\n",
      "\n"
     ]
    },
    {
     "name": "stdin",
     "output_type": "stream",
     "text": [
      "Qual letra?  i\n"
     ]
    },
    {
     "name": "stdout",
     "output_type": "stream",
     "text": [
      "\n",
      "\n",
      "['M', 'E', 'L', 'A', 'N', '_', 'I', 'A']\n",
      "\n",
      "\n"
     ]
    },
    {
     "name": "stdin",
     "output_type": "stream",
     "text": [
      "Qual letra?  k\n"
     ]
    },
    {
     "name": "stdout",
     "output_type": "stream",
     "text": [
      "\n",
      "\n",
      "=============================================\n",
      "\n",
      "\u001b[1;91mAinda faltam acertar 1 letras\u001b[0m\n",
      "Você ainda tem 6 tentativas\n",
      "\n",
      "\n",
      "  _______     \n",
      " |/      |    \n",
      " |      (_)   \n",
      " |            \n",
      " |            \n",
      " |            \n",
      " |            \n",
      "_|___         \n",
      "\n",
      "=============================================\n",
      "['M', 'E', 'L', 'A', 'N', '_', 'I', 'A']\n",
      "\n",
      "\n"
     ]
    },
    {
     "name": "stdin",
     "output_type": "stream",
     "text": [
      "Qual letra?  c\n"
     ]
    },
    {
     "name": "stdout",
     "output_type": "stream",
     "text": [
      "\n",
      "\n",
      "=============================================\n",
      "\n",
      "\u001b[1;92mPARABÉNS!! Você encontrou todas as letras formando a palavra \"MELANCIA\"\u001b[0m\n",
      "['M', 'E', 'L', 'A', 'N', 'C', 'I', 'A']\n",
      "\n",
      "\n",
      "\u001b[1;93mPARABENS!! VOCÊ GANHOU!!\u001b[0m\n",
      "\u001b[1;93m       ___________      \n",
      "      '._==_==_=_.'     \n",
      "      .-\\:      /-.    \n",
      "     | (|:.     |) |    \n",
      "      '-|:.     |-'     \n",
      "        \\::.    /      \n",
      "         '::. .'        \n",
      "           ) (          \n",
      "         _.' '._        \n",
      "        '-------'       \u001b[0m\n",
      "\n",
      "=============================================\n",
      "                 FIM DO JOGO                 \n",
      "============================================= \n",
      "\n"
     ]
    }
   ],
   "source": [
    "import random\n",
    "\n",
    "def random_palavra(): # abre o arquivo txt e escolhe a palavra através do random\n",
    "    palavras = []\n",
    "    with open('palavras.txt', 'r', encoding='utf-8') as arquivo:\n",
    "        for linha in arquivo:\n",
    "            linha = linha.strip()\n",
    "            palavras.append(linha)\n",
    "\n",
    "    numero = random.randrange(0, len(palavras))\n",
    "    palavra = palavras[numero].upper()\n",
    "    return palavra\n",
    "\n",
    "def mostra_espaco(palavra): # mostra a quantidade de letra para o jogador \n",
    "    return ['_' for letra in palavra]\n",
    "\n",
    "def pede_chute():\n",
    "    print('\\n')\n",
    "    chute = input('Qual letra? ')\n",
    "    chute = chute.strip().upper() # Tira os espaços vazios e deixa em maiuscula\n",
    "    print('\\n')\n",
    "    return chute\n",
    "\n",
    "def marca_acerto(chute, letras_acertadas, palavra): # marcador de acertos\n",
    "    index = 0\n",
    "    for letra in palavra:\n",
    "        if chute == letra:\n",
    "            letras_acertadas[index] = letra\n",
    "        index += 1\n",
    "\n",
    "def mensagem_vencedor():    # Mensagem para o vencedor \n",
    "    print('\\n\\n\\033[1;93mPARABENS!! VOCÊ GANHOU!!\\033[0m')\n",
    "    print('\\033[1;93m       ___________      ')\n",
    "    print('      \\'._==_==_=_.\\'     ')\n",
    "    print('      .-\\\\:      /-.    ')\n",
    "    print('     | (|:.     |) |    ')\n",
    "    print('      \\'-|:.     |-\\'     ')\n",
    "    print('        \\\\::.    /      ')\n",
    "    print('         \\'::. .\\'        ')\n",
    "    print('           ) (          ')\n",
    "    print('         _.\\' \\'._        ')\n",
    "    print('        \\'-------\\'       \\033[0m')\n",
    "\n",
    "def mensagem_perdedor(palavra): # Mensagem para o perdedor \n",
    "    print('\\n\\n\\033[1;91mPUXA! VOCÊ FOI ENFORCADO!\\033[0m')\n",
    "    print(f'A palavra era {palavra}')\n",
    "    print('\\033[1;91m    _______________         ')\n",
    "    print('   /               \\\\       ')\n",
    "    print('  /                 \\\\      ')\n",
    "    print('//                   \\\\//  ')\n",
    "    print('\\\\|   XXXX     XXXX   | /   ')\n",
    "    print(' |   XXXX     XXXX   |/     ')\n",
    "    print(' |   XXX       XXX   |      ')\n",
    "    print(' |                   |      ')\n",
    "    print(' \\\\__      XXX      __/     ')\n",
    "    print('   |\\\\     XXX     /|       ')\n",
    "    print('   | |           | |        ')\n",
    "    print('   | I I I I I I I |        ')\n",
    "    print('   |  I I I I I I  |        ')\n",
    "    print('   \\\\_             _/       ')\n",
    "    print('     \\\\_         _/         ')\n",
    "    print('       \\\\_______/           \\033[0m')\n",
    "\n",
    "def forca(erros): # Aqui desenha a forca conforme a quantidade de erros do jogador\n",
    "    print('\\n')\n",
    "    print('  _______     ')\n",
    "    print(' |/      |    ')\n",
    "\n",
    "    if erros == 1:\n",
    "        print(' |      (_)   ')\n",
    "        print(' |            ')\n",
    "        print(' |            ')\n",
    "        print(' |            ')\n",
    "\n",
    "    if erros == 2:\n",
    "        print(' |      (_)   ')\n",
    "        print(' |      \\\\     ')\n",
    "        print(' |            ')\n",
    "        print(' |            ')\n",
    "\n",
    "    if erros == 3:\n",
    "        print(' |      (_)   ')\n",
    "        print(' |      \\\\|    ')\n",
    "        print(' |            ')\n",
    "        print(' |            ')\n",
    "\n",
    "    if erros == 4:\n",
    "        print(' |      (_)   ')\n",
    "        print(' |      \\\\|/   ')\n",
    "        print(' |            ')\n",
    "        print(' |            ')\n",
    "\n",
    "    if erros == 5:\n",
    "        print(' |      (_)   ')\n",
    "        print(' |      \\\\|/   ')\n",
    "        print(' |       |    ')\n",
    "        print(' |            ')\n",
    "\n",
    "    if erros == 6:\n",
    "        print(' |      (_)   ')\n",
    "        print(' |      \\\\|/   ')\n",
    "        print(' |       |    ')\n",
    "        print(' |      /     ')\n",
    "\n",
    "    if erros == 7:\n",
    "        print(' |      (_)   ')\n",
    "        print(' |      \\\\|/   ')\n",
    "        print(' |       |    ')\n",
    "        print(' |      / \\\\   ')\n",
    "\n",
    "    print(' |            ')\n",
    "    print('_|___         ')\n",
    "    print()\n",
    "\n",
    "def jogar():\n",
    "     \n",
    "    print('='*45)\n",
    "    print('Bem vindo ao jogo da Forca!'.center(45).upper())\n",
    "    print('='*45,'\\n')\n",
    "\n",
    "    palavra = random_palavra()\n",
    "\n",
    "    letras_acertadas = mostra_espaco(palavra)\n",
    "\n",
    "    enforcou = False\n",
    "    acertou = False\n",
    "    erros = 0\n",
    "    letras_faltando = len(letras_acertadas)\n",
    "\n",
    "    print(letras_acertadas)\n",
    "    while not acertou and not enforcou:\n",
    "\n",
    "        chute = pede_chute()\n",
    "\n",
    "        if chute in palavra: # mensagem final para o ganhador \n",
    "            marca_acerto(chute, letras_acertadas, palavra)\n",
    "            letras_faltando = str(letras_acertadas.count('_'))\n",
    "            if letras_faltando == '0':\n",
    "                print('='*45)\n",
    "                print(f'\\n\\033[1;92mPARABÉNS!! Você encontrou todas as letras formando a palavra \"{palavra.upper()}\"\\033[0m')\n",
    "\n",
    "        else: # mensagem para quando o jogador erra \n",
    "            erros += 1\n",
    "            print('='*45)\n",
    "            print(f'\\n\\033[1;91mAinda faltam acertar {letras_faltando} letras\\033[0m')\n",
    "            print(f'Você ainda tem {7-erros} tentativas')\n",
    "            forca(erros)\n",
    "            print('='*45)\n",
    "\n",
    "        enforcou = erros == 7\n",
    "        acertou = '_' not in letras_acertadas\n",
    "\n",
    "        print(letras_acertadas)\n",
    "\n",
    "    if acertou:\n",
    "        mensagem_vencedor()\n",
    "    else:\n",
    "        mensagem_perdedor(palavra)\n",
    "\n",
    "    print('\\n'+'='*45)\n",
    "    print('FIM DO JOGO'.center(45).upper())\n",
    "    print('='*45,'\\n')\n",
    "\n",
    "if __name__ == '__main__':\n",
    "    jogar()\n"
   ]
  },
  {
   "cell_type": "markdown",
   "id": "88a0ca6e-dca6-47a0-b6d8-8aa60804311f",
   "metadata": {},
   "source": [
    "----"
   ]
  },
  {
   "cell_type": "markdown",
   "id": "fd345321-0fe8-4f86-ab0a-990fec00ccb7",
   "metadata": {},
   "source": [
    "<h3 style=\"color: #120a8f; font-weight: bold;\">EXERCÍCIO 11</h3>"
   ]
  },
  {
   "attachments": {},
   "cell_type": "markdown",
   "id": "33772e83-3441-4819-8e0b-f87757ff243f",
   "metadata": {},
   "source": [
    "<p>Faça um programa que leia um número de telefone, e corrija o número no caso deste conter somente 7 dígitos, acrescentando o '3' na frente. O usuário pode informar o número com ou sem o traço separador. </p>\n",
    "\n",
    "![texto](ex11.jpg)"
   ]
  },
  {
   "cell_type": "code",
   "execution_count": 45,
   "id": "4e8f77ff-b459-4deb-8c17-54bceb9e6e65",
   "metadata": {},
   "outputs": [],
   "source": [
    "def corrigir_tel(tel):\n",
    "    tel = str(tel)\n",
    "    digitos = len(tel)\n",
    "    if digitos == 7:\n",
    "        return '3'+tel, digitos\n",
    "    return tel, digitos"
   ]
  },
  {
   "cell_type": "code",
   "execution_count": 74,
   "id": "7cb55acf-9995-433b-ae3f-6453792b67ab",
   "metadata": {},
   "outputs": [
    {
     "name": "stdin",
     "output_type": "stream",
     "text": [
      "DIGITE O SEU TELEFONE:  32145689\n"
     ]
    },
    {
     "name": "stdout",
     "output_type": "stream",
     "text": [
      "==================================================\n",
      "         \u001b[1m CORREÇÃO DO NÚMERO DO TELEFONE \u001b[0m          \n",
      "==================================================\n",
      "TELEFONE: 3214-5689\n",
      "\n",
      "\u001b[1;92mTELEFONE JÁ POSSUI 8 DÍGITOS.\u001b[0m\n",
      "\n",
      "TELEFONE CORRIGIDO SEM FORMATAÇÃO: 32145689\n",
      "TELEFONE CORRIGIDO COM FORMATAÇÃO: 3214-5689\n",
      "==================================================\n"
     ]
    }
   ],
   "source": [
    "while True:\n",
    "    tel = input('DIGITE O SEU TELEFONE: ').replace('-', '')\n",
    "    \n",
    "    if len(tel) != 7 and len(tel) != 8:\n",
    "        print('\\n\\033[1;91mTELEFONE INCORRETO. POR FAVOR, DIGITE NOVAMENTE.\\033[0m\\n')    \n",
    "    elif not tel.isnumeric():\n",
    "        print('\\n\\033[1;91mTELEFONE INCORRETO. POR FAVOR, DIGITE APENAS NÚMEROS.\\033[0m\\n')\n",
    "    elif len(tel) == 8 and tel[0] != '3':\n",
    "        print('\\n\\033[1;91mTELEFONE INCORRETO. O TELEFONE COM 8 DÍGITOS TEM QUE COMEÇAR COM 3.\\033[0m\\n')\n",
    "    else:\n",
    "        break\n",
    "\n",
    "qtd_digitos = corrigir_tel(tel)[1] \n",
    "tel_novo = corrigir_tel(tel)[0] \n",
    "tel_novo_format = tel_novo[0:4] + '-' + tel_novo[4:]\n",
    "\n",
    "\n",
    "if qtd_digitos == 7:\n",
    "    tel = tel[0:3] + '-' + tel[3:]\n",
    "    print('='*50)\n",
    "    print ('\\33[1m CORREÇÃO DO NÚMERO DO TELEFONE \\33[0m '.center(59))\n",
    "    print('='*50)\n",
    "    \n",
    "    print(f'TELEFONE: {tel}')\n",
    "    print(f'\\n\\033[1;91mTELEFONE POSSUI {qtd_digitos} DÍGITOS. \\nVOU ACRESCENTAR O DIGITO 3 NA FRENTE.\\033[0m\\n')\n",
    "    print(f'TELEFONE CORRIGIDO SEM FORMATAÇÃO: {tel_novo}')\n",
    "    print(f'TELEFONE CORRIGIDO COM FORMATAÇÃO: {tel_novo_format}')\n",
    "    print('='*50)\n",
    "\n",
    "else:\n",
    "    tel = tel[0:4] + '-' + tel[4:]\n",
    "    print('='*50)\n",
    "    print ('\\33[1m CORREÇÃO DO NÚMERO DO TELEFONE \\33[0m '.center(59))\n",
    "    print('='*50)\n",
    "\n",
    "    print(f'TELEFONE: {tel}')\n",
    "    print(f'\\n\\033[1;92mTELEFONE JÁ POSSUI {qtd_digitos} DÍGITOS.\\033[0m\\n')\n",
    "    print(f'TELEFONE CORRIGIDO SEM FORMATAÇÃO: {tel_novo}')\n",
    "    print(f'TELEFONE CORRIGIDO COM FORMATAÇÃO: {tel_novo_format}')\n",
    "    print('='*50)\n"
   ]
  },
  {
   "cell_type": "markdown",
   "id": "893a8b69-884e-47aa-9976-6fef9e11b376",
   "metadata": {},
   "source": [
    "----"
   ]
  },
  {
   "cell_type": "markdown",
   "id": "c83668fb-cf67-4777-a2ce-f5a3cacccde8",
   "metadata": {},
   "source": [
    "<h3 style=\"color: #120a8f; font-weight: bold;\">EXERCÍCIO 12</h3>"
   ]
  },
  {
   "attachments": {},
   "cell_type": "markdown",
   "id": "da4b913c-4eb5-460a-a859-e7606c5e70ea",
   "metadata": {},
   "source": [
    "<p>Desenvolva um jogo em que o usuário tenha que adivinhar uma palavra que será mostrada com as letras embaralhadas. <br>O programa terá uma lista de palavras lidas de um arquivo texto e escolherá uma aleatoriamente. <br>O jogador terá seis tentativas para adivinhar a palavra. <br>Ao final a palavra deve ser mostrada na tela, informando se o usuário ganhou ou perdeu o jogo.\n",
    "</p>"
   ]
  },
  {
   "cell_type": "markdown",
   "id": "f5c421e5-c1d7-4b6e-8340-24b5aaf81afb",
   "metadata": {},
   "source": [
    "<h5>OBSERVAÇÕES</h5>\n",
    "<p>A expressão if __name__ == \"__main__\": é usada para colocar código que só deve ser executado quando o script é executado diretamente, e não quando é importado.</p>"
   ]
  },
  {
   "cell_type": "code",
   "execution_count": 94,
   "id": "9b2ef49f-704c-4f3c-b642-b9833db60f2b",
   "metadata": {},
   "outputs": [
    {
     "name": "stdout",
     "output_type": "stream",
     "text": [
      "=============================================\n",
      "         BEM VINDO AO JOGO DA FORCA!         \n",
      "============================================= \n",
      "\n",
      "A palavra embaralhada é: AUV\n"
     ]
    },
    {
     "name": "stdin",
     "output_type": "stream",
     "text": [
      "\n",
      "Você tem 4 tentativas restantes. \n",
      "Qual é a sua adivinhação?  a\n",
      "\n",
      "Você tem 3 tentativas restantes. \n",
      "Qual é a sua adivinhação?  a\n",
      "\n",
      "Você tem 2 tentativas restantes. \n",
      "Qual é a sua adivinhação?  a\n",
      "\n",
      "Você tem 1 tentativas restantes. \n",
      "Qual é a sua adivinhação?  a\n"
     ]
    },
    {
     "name": "stdout",
     "output_type": "stream",
     "text": [
      "\n",
      "\n",
      "\u001b[1;91mPUXA! VOCÊ FOI ENFORCADO!\u001b[0m\n",
      "A palavra era UVA\n",
      "\u001b[1;91m    _______________         \n",
      "   /               \\       \n",
      "  /                 \\      \n",
      "//                   \\//  \n",
      "\\|   XXXX     XXXX   | /   \n",
      " |   XXXX     XXXX   |/     \n",
      " |   XXX       XXX   |      \n",
      " |                   |      \n",
      " \\__      XXX      __/     \n",
      "   |\\     XXX     /|       \n",
      "   | |           | |        \n",
      "   | I I I I I I I |        \n",
      "   |  I I I I I I  |        \n",
      "   \\_             _/       \n",
      "     \\_         _/         \n",
      "       \\_______/           \u001b[0m\n",
      "\n",
      "=============================================\n",
      "                 FIM DO JOGO                 \n",
      "============================================= \n",
      "\n"
     ]
    }
   ],
   "source": [
    "import random\n",
    "\n",
    "def carrega_palavras():\n",
    "    palavras = []\n",
    "    with open('palavras.txt', 'r', encoding='utf-8') as arquivo:\n",
    "        for linha in arquivo:\n",
    "            palavras.append(linha.strip())\n",
    "    return random.choice(palavras).upper()\n",
    "\n",
    "def embaralha_palavra(palavra):\n",
    "    palavra_lista = list(palavra)\n",
    "    random.shuffle(palavra_lista)\n",
    "    return ''.join(palavra_lista)\n",
    "\n",
    "def mensagem_vencedor():  # Mensagem para o vencedor \n",
    "    print('\\n\\n\\033[1;92mPARABÉNS!! VOCÊ GANHOU!!\\033[0m')\n",
    "    print('\\033[1;93m       ___________      ')\n",
    "    print('      \\'._==_==_=_.\\'     ')\n",
    "    print('      .-\\\\:      /-.    ')\n",
    "    print('     | (|:.     |) |    ')\n",
    "    print('      \\'-|:.     |-\\'     ')\n",
    "    print('        \\\\::.    /      ')\n",
    "    print('         \\'::. .\\'        ')\n",
    "    print('           ) (          ')\n",
    "    print('         _.\\' \\'._        ')\n",
    "    print('        \\'-------\\'       \\033[0m')\n",
    "\n",
    "def mensagem_perdedor(palavra): # Mensagem para o perdedor \n",
    "    print('\\n\\n\\033[1;91mPUXA! VOCÊ FOI ENFORCADO!\\033[0m')\n",
    "    print(f'A palavra era {palavra}')\n",
    "    print('\\033[1;91m    _______________         ')\n",
    "    print('   /               \\\\       ')\n",
    "    print('  /                 \\\\      ')\n",
    "    print('//                   \\\\//  ')\n",
    "    print('\\\\|   XXXX     XXXX   | /   ')\n",
    "    print(' |   XXXX     XXXX   |/     ')\n",
    "    print(' |   XXX       XXX   |      ')\n",
    "    print(' |                   |      ')\n",
    "    print(' \\\\__      XXX      __/     ')\n",
    "    print('   |\\\\     XXX     /|       ')\n",
    "    print('   | |           | |        ')\n",
    "    print('   | I I I I I I I |        ')\n",
    "    print('   |  I I I I I I  |        ')\n",
    "    print('   \\\\_             _/       ')\n",
    "    print('     \\\\_         _/         ')\n",
    "    print('       \\\\_______/           \\033[0m')\n",
    "\n",
    "def jogar():\n",
    "    palavra = carrega_palavras()\n",
    "    palavra_embaralhada = embaralha_palavra(palavra)\n",
    "    \n",
    "    print('='*45)\n",
    "    print('Bem vindo ao jogo da Forca!'.center(45).upper())\n",
    "    print('='*45,'\\n')\n",
    "    print(f'A palavra embaralhada é: {palavra_embaralhada}')\n",
    "    \n",
    "    tentativas = 6\n",
    "    acertou = False\n",
    "\n",
    "    while tentativas > 0 and not acertou:\n",
    "        chute = input(f'\\nVocê tem {tentativas} tentativas restantes. \\nQual é a sua adivinhação? ').strip().upper()\n",
    "        \n",
    "        if chute == palavra:\n",
    "            acertou = True\n",
    "        else:\n",
    "            tentativas -= 1\n",
    "    \n",
    "    if acertou:\n",
    "        mensagem_vencedor()\n",
    "    else:\n",
    "        mensagem_perdedor(palavra)\n",
    "\n",
    "    print('\\n'+'='*45)\n",
    "    print('FIM DO JOGO'.center(45).upper())\n",
    "    print('='*45,'\\n')\n",
    "\n",
    "if __name__ == '__main__':\n",
    "    jogar()\n"
   ]
  },
  {
   "cell_type": "markdown",
   "id": "9c71f180-171e-4005-b30e-7cf65ee5a87e",
   "metadata": {},
   "source": [
    "-----"
   ]
  }
 ],
 "metadata": {
  "kernelspec": {
   "display_name": "Python 3 (ipykernel)",
   "language": "python",
   "name": "python3"
  },
  "language_info": {
   "codemirror_mode": {
    "name": "ipython",
    "version": 3
   },
   "file_extension": ".py",
   "mimetype": "text/x-python",
   "name": "python",
   "nbconvert_exporter": "python",
   "pygments_lexer": "ipython3",
   "version": "3.11.7"
  }
 },
 "nbformat": 4,
 "nbformat_minor": 5
}
