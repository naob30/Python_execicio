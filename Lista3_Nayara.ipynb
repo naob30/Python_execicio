{
 "cells": [
  {
   "attachments": {},
   "cell_type": "markdown",
   "id": "2a529ed7-85d0-47bc-a93c-b4367cef3e43",
   "metadata": {},
   "source": [
    "<h1 style=\"color: #008000; font-weight: bold; text-align: center;\">LISTA 3 - JUMP START</h1>\n",
    "<h3 style=\"font-style: italic; text-align: center;\">Estruturas de decisão</h3>\n",
    "<p style=\"font-style: italic; text-align: center;\">Realizado por Nayara de Oliveira Brabo</p>"
   ]
  },
  {
   "cell_type": "markdown",
   "id": "48ae7d2e-c78a-40e1-80a9-bb6be4ab58c8",
   "metadata": {},
   "source": [
    "-----"
   ]
  },
  {
   "cell_type": "markdown",
   "id": "66f3b455-9407-4e0f-b3e4-e07d941f2541",
   "metadata": {},
   "source": [
    "<h3 style=\"color: #008000; font-weight: bold;\">EXERCÍCIO 1</h3>"
   ]
  },
  {
   "attachments": {},
   "cell_type": "markdown",
   "id": "8446019e-f97c-425c-98c5-c86d7bd65a76",
   "metadata": {},
   "source": [
    "##### Faça um programa que peça uma nota, entre zero e dez. Mostre uma mensagem caso o valor seja inválido e continue pedindo até que o usuário informe um valor válido.\n"
   ]
  },
  {
   "cell_type": "code",
   "execution_count": 21,
   "id": "c7dd1389-b221-42db-8114-d1eadd16437c",
   "metadata": {},
   "outputs": [
    {
     "name": "stdin",
     "output_type": "stream",
     "text": [
      "Informe a nota (entre 0 e 10):  10\n"
     ]
    },
    {
     "name": "stdout",
     "output_type": "stream",
     "text": [
      "\n",
      "------------------------------------\n",
      "|       A NOTA \u001b[1;92m10.0\u001b[0m É VÁLIDA.      |\n",
      "------------------------------------\n"
     ]
    }
   ],
   "source": [
    "while True:\n",
    "    try:\n",
    "        nota = float(input(f\"Informe a nota (entre 0 e 10): \"))\n",
    "        if 0 <= nota <= 10:\n",
    "            print('\\n'+'-'*36)\n",
    "            print('|'+f'A NOTA \\033[1;92m{nota}\\033[0m É VÁLIDA.'.center(45, ' ')+'|')\n",
    "            print('-'*36)\n",
    "            break\n",
    "        else:\n",
    "            print('\\n'+'-'*36)\n",
    "            print('|'+f'A NOTA \\033[1;91m{nota}\\033[0m NÃO É VÁLIDA.'.center(45, ' ')+'|')\n",
    "            print('-'*36)\n",
    "            print('\\n\\033[1;91mPOR FAVOR, INSIRA UMA NOTA VÁLIDA.\\033[0m\\n')\n",
    "    except ValueError:\n",
    "        print('\\n\\033[1;91mPOR FAVOR, INSIRA UM VALOR NUMÉRICO VÁLIDO.\\033[0m\\n')"
   ]
  },
  {
   "cell_type": "markdown",
   "id": "c6dbf751-24d7-4522-be44-80e6804f2b91",
   "metadata": {},
   "source": [
    "------"
   ]
  },
  {
   "cell_type": "markdown",
   "id": "a8dfc4c9-4dd9-4ece-93a4-c2b3850f5342",
   "metadata": {},
   "source": [
    "<h3 style=\"color: #008000; font-weight: bold;\">EXERCÍCIO 2</h3>"
   ]
  },
  {
   "attachments": {},
   "cell_type": "markdown",
   "id": "c90c6a0f-396a-4c00-9821-d761e2467604",
   "metadata": {},
   "source": [
    "##### Faça um programa que leia um nome de usuário e a sua senha e não aceite a senha igual ao nome do usuário, mostrando uma mensagem de erro e voltando a pedir as informações.\n",
    "\n"
   ]
  },
  {
   "cell_type": "code",
   "execution_count": 3,
   "id": "03706871-6452-48f8-8573-d22fbcc335a0",
   "metadata": {},
   "outputs": [
    {
     "name": "stdout",
     "output_type": "stream",
     "text": [
      "===================================\n",
      "      \u001b[1m FAÇA JÁ SEU CADASTRO\u001b[0m       \n",
      "===================================\n"
     ]
    },
    {
     "name": "stdin",
     "output_type": "stream",
     "text": [
      "USUÁRIO:  nayara\n",
      "SENHA: agsdauynayara\n"
     ]
    },
    {
     "name": "stdout",
     "output_type": "stream",
     "text": [
      "\n",
      "\u001b[1;92mUSUÁRIO CADASTRADO COM SUCESSO!\u001b[0m\n",
      "\n",
      "===================================\n"
     ]
    }
   ],
   "source": [
    "# import getpass - para deixar a senha oculta \n",
    "\n",
    "print('='*35)\n",
    "print ('\\33[1m FAÇA JÁ SEU CADASTRO\\33[0m '.center(42))\n",
    "print('='*35)\n",
    "\n",
    "while True:\n",
    "    login = input('USUÁRIO: ')\n",
    "    senha = input('SENHA:')\n",
    "    if login == senha:\n",
    "        print('\\n\\033[1;91mERRO: \\nO USUÁRIO NÃO PODE SER IGUAL A SENHA. \\nTENTE NOVAMENTE.\\033[0m\\n')\n",
    "    else:\n",
    "        print('\\n\\033[1;92mUSUÁRIO CADASTRADO COM SUCESSO!\\033[0m\\n')\n",
    "        break\n",
    "print('='*35)"
   ]
  },
  {
   "cell_type": "markdown",
   "id": "28b564be-8e15-4e56-86e2-0cce5546ca02",
   "metadata": {},
   "source": [
    "------"
   ]
  },
  {
   "cell_type": "markdown",
   "id": "49918343-4522-4e49-80ff-b685db168237",
   "metadata": {},
   "source": [
    "<h3 style=\"color: #008000; font-weight: bold;\">EXERCÍCIO 3</h3>"
   ]
  },
  {
   "attachments": {},
   "cell_type": "markdown",
   "id": "9aaa5261-0fb0-4ad4-b11a-6c351e2aaac4",
   "metadata": {},
   "source": [
    "##### Faça um programa que leia e valide as seguintes informações:\n",
    "- Nome: maior que 3 caracteres\n",
    "- Idade: entre 0 e 150\n",
    "- Salário: maior que zero\n",
    "- Sexo: 'f' ou 'm'\n",
    "- Estado Civil: 's', 'c', 'v', 'd', 'd’\n"
   ]
  },
  {
   "cell_type": "code",
   "execution_count": 1,
   "id": "be9a4ada-0694-4b33-a443-5c5225393be6",
   "metadata": {},
   "outputs": [
    {
     "name": "stdin",
     "output_type": "stream",
     "text": [
      "Informe o nome (maior que 3 caracteres):  Nayara\n",
      "Informe a idade (entre 0 e 150):  25\n",
      "Informe o salário (pode usar vírgula):  123654,00\n",
      "Informe o sexo (F = Feminino, M = Masculino):  f\n",
      "Informe o estado civil (\"S\", \"C\", \"V\", \"D\"):  s\n"
     ]
    },
    {
     "name": "stdout",
     "output_type": "stream",
     "text": [
      "\n",
      "    \u001b[1m INFORMAÇÕES DO CADASTRO\u001b[0m      \n",
      "---------------------------------\n",
      "|     NOME    |      Nayara     |\n",
      "---------------------------------\n",
      "|    IDADE    |     25 anos     |\n",
      "---------------------------------\n",
      "|   SALÁRIO   |  R$ 123.654,00  |\n",
      "---------------------------------\n",
      "|     SEXO    |     Feminino    |\n",
      "---------------------------------\n",
      "| ESTADO CIVIL|   Solteiro(a)   |\n",
      "---------------------------------\n"
     ]
    }
   ],
   "source": [
    "import locale\n",
    "\n",
    "# Define a localidade para a formatação do salário (Brasil, por exemplo)\n",
    "locale.setlocale(locale.LC_ALL, 'pt_BR.UTF-8')\n",
    "\n",
    "while True:\n",
    "    nome = input('Informe o nome (maior que 3 caracteres): ')\n",
    "    if len(nome) > 3 and nome.isalpha():\n",
    "        break\n",
    "    print('\\n\\033[1;91mNOME INVÁLIDO. \\nDEVE TER MAIS DE 3 CARACTERES E NÃO PODE HAVER NÚMEROS OU CARACTERES ESPECIAIS.\\nTENTE NOVAMENTE.\\033[0m\\n')\n",
    "\n",
    "while True:\n",
    "    idade = input('Informe a idade (entre 0 e 150): ')\n",
    "    if idade.isdigit() and 0 <= int(idade) <= 150:\n",
    "        idade = int(idade)\n",
    "        break\n",
    "    print('\\n\\033[1;91mIDADE INVÁLIDA. TENTE NOVAMENTE.\\033[0m\\n')\n",
    "\n",
    "while True:\n",
    "    salario = input('Informe o salário (pode usar vírgula): ')\n",
    "    salario = salario.replace(',', '.')  # Substitui vírgula por ponto\n",
    "    try:\n",
    "        salario = float(salario)\n",
    "        if salario > 0:\n",
    "            break\n",
    "        print('\\n\\033[1;91mSALÁRIO INVÁLIDO. TEM QUE SER MAIOR QUE 0.TENTE NOVAMENTE.\\033[0m\\n')\n",
    "    except ValueError:\n",
    "        print('\\n\\033[1;91mPOR FAVOR, INSIRA UM VALOR VÁLIDO.\\033[0m\\n')\n",
    "\n",
    "while True:\n",
    "    sexo = input('Informe o sexo (F = Feminino, M = Masculino): ').lower()\n",
    "    if sexo in ['f', 'm']:\n",
    "        break\n",
    "    print('\\n\\033[1;91mSEXO INVÁLIDO. DEVE SER \"F\" OU \"M\".TENTE NOVAMENTE.\\033[0m\\n')\n",
    "\n",
    "while True:\n",
    "    estado_civil = input('Informe o estado civil (\"S\", \"C\", \"V\", \"D\"): ').lower()\n",
    "    if estado_civil in ['s', 'c', 'v', 'd']:\n",
    "        break\n",
    "    print('\\n\\033[1;91mESTADO CIVIL INVÁLIDO. TENTE NOVAMENTE.\\033[0m\\n')\n",
    "\n",
    "# Define os valores para exibição final\n",
    "sexo_str = 'Feminino' if sexo == 'f' else 'Masculino'\n",
    "estado_civil_str = ''\n",
    "if estado_civil == 's':\n",
    "    estado_civil_str = 'Solteiro(a)'\n",
    "elif estado_civil == 'c':\n",
    "    estado_civil_str = 'Casado(a)'\n",
    "elif estado_civil == 'v':\n",
    "    estado_civil_str = 'Viúvo(a)'\n",
    "elif estado_civil == 'd':\n",
    "    estado_civil_str = 'Divorciado(a)'\n",
    "\n",
    "# Formata o salário para a saída\n",
    "salario = locale.currency(salario, grouping=True)\n",
    "\n",
    "#print('='*33)\n",
    "print ('\\n'+'\\33[1m INFORMAÇÕES DO CADASTRO\\33[0m '.center(42))\n",
    "print('-'*33)\n",
    "print('|'+'NOME'.center(13)+'|'+f'{nome}'.center(17)+'|')\n",
    "print('-'*33)\n",
    "print('|'+'IDADE'.center(13)+'|'+f'{idade} anos'.center(17)+'|')\n",
    "print('-'*33)\n",
    "print('|'+'SALÁRIO'.center(13)+'|'+f'{salario}'.center(17)+'|')\n",
    "print('-'*33)\n",
    "print('|'+'SEXO'.center(13)+'|'+f'{sexo_str}'.center(17)+'|')\n",
    "print('-'*33)\n",
    "print('|'+'ESTADO CIVIL'.center(13)+'|'+f'{estado_civil_str}'.center(17)+'|')\n",
    "print('-'*33)"
   ]
  },
  {
   "cell_type": "markdown",
   "id": "8ec95926-bf6b-4f27-886f-ee80ff697126",
   "metadata": {},
   "source": [
    "-------"
   ]
  },
  {
   "cell_type": "markdown",
   "id": "4dca567e-a6b2-4a20-b080-dc0002310733",
   "metadata": {},
   "source": [
    "<h3 style=\"color: #008000; font-weight: bold;\">EXERCÍCIO 4</h3>"
   ]
  },
  {
   "attachments": {},
   "cell_type": "markdown",
   "id": "a64ac47e-a41e-4212-9078-6a179ca43491",
   "metadata": {},
   "source": [
    "##### Supondo que a população de um país X seja da ordem de 100000 habitantes com uma taxa anual de crescimento de 2,7% e que a população de W seja 250000 habitantes com uma taxa de crescimento de 1.3%. Faça um programa que calcule e escreva o número de anos necessários para que a população do país X ultrapasse ou iguale a população do país W, mantidas as taxas de crescimento.\r\n"
   ]
  },
  {
   "cell_type": "code",
   "execution_count": 5,
   "id": "6b926d3a-731b-4fc3-90c2-d4293052cc1a",
   "metadata": {},
   "outputs": [
    {
     "name": "stdout",
     "output_type": "stream",
     "text": [
      "A população de X irá ultrapassar a população de W em \u001b[1m67 anos\u001b[0m.\n",
      "\n",
      "---------------------------------------------\n",
      "|  POPULAÇÃO PAÍS X: 595.963,58 habitantes  |\n",
      "---------------------------------------------\n",
      "|  POPULAÇÃO PAÍS W: 593.981,40 habitantes  |\n",
      "---------------------------------------------\n"
     ]
    }
   ],
   "source": [
    "import locale\n",
    "\n",
    "# Define a localidade para formatar os números\n",
    "locale.setlocale(locale.LC_ALL, 'pt_BR.UTF-8')\n",
    "\n",
    "hab_X = 100000\n",
    "taxa_cresc_X = 0.027  # 2.7% a.a.\n",
    "hab_W = 250000\n",
    "taxa_cresc_W = 0.013  # 1.3% a.a.\n",
    "\n",
    "anos = 0\n",
    "while hab_X <= hab_W:\n",
    "    anos += 1\n",
    "    hab_X = hab_X * (1 + taxa_cresc_X)\n",
    "    hab_W = hab_W * (1 + taxa_cresc_W)\n",
    "\n",
    "# Formatação dos números para exibição\n",
    "hab_X = locale.format_string('%.2f', hab_X, grouping=True)\n",
    "hab_W = locale.format_string('%.2f', hab_W, grouping=True)\n",
    "\n",
    "print(f'A população de X irá ultrapassar a população de W em \\033[1m{anos} anos\\033[0m.')\n",
    "print('\\n'+'-'*45)\n",
    "print('|'+f'POPULAÇÃO PAÍS X: {hab_X} habitantes'.center(43, ' ')+'|')\n",
    "print('-'*45)\n",
    "print('|'+f'POPULAÇÃO PAÍS W: {hab_W} habitantes'.center(43, ' ')+'|')\n",
    "print('-'*45)\n",
    "\n"
   ]
  },
  {
   "cell_type": "markdown",
   "id": "23ec84ff-4018-4a44-845e-de6c36ac675e",
   "metadata": {},
   "source": [
    "---------"
   ]
  },
  {
   "cell_type": "markdown",
   "id": "20ef9842-557a-4e58-abe5-7c41aac35980",
   "metadata": {},
   "source": [
    "<h3 style=\"color: #008000; font-weight: bold;\">EXERCÍCIO 5</h3>"
   ]
  },
  {
   "attachments": {},
   "cell_type": "markdown",
   "id": "c06f1f10-9ca4-457d-9e13-b19f636b0793",
   "metadata": {},
   "source": [
    "##### Altere o programa anterior permitindo ao usuário informar as populações e as taxas de crescimento iniciais. Valide a entrada e permita repetir a operação.\r\n"
   ]
  },
  {
   "cell_type": "code",
   "execution_count": 6,
   "id": "dd5c0495-bd17-4db5-b948-2723c000940b",
   "metadata": {},
   "outputs": [
    {
     "name": "stdin",
     "output_type": "stream",
     "text": [
      "Informe o nome do país A:  eua\n",
      "Informe a população inicial do EUA:  1236\n",
      "Informe a taxa de crescimento anual do EUA (em %):  2.5\n",
      "Informe o nome do país B:  145\n",
      "Informe a população inicial do 145:  9523\n",
      "Informe a taxa de crescimento anual do 145 (em %):  1.5\n"
     ]
    },
    {
     "name": "stdout",
     "output_type": "stream",
     "text": [
      "\n",
      "A população de EUA irá ultrapassar a população de 145 em \u001b[1m209 anos\u001b[0m.\n",
      "\n",
      "---------------------------------------------\n",
      "|    POPULAÇÃO EUA: 215.430,08 habitantes   |\n",
      "---------------------------------------------\n",
      "|    POPULAÇÃO 145: 213.883,17 habitantes   |\n",
      "---------------------------------------------\n"
     ]
    }
   ],
   "source": [
    "import locale\n",
    "\n",
    "# Define a localidade para formatar os números\n",
    "locale.setlocale(locale.LC_ALL, 'pt_BR.UTF-8')\n",
    "\n",
    "def obter_dados_pais(nome_pais):\n",
    "    while True:\n",
    "        try:\n",
    "            populacao = float(input(f'Informe a população inicial do {nome_pais}: '))\n",
    "            if populacao <= 0:\n",
    "                raise ValueError\n",
    "            taxa_crescimento = float(input(f'Informe a taxa de crescimento anual do {nome_pais} (em %): '))\n",
    "            if taxa_crescimento <= 0:\n",
    "                raise ValueError\n",
    "            return populacao, taxa_crescimento / 100\n",
    "        except ValueError:\n",
    "            print('\\n\\033[1;91mPOR FAVOR, INSIRA VALORES NUMÉRICOS VÁLIDOS E MAIORES QUE 0.\\033[0m\\n')\n",
    "\n",
    "while True:\n",
    "    # Obtém dados do usuário para os dois países\n",
    "    nome_pais_A = input('Informe o nome do país A: ').upper()\n",
    "    populacao_A, taxa_cresc_A = obter_dados_pais(nome_pais_A)\n",
    "\n",
    "    nome_pais_B = input('Informe o nome do país B: ').upper()\n",
    "    populacao_B, taxa_cresc_B = obter_dados_pais(nome_pais_B)\n",
    "\n",
    "    if populacao_A < populacao_B:\n",
    "        break\n",
    "    else:\n",
    "        print(f'\\n\\033[1;91mERRO: A POPULAÇÃO INICIAL DE {nome_pais_A} DEVE SER MENOR QUE A POPULAÇÃO INICIAL DE {nome_pais_B}. POR FAVOR, TENTE NOVAMENTE.\\033[0m\\n')\n",
    "\n",
    "anos = 0\n",
    "while populacao_A <= populacao_B:\n",
    "    anos += 1\n",
    "    populacao_A *= (1 + taxa_cresc_A)\n",
    "    populacao_B *= (1 + taxa_cresc_B)\n",
    "\n",
    "# Formatando resultado\n",
    "populacao_A_formatada = locale.format_string('%.2f', populacao_A, grouping=True)\n",
    "populacao_B_formatada = locale.format_string('%.2f', populacao_B, grouping=True)\n",
    "\n",
    "print(f'\\nA população de {nome_pais_A} irá ultrapassar a população de {nome_pais_B} em \\033[1m{anos} anos\\033[0m.')\n",
    "print('\\n' + '-' * 45)\n",
    "print('|' + f'POPULAÇÃO {nome_pais_A}: {populacao_A_formatada} habitantes'.center(43, ' ') + '|')\n",
    "print('-' * 45)\n",
    "print('|' + f'POPULAÇÃO {nome_pais_B}: {populacao_B_formatada} habitantes'.center(43, ' ') + '|')\n",
    "print('-' * 45)\n"
   ]
  },
  {
   "cell_type": "markdown",
   "id": "d487ed71-f753-4d45-b649-95f2036418c9",
   "metadata": {},
   "source": [
    "-------"
   ]
  },
  {
   "cell_type": "markdown",
   "id": "678a0699-ade5-4ac7-8995-03d6c2ff472f",
   "metadata": {},
   "source": [
    "<h3 style=\"color: #008000; font-weight: bold;\">EXERCÍCIO 6</h3>"
   ]
  },
  {
   "cell_type": "markdown",
   "id": "d0cb2764-46f7-4dba-9304-da7eec9bd173",
   "metadata": {},
   "source": [
    "##### Faça um programa que imprima na tela os números de 1 a 15, um abaixo do outro. Depois modifique o programa para que ele mostre os números um ao lado do outro.\n"
   ]
  },
  {
   "cell_type": "markdown",
   "id": "d4b7d261-af26-4e01-b9d0-81032d2ff2bc",
   "metadata": {},
   "source": [
    "#### Um abaixo do outro"
   ]
  },
  {
   "cell_type": "code",
   "execution_count": 78,
   "id": "ce6b80e0-eb6b-4ea8-a7af-9d1f0d2dea18",
   "metadata": {},
   "outputs": [
    {
     "name": "stdout",
     "output_type": "stream",
     "text": [
      "----NÚMEROS DE 1 A 15-----\n",
      "            01            \n",
      "            02            \n",
      "            03            \n",
      "            04            \n",
      "            05            \n",
      "            06            \n",
      "            07            \n",
      "            08            \n",
      "            09            \n",
      "            10            \n",
      "            11            \n",
      "            12            \n",
      "            13            \n",
      "            14            \n",
      "            15            \n",
      "--------------------------\n"
     ]
    }
   ],
   "source": [
    "print('NÚMEROS DE 1 A 15'.center(26, '-'))\n",
    "for i in range(1,16):\n",
    "    print(f'{i:02}'.center(26)) #formatar para que todos tenham 2 digitos\n",
    "print('-'*26)"
   ]
  },
  {
   "cell_type": "markdown",
   "id": "06555b1b-343b-480f-9e5b-e297aad7cb5f",
   "metadata": {},
   "source": [
    "#### Um do lado do outro"
   ]
  },
  {
   "cell_type": "code",
   "execution_count": 80,
   "id": "1b604444-3b0c-466d-b229-59ca17eacf93",
   "metadata": {},
   "outputs": [
    {
     "name": "stdout",
     "output_type": "stream",
     "text": [
      "--------------NÚMEROS DE 1 A 15--------------\n",
      "01 02 03 04 05 06 07 08 09 10 11 12 13 14 15\n",
      "---------------------------------------------\n"
     ]
    }
   ],
   "source": [
    "list15 = list(range(1,16))\n",
    "\n",
    "format_list15 = [f\"{num:02}\" for num in list15] # formatar para que todos tenham 2 digitos\n",
    "\n",
    "print('NÚMEROS DE 1 A 15'.center(45, '-'))\n",
    "print(*format_list15)\n",
    "print('-'*45)"
   ]
  },
  {
   "cell_type": "markdown",
   "id": "c21406f0-468a-465a-9cbb-85af9666577f",
   "metadata": {},
   "source": [
    "------"
   ]
  },
  {
   "cell_type": "markdown",
   "id": "2ab0c7d2-c76e-48be-87c3-6bc46b1c757f",
   "metadata": {},
   "source": [
    "<h3 style=\"color: #008000; font-weight: bold;\">EXERCÍCIO 7</h3>"
   ]
  },
  {
   "cell_type": "markdown",
   "id": "1a4f4e1c-400d-4232-95d6-04e40482a2cf",
   "metadata": {},
   "source": [
    "##### Faça um programa que leia 4 números e informe o maior número."
   ]
  },
  {
   "cell_type": "code",
   "execution_count": 56,
   "id": "89bba64e-c3f0-420e-9600-799b4cdac261",
   "metadata": {},
   "outputs": [
    {
     "name": "stdin",
     "output_type": "stream",
     "text": [
      "Informe o 1ª número:  3\n",
      "Informe o 2ª número:  2\n",
      "Informe o 3ª número:  1\n",
      "Informe o 4ª número:  5\n"
     ]
    },
    {
     "name": "stdout",
     "output_type": "stream",
     "text": [
      "\n",
      "--------------------------------------\n",
      "|      O maior número foi \u001b[1;42m 5.0 \u001b[0m      |\n",
      "--------------------------------------\n"
     ]
    }
   ],
   "source": [
    "num = []\n",
    "i = 0\n",
    "\n",
    "while i < 4:\n",
    "    try:\n",
    "        n = float(input(f\"Informe o {i+1}ª número: \"))\n",
    "        num.append(n)\n",
    "        i += 1   \n",
    "    except ValueError:\n",
    "        print('\\n\\033[1;91mPOR FAVOR, INSIRA UM VALOR NUMÉRICO VÁLIDO.\\033[0m\\n')\n",
    "\n",
    "if num.count(num[0]) == 4: #Verifica se todos os números inseridos são iguais, contando as vezes que o primeiro número aparece.\n",
    "    print('\\n'+ '-' * 38)\n",
    "    print('|', f'\\033[1mOs números são iguais\\033[0m'.center(42, ' ').upper(), '|')\n",
    "    print('-' * 38)\n",
    "else:\n",
    "    maior = max(num)\n",
    "    print('\\n'+ '-' * 38)\n",
    "    print('|', f'O maior número foi \\033[1;42m {maior} \\033[0m'.center(45, ' '), '|')\n",
    "    print('-' * 38)"
   ]
  },
  {
   "cell_type": "markdown",
   "id": "039cb901-de8e-4a49-949b-23323f95d938",
   "metadata": {},
   "source": [
    "-----"
   ]
  },
  {
   "cell_type": "markdown",
   "id": "9307300d-df0e-4102-b525-171314b5556c",
   "metadata": {},
   "source": [
    "<h3 style=\"color: #008000; font-weight: bold;\">EXERCÍCIO 8</h3>"
   ]
  },
  {
   "attachments": {},
   "cell_type": "markdown",
   "id": "144a92b6-e8a8-41bf-89c4-c0c17fbc45db",
   "metadata": {},
   "source": [
    "##### Faça um programa que leia 8 números e informe a soma e a média dos números.\r\n"
   ]
  },
  {
   "cell_type": "code",
   "execution_count": 66,
   "id": "f46ebe77-05ef-49b9-96ef-bbe7eed2af9a",
   "metadata": {},
   "outputs": [
    {
     "name": "stdin",
     "output_type": "stream",
     "text": [
      "Informe o 1ª número:  3\n",
      "Informe o 2ª número:  3\n",
      "Informe o 3ª número:  3\n",
      "Informe o 4ª número:  3\n",
      "Informe o 5ª número:  3\n",
      "Informe o 6ª número:  3\n",
      "Informe o 7ª número:  3\n",
      "Informe o 8ª número:  3\n"
     ]
    },
    {
     "name": "stdout",
     "output_type": "stream",
     "text": [
      "\n",
      "-----SOMA DOS NÚMEROS----\n",
      "|          24.0         |\n",
      "-------------------------\n",
      "\n",
      "----MÉDIA DOS NÚMEROS----\n",
      "|          3.0          |\n",
      "-------------------------\n"
     ]
    }
   ],
   "source": [
    "num = []\n",
    "i = 0\n",
    "\n",
    "while i < 8:\n",
    "    try:\n",
    "        n = float(input(f\"Informe o {i+1}ª número: \"))\n",
    "        num.append(n)\n",
    "        i += 1   \n",
    "    except ValueError:\n",
    "        print('\\n\\033[1;91mPOR FAVOR, INSIRA UM VALOR NUMÉRICO VÁLIDO.\\033[0m\\n')\n",
    "\n",
    "\n",
    "#Soma e média\n",
    "soma = sum(num)\n",
    "media = soma / len(num)\n",
    "\n",
    "\n",
    "#Formatando o resultado\n",
    "print('\\n'+'SOMA DOS NÚMEROS'.center(25, '-'))\n",
    "print('|'+f'{soma}'.center(23)+'|')\n",
    "print('-'*25)\n",
    "\n",
    "print('\\n'+'MÉDIA DOS NÚMEROS'.center(25, '-'))\n",
    "print('|'+f'{media}'.center(23)+'|')\n",
    "print('-'*25)\n"
   ]
  },
  {
   "cell_type": "markdown",
   "id": "7860ae5e-2664-437b-9f62-61b4f3631bc2",
   "metadata": {},
   "source": [
    "----------"
   ]
  },
  {
   "cell_type": "markdown",
   "id": "344f9270-94cd-4e6e-a056-1205fc651056",
   "metadata": {},
   "source": [
    "<h3 style=\"color: #008000; font-weight: bold;\">EXERCÍCIO 9</h3>"
   ]
  },
  {
   "attachments": {},
   "cell_type": "markdown",
   "id": "0690d4a7-f028-4eae-b622-1d1eac646ffb",
   "metadata": {},
   "source": [
    "##### Faça um programa que imprima na tela apenas os números ímpares entre 1 e 25.\r\n"
   ]
  },
  {
   "cell_type": "code",
   "execution_count": 86,
   "id": "1e351db3-186d-4bd7-988e-6b74fc627e49",
   "metadata": {},
   "outputs": [
    {
     "name": "stdout",
     "output_type": "stream",
     "text": [
      "-- NÚMEROS ÍMPARES DE 1 A 25 --\n",
      "               01              \n",
      "               03              \n",
      "               05              \n",
      "               07              \n",
      "               09              \n",
      "               11              \n",
      "               13              \n",
      "               15              \n",
      "               17              \n",
      "               19              \n",
      "               21              \n",
      "               23              \n",
      "               25              \n",
      "-------------------------------\n"
     ]
    }
   ],
   "source": [
    "print(' NÚMEROS ÍMPARES DE 1 A 25 '.center(31, '-'))\n",
    "for i in range(1,26,2):\n",
    "    print(f'{i:02}'.center(31)) \n",
    "print('-'*31)"
   ]
  },
  {
   "cell_type": "markdown",
   "id": "75817f45-4027-4bb3-831b-66b8248adb2e",
   "metadata": {},
   "source": [
    "--------"
   ]
  },
  {
   "cell_type": "markdown",
   "id": "8159d02d-6ca0-4274-9a3e-27c1b75fb1e6",
   "metadata": {},
   "source": [
    "<h3 style=\"color: #008000; font-weight: bold;\">EXERCÍCIO 10</h3>"
   ]
  },
  {
   "attachments": {},
   "cell_type": "markdown",
   "id": "9dbe5222-d8d7-4283-923a-0e0f18e6ad6f",
   "metadata": {},
   "source": [
    "##### Faça um programa que receba dois números inteiros e gere os números inteiros que estão no intervalo compreendido por eles. "
   ]
  },
  {
   "cell_type": "markdown",
   "id": "ae43aaff-277d-40e6-91fc-d9c3f133a79c",
   "metadata": {},
   "source": [
    "#### Verificando qual o número maior para montar o intervalo"
   ]
  },
  {
   "cell_type": "code",
   "execution_count": 7,
   "id": "ad05d2cf-ed51-410e-b6a4-f61826080b1d",
   "metadata": {},
   "outputs": [
    {
     "name": "stdin",
     "output_type": "stream",
     "text": [
      "Informe o 1ª número inteiro:  9\n",
      "Informe o 2ª número inteiro:  1\n"
     ]
    },
    {
     "name": "stdout",
     "output_type": "stream",
     "text": [
      "\n",
      "------- NÚMEROS ENTRE 1 E 9 --------\n",
      "1 2 3 4 5 6 7 8 9 \n",
      "------------------------------------\n"
     ]
    }
   ],
   "source": [
    "num = []\n",
    "i = 0\n",
    "\n",
    "while i < 2:\n",
    "    try:\n",
    "        n = int(input(f\"Informe o {i+1}ª número inteiro: \"))\n",
    "        if len(num) == 0 or n != num[0]:\n",
    "            num.append(n)\n",
    "            i += 1   \n",
    "        else:\n",
    "            print('\\n\\033[1;91mOS VALORES NÃO PODEM SER IGUAIS.\\nOR FAVOR, INSIRA UM VALOR NUMÉRICO VÁLIDO.\\033[0m\\n')\n",
    "    except ValueError:\n",
    "        print('\\n\\033[1;91mPOR FAVOR, INSIRA UM VALOR NUMÉRICO VÁLIDO.\\033[0m\\n')\n",
    "\n",
    "# Determina o início e o fim do intervalo\n",
    "inicio = min(num)\n",
    "fim = max(num)        \n",
    "\n",
    "\n",
    "print('\\n'+f' NÚMEROS ENTRE {inicio} E {fim} '.center(36, '-'))\n",
    "for n in range(inicio, fim + 1): # +1 para incluir o último valor\n",
    "    print(n, end=' ')\n",
    "print('\\n'+'-'*36)"
   ]
  },
  {
   "cell_type": "markdown",
   "id": "60d2cc4a-94fb-42f9-9378-90ea864eda1a",
   "metadata": {},
   "source": [
    "#### Colocando regras para a inserção dos números"
   ]
  },
  {
   "cell_type": "code",
   "execution_count": 8,
   "id": "5214d7d8-7fea-41b9-9e35-fc59b625438a",
   "metadata": {},
   "outputs": [
    {
     "name": "stdin",
     "output_type": "stream",
     "text": [
      "Informe o 1ª número inteiro:  9\n",
      "Informe o 2ª número inteiro:  1\n"
     ]
    },
    {
     "name": "stdout",
     "output_type": "stream",
     "text": [
      "\n",
      "\u001b[1;91mO SEGUNDO NÚMERO DEVE SER MAIOR QUE O PRIMEIRO.\n",
      "POR FAVOR, INSIRA UM VALOR VÁLIDO.\u001b[0m\n",
      "\n"
     ]
    },
    {
     "name": "stdin",
     "output_type": "stream",
     "text": [
      "Informe o 2ª número inteiro:  18\n"
     ]
    },
    {
     "name": "stdout",
     "output_type": "stream",
     "text": [
      "\n",
      "------- NÚMEROS ENTRE 9 E 18 -------\n",
      "9 10 11 12 13 14 15 16 17 18 \n",
      "------------------------------------\n"
     ]
    }
   ],
   "source": [
    "num = []\n",
    "\n",
    "while len(num) < 2:\n",
    "    try:\n",
    "        n = int(input(f\"Informe o {len(num)+1}ª número inteiro: \"))\n",
    "        if len(num) == 0:\n",
    "            num.append(n)\n",
    "            i += 1   \n",
    "        elif n < num[0]:\n",
    "            print('\\n\\033[1;91mO SEGUNDO NÚMERO DEVE SER MAIOR QUE O PRIMEIRO.\\nPOR FAVOR, INSIRA UM VALOR VÁLIDO.\\033[0m\\n')\n",
    "        elif n == num[0]:\n",
    "            print('\\n\\033[1;91mOS VALORES NÃO PODEM SER IGUAIS.\\nPOR FAVOR, INSIRA UM VALOR NUMÉRICO VÁLIDO.\\033[0m\\n')\n",
    "        else:\n",
    "            num.append(n)\n",
    "    except ValueError:\n",
    "        print('\\n\\033[1;91mPOR FAVOR, INSIRA UM VALOR NUMÉRICO VÁLIDO.\\033[0m\\n')\n",
    "  \n",
    "print('\\n'+f' NÚMEROS ENTRE {num[0]} E {num[1]} '.center(36, '-'))\n",
    "for n in range(num[0], num[1] + 1): # +1 para incluir o último valor\n",
    "    print(n, end=' ')\n",
    "print('\\n'+'-'*36)"
   ]
  },
  {
   "cell_type": "markdown",
   "id": "f7dc2fc5-b033-4da6-828e-a8f9e90cd21b",
   "metadata": {},
   "source": [
    "-----------------------"
   ]
  },
  {
   "cell_type": "markdown",
   "id": "93d2f2d6-8614-4f0b-adc9-bd53937c5cd1",
   "metadata": {},
   "source": [
    "<h3 style=\"color: #008000; font-weight: bold;\">EXERCÍCIO 11</h3>"
   ]
  },
  {
   "cell_type": "markdown",
   "id": "5eb69c1d-0b0f-42ff-8bd2-df50cab2f1a1",
   "metadata": {},
   "source": [
    "##### Altere o programa anterior para mostrar no final a soma dos números.\n"
   ]
  },
  {
   "cell_type": "code",
   "execution_count": 109,
   "id": "57c7fff3-7e09-43a1-9d58-54903b532cc8",
   "metadata": {},
   "outputs": [
    {
     "name": "stdin",
     "output_type": "stream",
     "text": [
      "Informe o 1ª número inteiro:  2\n",
      "Informe o 2ª número inteiro:  8\n"
     ]
    },
    {
     "name": "stdout",
     "output_type": "stream",
     "text": [
      "\n",
      "------- NÚMEROS ENTRE 2 E 8 --------\n",
      "2 3 4 5 6 7 8 \n",
      "------------------------------------\n",
      "\n",
      "-----SOMA DOS NÚMEROS----\n",
      "|           35          |\n",
      "-------------------------\n"
     ]
    }
   ],
   "source": [
    "num = []\n",
    "\n",
    "while len(num) < 2:\n",
    "    try:\n",
    "        n = int(input(f\"Informe o {len(num)+1}ª número inteiro: \"))\n",
    "        if len(num) == 0:\n",
    "            num.append(n)\n",
    "            i += 1   \n",
    "        elif n < num[0]:\n",
    "            print('\\n\\033[1;91mO SEGUNDO NÚMERO DEVE SER MAIOR QUE O PRIMEIRO.\\nPOR FAVOR, INSIRA UM VALOR VÁLIDO.\\033[0m\\n')\n",
    "        elif n == num[0]:\n",
    "            print('\\n\\033[1;91mOS VALORES NÃO PODEM SER IGUAIS.\\nPOR FAVOR, INSIRA UM VALOR NUMÉRICO VÁLIDO.\\033[0m\\n')\n",
    "        else:\n",
    "            num.append(n)\n",
    "    except ValueError:\n",
    "        print('\\n\\033[1;91mPOR FAVOR, INSIRA UM VALOR NUMÉRICO VÁLIDO.\\033[0m\\n')\n",
    "\n",
    "soma = 0\n",
    "  \n",
    "print('\\n'+f' NÚMEROS ENTRE {num[0]} E {num[1]} '.center(36, '-'))\n",
    "for n in range(num[0], num[1] + 1): # +1 para incluir o último valor\n",
    "    print(n, end=' ')\n",
    "    soma += n\n",
    "print('\\n'+'-'*36)\n",
    "\n",
    "#Formatando o resultado\n",
    "print('\\n'+'SOMA DOS NÚMEROS'.center(25, '-'))\n",
    "print('|'+f'{soma}'.center(23)+'|')\n",
    "print('-'*25)"
   ]
  },
  {
   "cell_type": "markdown",
   "id": "7495e243-63b1-499f-8623-b83dde63f0e7",
   "metadata": {},
   "source": [
    "-----"
   ]
  },
  {
   "cell_type": "markdown",
   "id": "6f3a111c-1abc-4dcf-9a0a-71bf9dfd7685",
   "metadata": {},
   "source": [
    "<h3 style=\"color: #008000; font-weight: bold;\">EXERCÍCIO 12</h3>"
   ]
  },
  {
   "cell_type": "markdown",
   "id": "7292ac3d-2547-4357-b27e-63050864f20c",
   "metadata": {},
   "source": [
    "##### Desenvolva um gerador de tabuada, capaz de gerar a tabuada de qualquer número inteiro entre 1 a 10. O usuário deve informar de qual número ele deseja ver a tabuada. A saída deve ser conforme o exemplo abaixo:\n",
    "### Tabuada de 5:\n",
    "- 5 X 1 = 5\n",
    "- 5 X 2 = 10\n",
    "...\n",
    "- 5 X 10 = 50"
   ]
  },
  {
   "cell_type": "code",
   "execution_count": 154,
   "id": "0eca47e0-afdc-4883-8b3b-30ee76bda9aa",
   "metadata": {},
   "outputs": [
    {
     "name": "stdin",
     "output_type": "stream",
     "text": [
      "Informe um número (entre 1 e 10):  5\n"
     ]
    },
    {
     "name": "stdout",
     "output_type": "stream",
     "text": [
      "\n",
      "------ TABUADA DO 5 ------\n",
      "|       1 x 5 = 05       |\n",
      "|       2 x 5 = 10       |\n",
      "|       3 x 5 = 15       |\n",
      "|       4 x 5 = 20       |\n",
      "|       5 x 5 = 25       |\n",
      "|       6 x 5 = 30       |\n",
      "|       7 x 5 = 35       |\n",
      "|       8 x 5 = 40       |\n",
      "|       9 x 5 = 45       |\n",
      "|      10 x 5 = 50       |\n",
      "--------------------------\n"
     ]
    }
   ],
   "source": [
    "while True:\n",
    "    try:\n",
    "        num = int(input(f\"Informe um número (entre 1 e 10): \"))\n",
    "        if 1 <= num <= 10:\n",
    "            break\n",
    "        else:\n",
    "            print('\\n\\033[1;91mPOR FAVOR, INSIRA UMA NÚMERO VÁLIDO.\\033[0m\\n')\n",
    "    except ValueError:\n",
    "        print('\\n\\033[1;91mPOR FAVOR, INSIRA UM VALOR NUMÉRICO VÁLIDO.\\033[0m\\n')\n",
    "\n",
    "print('\\n'+f' TABUADA DO {num} '.center(26, '-'))\n",
    "\n",
    "for i in range(1, 11): \n",
    "    resultado = num * i\n",
    "    print('|'+f'{i} x {num} = {resultado:02}'.center(24)+'|')\n",
    "\n",
    "print('-'*26)\n",
    "    "
   ]
  },
  {
   "cell_type": "markdown",
   "id": "09b18690-0cec-4b0e-a236-81bd46a111c5",
   "metadata": {},
   "source": [
    "--------"
   ]
  },
  {
   "cell_type": "markdown",
   "id": "f6f598cb-2e73-4b52-a5c0-66496468bc02",
   "metadata": {},
   "source": [
    "<h3 style=\"color: #008000; font-weight: bold;\">EXERCÍCIO 13</h3>"
   ]
  },
  {
   "attachments": {},
   "cell_type": "markdown",
   "id": "0a7c343f-6a55-4c2e-adb2-144c154de43a",
   "metadata": {},
   "source": [
    "##### Sendo $$ H = 1 + \\frac{1}{2} + \\frac{1}{3} + \\frac{1}{4} + \\ldots + \\frac{1}{N}$$ Faça um programa que calcule o valor de H com N termos.\r\n"
   ]
  },
  {
   "cell_type": "code",
   "execution_count": 11,
   "id": "9d014ef5-421e-416b-946c-d26a9aad89d9",
   "metadata": {},
   "outputs": [
    {
     "name": "stdin",
     "output_type": "stream",
     "text": [
      "Informe o número de termos (N):  -5\n"
     ]
    },
    {
     "name": "stdout",
     "output_type": "stream",
     "text": [
      "\n",
      "- QTD DE TERMOS --\n",
      "|       -5       |\n",
      "------------------\n",
      "--- VALOR DE H ---\n",
      "|     \u001b[1;42m 0.00 \u001b[0m     |\n",
      "------------------\n"
     ]
    }
   ],
   "source": [
    "while True:\n",
    "    try:\n",
    "        n = int(input(f\"Informe o número de termos (N): \"))\n",
    "        break\n",
    "    except ValueError:\n",
    "        print('\\n\\033[1;91mPOR FAVOR, INSIRA UM NÚMERO INTEIRO.\\033[0m\\n')\n",
    "\n",
    "h = 0\n",
    "\n",
    "# Calculando o valor de h\n",
    "for i in range(1, n+1): # +1 para englobar o último número \n",
    "    h+= 1/i\n",
    "\n",
    "#Formatando o resultado\n",
    "print('\\n'+' QTD DE TERMOS '.center(18, '-'))\n",
    "print('|'+f'{n}'.center(16)+'|')\n",
    "print('-'*18)\n",
    "\n",
    "print(' VALOR DE H '.center(18, '-'))\n",
    "print('|'+f'\\033[1;42m {h:.2f} \\033[0m'.center(27)+'|')\n",
    "print('-'*18)"
   ]
  },
  {
   "cell_type": "markdown",
   "id": "56ca6c14-85f9-4a69-b656-b016958f6c2d",
   "metadata": {},
   "source": [
    "-------"
   ]
  },
  {
   "cell_type": "markdown",
   "id": "2b7c15ef-528f-4c40-a20d-f20fe2c69840",
   "metadata": {},
   "source": [
    "<h3 style=\"color: #008000; font-weight: bold;\">EXERCÍCIO 14</h3>"
   ]
  },
  {
   "cell_type": "markdown",
   "id": "3db2e97d-822e-4707-b755-7d7c89477b0f",
   "metadata": {},
   "source": [
    "##### Em uma competição de ginástica, cada atleta recebe votos de nove jurados. A melhor e a pior nota são eliminadas. A sua nota fica sendo a média dos votos restantes. Você deve fazer um programa que receba o nome do ginasta e as notas dos nove jurados alcançadas pelo atleta em sua apresentação e depois informe a sua média, conforme a descrição acima informada (retirar o melhor e o pior salto e depois calcular a média com as notas restantes). As notas não são informadas ordenadas. \n",
    "Um exemplo de saída do programa deve ser conforme o exemplo abaixo:\n",
    "  | Atleta            | Nota  |\n",
    "  |-------------------|-------|\n",
    "  | Nota:          | 9.9      |\n",
    "  | Nota:        |  9.0       |\n",
    "  | Nota:          |  8.5     |\n",
    "  | Nota:          | 9.7      |\n",
    "  | Resultado final          |\n",
    "  | Melhor nota       | 9.8   |\n",
    "  | Pior nota         | 7.3   |\n",
    "  | Média             | 9,07  |"
   ]
  },
  {
   "cell_type": "code",
   "execution_count": 12,
   "id": "88774e98-35d4-41b2-a22c-4868e4e255d7",
   "metadata": {},
   "outputs": [
    {
     "name": "stdin",
     "output_type": "stream",
     "text": [
      "NOME DO(A) GINASTA:  Ellen\n"
     ]
    },
    {
     "name": "stdout",
     "output_type": "stream",
     "text": [
      "\n",
      "\n"
     ]
    },
    {
     "name": "stdin",
     "output_type": "stream",
     "text": [
      "Informe a 1ª nota:  1\n",
      "Informe a 2ª nota:  2\n",
      "Informe a 3ª nota:  3\n",
      "Informe a 4ª nota:  4\n",
      "Informe a 5ª nota:  5\n",
      "Informe a 6ª nota:  6\n",
      "Informe a 7ª nota:  7\n",
      "Informe a 8ª nota:  8\n",
      "Informe a 9ª nota:  9\n"
     ]
    },
    {
     "name": "stdout",
     "output_type": "stream",
     "text": [
      "\n",
      "===================================\n",
      "      \u001b[1m PLACAR DA GINÁSTICA \u001b[0m       \n",
      "===================================\n",
      "        \u001b[1m ATLETA: ELLEN  \u001b[0m          \n",
      "\n",
      "--------\u001b[1m NOTAS REMOVIDAS \u001b[0m--------\n",
      "|                |     NOTA     |\n",
      "---------------------------------\n",
      "|   MELHOR NOTA  |     \u001b[1;91m 9.0 \u001b[0m    |\n",
      "|    PIOR NOTA   |     \u001b[1;91m 1.0 \u001b[0m    |\n",
      "---------------------------------\n",
      "\n",
      "----------\u001b[1m NOTAS FINAIS \u001b[0m---------\n",
      "|                |     NOTA     |\n",
      "---------------------------------\n",
      "|       Nota     |     \u001b[1;92m 2.0 \u001b[0m    |\n",
      "---------------------------------\n",
      "|       Nota     |     \u001b[1;92m 3.0 \u001b[0m    |\n",
      "---------------------------------\n",
      "|       Nota     |     \u001b[1;92m 4.0 \u001b[0m    |\n",
      "---------------------------------\n",
      "|       Nota     |     \u001b[1;92m 5.0 \u001b[0m    |\n",
      "---------------------------------\n",
      "|       Nota     |     \u001b[1;92m 6.0 \u001b[0m    |\n",
      "---------------------------------\n",
      "|       Nota     |     \u001b[1;92m 7.0 \u001b[0m    |\n",
      "---------------------------------\n",
      "|       Nota     |     \u001b[1;92m 8.0 \u001b[0m    |\n",
      "---------------------------------\n",
      "|  \u001b[1m MÉDIA FINAL  |    \u001b[42m 5.00 \u001b[0m    |\n",
      "---------------------------------\n"
     ]
    }
   ],
   "source": [
    "nota = []\n",
    "i = 0\n",
    "\n",
    "#nome da ginasta\n",
    "nome_atleta = input('NOME DO(A) GINASTA: ').upper()\n",
    "print('\\n')\n",
    "\n",
    "# pedir as notas\n",
    "while i < 9:\n",
    "    try:\n",
    "        n = float(input(f\"Informe a {i+1}ª nota: \"))\n",
    "        nota.append(n)\n",
    "        i += 1   \n",
    "    except ValueError:\n",
    "        print('\\n\\033[1;91mPOR FAVOR, INSIRA UM VALOR NUMÉRICO VÁLIDO.\\033[0m\\n')\n",
    "\n",
    "# mostrar as notas removidas\n",
    "print('\\n'+'='*35)\n",
    "print ('\\33[1m PLACAR DA GINÁSTICA \\33[0m '.center(42))\n",
    "print('='*35)\n",
    "print (f'\\33[1m ATLETA: {nome_atleta}  \\33[0m '.center(42)) #mostrar nome do atleta\n",
    "\n",
    "print('\\n'+'\\033[1m NOTAS REMOVIDAS \\033[0m'.center(41,'-'))\n",
    "print('|', ''.center(15)+'|'+'NOTA'.center(14)+'|')\n",
    "print('-' * 33)\n",
    "print('|', 'MELHOR NOTA'.center(15)+'|'+f'\\033[1;91m {max(nota)} \\033[0m'.center(25)+'|') #nota max\n",
    "print('|', 'PIOR NOTA'.center(15)+'|'+f'\\033[1;91m {min(nota)} \\033[0m'.center(25)+'|') # nota min\n",
    "print('-' * 33)\n",
    "\n",
    "# Eliminando a melhor e pior nota\n",
    "nota.remove(max(nota))\n",
    "nota.remove(min(nota))\n",
    "\n",
    "# Calculando a média com as notas restantes\n",
    "media = sum(nota)/len(nota)\n",
    "\n",
    "\n",
    "print('\\n'+'\\033[1m NOTAS FINAIS \\033[0m'.center(41,'-'))\n",
    "print('|', ''.center(15)+'|'+'NOTA'.center(14)+'|')\n",
    "print('-' * 33)\n",
    "\n",
    "for i in nota:\n",
    "    print('|', 'Nota'.center(15)+'|'+f'\\033[1;92m {i} \\033[0m'.center(25)+'|')\n",
    "    print('-' * 33)\n",
    "\n",
    "print('|', '\\033[1m MÉDIA FINAL '.center(19)+'|'+f'\\033[42m {media:.2f} \\033[0m'.center(23)+'|')\n",
    "print('-' * 33)"
   ]
  },
  {
   "cell_type": "markdown",
   "id": "aa6d581b-6c72-44a5-a4ed-b4606d214785",
   "metadata": {},
   "source": [
    "-----"
   ]
  },
  {
   "cell_type": "markdown",
   "id": "335166bb-e5a3-4e68-8cde-9f326a7b8cb5",
   "metadata": {},
   "source": [
    "<h3 style=\"color: #008000; font-weight: bold;\">EXERCÍCIO 15</h3>"
   ]
  },
  {
   "cell_type": "markdown",
   "id": "3f29fe35-412c-4078-9853-f30a7f039a5b",
   "metadata": {},
   "source": [
    "##### Em uma competição de salto em distância cada atleta tem direito a cinco saltos. No final da série de saltos de cada atleta, o melhor e o pior resultados são eliminados. O seu resultado fica sendo a média dos três valores restantes. Você deve fazer um programa que receba o nome e as cinco distâncias alcançadas pelo atleta em seus saltos e depois informe a média dos saltos conforme a descrição acima informada (retirar o melhor e o pior salto e depois calcular a média). Faça uso de uma lista para armazenar os saltos. Os saltos são informados na ordem da execução, portanto não são ordenados. O programa deve ser encerrado quando não for informado o nome do atleta. \n",
    "A saída do programa deve ser conforme o exemplo abaixo:\n",
    "| Atleta              | Distância (m) |\n",
    "|---------------------|---------------|\n",
    "| Primeiro Salto      | 6.5           |\n",
    "| Segundo Salto       | 6.1           |\n",
    "| Terceiro Salto      | 6.2           |\n",
    "| Quarto Salto        | 5.4           |\n",
    "| Quinto Salto        | 5.3           |\n",
    "| Melhor salto        | 6.5           |\n",
    "| Pior salto          | 5.3           |\n",
    "| Média dos demais    | 5.9           |\n",
    "| Resultado final     | Lucas Lima: 5.9 m |\n"
   ]
  },
  {
   "cell_type": "code",
   "execution_count": 23,
   "id": "62eafcbd-23d3-4a73-8bb6-b07ad11d254b",
   "metadata": {},
   "outputs": [
    {
     "name": "stdin",
     "output_type": "stream",
     "text": [
      "NOME DO(A) ATLETA:  \n"
     ]
    },
    {
     "name": "stdout",
     "output_type": "stream",
     "text": [
      "\n",
      "\n",
      "\n",
      "\u001b[1;91mNOME DO ATLETA NÃO INFORMADO.\n",
      " PROGRAMA FINALIZADO.\u001b[0m\n",
      "\n"
     ]
    }
   ],
   "source": [
    "distancia = []\n",
    "i = 0\n",
    "while True:\n",
    "    nome_atleta = input('NOME DO(A) ATLETA: ').upper()\n",
    "    print('\\n')\n",
    "    if nome_atleta != ' ' and nome_atleta.isalpha():\n",
    "        while i < 5:\n",
    "            try:\n",
    "                n = float(input(f\"Informe a distancia do {i+1}ª salto (em metros): \"))\n",
    "                distancia.append(n)\n",
    "                i += 1   \n",
    "            except ValueError:\n",
    "                print('\\n\\033[1;91mPOR FAVOR, INSIRA UM VALOR NUMÉRICO VÁLIDO.\\033[0m\\n')\n",
    "        \n",
    "        print('\\n'+'='*35)\n",
    "        print ('\\33[1m PLACAR DO SALTO EM DISTÂNCIA \\33[0m '.center(42))\n",
    "        print('='*35)\n",
    "        print (f'\\33[1m ATLETA: {nome_atleta}  \\33[0m '.center(42))\n",
    "        \n",
    "        print('\\n'+'\\033[1m NOTAS REMOVIDAS \\033[0m'.center(41,'-'))\n",
    "        print('|', ''.center(15)+'|'+'NOTA'.center(14)+'|')\n",
    "        print('-' * 33)\n",
    "        print('|', 'MELHOR SALTO'.center(15)+'|'+f'\\033[1;91m {max(distancia)} m\\033[0m'.center(25)+'|')\n",
    "        print('|', 'PIOR SALTO'.center(15)+'|'+f'\\033[1;91m {min(distancia)} m\\033[0m'.center(25)+'|')\n",
    "        print('-' * 33)\n",
    "        \n",
    "        # Eliminando a melhor e pior nota\n",
    "        distancia.remove(max(distancia))\n",
    "        distancia.remove(min(distancia))\n",
    "        \n",
    "        # Calculando a média com as notas restantes\n",
    "        media = sum(distancia)/len(distancia)\n",
    "        \n",
    "        \n",
    "        print('\\n'+'\\033[1m NOTAS FINAIS \\033[0m'.center(41,'-'))\n",
    "        print('|', ''.center(15)+'|'+'DISTÂNCIA'.center(14)+'|')\n",
    "        print('-' * 33)\n",
    "        \n",
    "        for i in distancia:\n",
    "            print('|', f'Salto'.center(15)+'|'+f'\\033[1;92m {i} m \\033[0m'.center(25)+'|')\n",
    "            print('-' * 33)\n",
    "        \n",
    "        print('|', '\\033[1m MÉDIA FINAL '.center(19)+'|'+f'\\033[42m {media:.2f} m\\033[0m'.center(23)+'|')\n",
    "        print('-' * 33)\n",
    "        break\n",
    "    else:\n",
    "        print('\\n\\033[1;91mNOME DO ATLETA NÃO INFORMADO.\\n PROGRAMA FINALIZADO.\\033[0m\\n')\n",
    "        break"
   ]
  },
  {
   "cell_type": "markdown",
   "id": "e978832c-892c-4e61-a7b8-87144f2b169c",
   "metadata": {},
   "source": [
    "-------"
   ]
  },
  {
   "cell_type": "markdown",
   "id": "eff9ac01-c606-40aa-be5d-1202e6b6cbd3",
   "metadata": {},
   "source": [
    "<h3 style=\"color: #008000; font-weight: bold;\">EXERCÍCIO 16</h3>"
   ]
  },
  {
   "cell_type": "markdown",
   "id": "d6b86be2-1a67-4c35-b3c0-c96dcf8d91c6",
   "metadata": {},
   "source": [
    "##### Desenvolver um programa para verificar a nota do aluno em uma prova com 12 questões, o programa deve perguntar ao aluno a resposta de cada questão e ao final comparar com o gabarito da prova e assim calcular o total de acertos e a nota (atribuir 1 ponto por resposta certa). Após cada aluno utilizar o sistema deve ser feita uma pergunta se outro aluno vai utilizar o sistema. Após todos os alunos terem respondido informar:\n",
    "- Maior e Menor Acerto;\n",
    "- Total de Alunos que utilizaram o sistema;\n",
    "- A Média das Notas da Turma.\n",
    "\n",
    "Gabarito da Prova:\n",
    "- 01 - A\n",
    "- 02 - B\n",
    "- 03 - C\n",
    "- 04 - D\n",
    "- 05 - E\n",
    "- 06 - E\n",
    "- 07 - D\n",
    "- 08 - C\n",
    "- 09 - B\n",
    "- 10 - A\n",
    "- 11 - C\n",
    "- 12 - D"
   ]
  },
  {
   "cell_type": "markdown",
   "id": "889dd5ed-3f6f-4a07-9a55-220fbcf55229",
   "metadata": {},
   "source": [
    "### Gabarito já pronto"
   ]
  },
  {
   "cell_type": "code",
   "execution_count": 17,
   "id": "0ba8d7ac-a5d3-4b10-844f-c2eedb335d84",
   "metadata": {},
   "outputs": [
    {
     "name": "stdout",
     "output_type": "stream",
     "text": [
      "\n",
      "=============================================\n",
      "           \u001b[1m CORREÇÃO DA PROVA \u001b[0m            \n",
      "=============================================\n"
     ]
    },
    {
     "name": "stdin",
     "output_type": "stream",
     "text": [
      "INFORME O NOME DO ALUNO:  Nayara\n"
     ]
    },
    {
     "name": "stdout",
     "output_type": "stream",
     "text": [
      "\n",
      "\u001b[1mQUESTÕES\u001b[0m\n"
     ]
    },
    {
     "name": "stdin",
     "output_type": "stream",
     "text": [
      "Resposta da questão 1:  a\n",
      "Resposta da questão 2:  b\n",
      "Resposta da questão 3:  c\n",
      "Resposta da questão 4:  d\n",
      "Resposta da questão 5:  e\n",
      "Resposta da questão 6:  d\n",
      "Resposta da questão 7:  c\n",
      "Resposta da questão 8:  b\n",
      "Resposta da questão 9:  a\n",
      "Resposta da questão 10:  d\n",
      "Resposta da questão 11:  c\n",
      "Resposta da questão 12:  a\n"
     ]
    },
    {
     "name": "stdout",
     "output_type": "stream",
     "text": [
      "\n",
      "---------------------------------\n",
      "|                |  Nº ACERTOS  |\n",
      "---------------------------------\n",
      "|      NAYARA    |     \u001b[1m 6 \u001b[0m      |\n",
      "---------------------------------\n"
     ]
    },
    {
     "name": "stdin",
     "output_type": "stream",
     "text": [
      "Outro aluno vai utilizar o programa? (S/N):  s\n"
     ]
    },
    {
     "name": "stdout",
     "output_type": "stream",
     "text": [
      "\n",
      "=============================================\n",
      "           \u001b[1m CORREÇÃO DA PROVA \u001b[0m            \n",
      "=============================================\n"
     ]
    },
    {
     "name": "stdin",
     "output_type": "stream",
     "text": [
      "INFORME O NOME DO ALUNO:  Lucas\n"
     ]
    },
    {
     "name": "stdout",
     "output_type": "stream",
     "text": [
      "\n",
      "\u001b[1mQUESTÕES\u001b[0m\n"
     ]
    },
    {
     "name": "stdin",
     "output_type": "stream",
     "text": [
      "Resposta da questão 1:  a\n",
      "Resposta da questão 2:  b\n",
      "Resposta da questão 3:  c\n",
      "Resposta da questão 4:  d\n",
      "Resposta da questão 5:  e\n",
      "Resposta da questão 6:  e\n",
      "Resposta da questão 7:  d\n",
      "Resposta da questão 8:  c\n",
      "Resposta da questão 9:  b\n",
      "Resposta da questão 10:  a\n",
      "Resposta da questão 11:  c\n",
      "Resposta da questão 12:  d\n"
     ]
    },
    {
     "name": "stdout",
     "output_type": "stream",
     "text": [
      "\n",
      "---------------------------------\n",
      "|                |  Nº ACERTOS  |\n",
      "---------------------------------\n",
      "|      LUCAS     |     \u001b[1m 12 \u001b[0m     |\n",
      "---------------------------------\n"
     ]
    },
    {
     "name": "stdin",
     "output_type": "stream",
     "text": [
      "Outro aluno vai utilizar o programa? (S/N):  n\n"
     ]
    },
    {
     "name": "stdout",
     "output_type": "stream",
     "text": [
      "\n",
      "--------------------------------------------------\n",
      "|                   |        INFORMAÇÕES         |\n",
      "--------------------------------------------------\n",
      "|    MAIOR ACERTO   |   12   |       LUCAS       |\n",
      "--------------------------------------------------\n",
      "|    MENOR ACERTO   |   6    |       NAYARA      |\n",
      "--------------------------------------------------\n",
      "|  TOTAL DE ALUNOS  |            \u001b[1m 2 \u001b[0m             |\n",
      "--------------------------------------------------\n",
      "|  MÉDIA DE ACERTOS |           \u001b[1m 9.00 \u001b[0m           |\n",
      "--------------------------------------------------\n"
     ]
    }
   ],
   "source": [
    "gabarito = ['A', 'B', 'C', 'D', 'E', 'E', 'D', 'C', 'B', 'A', 'C', 'D']\n",
    "resultado_final = []\n",
    "continuar = True\n",
    "\n",
    "\n",
    "\n",
    "while continuar:\n",
    "    print('\\n'+'='*45)\n",
    "    print ('\\33[1m CORREÇÃO DA PROVA \\33[0m '.center(50))\n",
    "    print('='*45)\n",
    "    \n",
    "    aluno = input('INFORME O NOME DO ALUNO: ').upper() # Pedir nome do aluno\n",
    "    print('\\n\\033[1mQUESTÕES\\033[0m')\n",
    "    gabarito_aluno = []\n",
    "    i = 0\n",
    "    # Pedir resposta do aluno\n",
    "    while i < 12:\n",
    "        resposta = input(f'Resposta da questão {i+1}: ').upper()\n",
    "        if resposta in ['A', 'B', 'C', 'D', 'E']:\n",
    "            gabarito_aluno.append(resposta)\n",
    "            i+=1\n",
    "        else:\n",
    "            print('\\n\\033[1;91mRESPOSTA INVÁLIDA.\\nDigite A, B, C, D ou E.\\033[0m\\n')\n",
    "    \n",
    "    # Calcular os acertos\n",
    "    acertos = 0\n",
    "    for i in range(12):\n",
    "        if gabarito[i] == gabarito_aluno[i]:\n",
    "            acertos +=1\n",
    "            \n",
    "    resultado_final.append((aluno, acertos)) #Uma lista de tuplas\n",
    "    \n",
    "    print('\\n'+'-' * 33)\n",
    "    print('|', ''.center(15)+'|'+'Nº ACERTOS'.center(14)+'|')\n",
    "    print('-' * 33)\n",
    "    print('|', f'{aluno}'.center(15)+'|'+f'\\033[1m {acertos} \\033[0m'.center(22)+'|')\n",
    "    print('-' * 33)\n",
    "    \n",
    "    novo_aluno = input('Outro aluno vai utilizar o programa? (S/N): ').upper()\n",
    "    if novo_aluno != 'S':\n",
    "        continuar = False   \n",
    "\n",
    "# Cálculos finais\n",
    "maior_acerto = max(resultado_final, key=lambda x: x[1]) # O lambda aqui é usado para pegar o 2º valor (qtd de acertos) da tupla.\n",
    "menor_acerto = min(resultado_final, key=lambda x: x[1]) # O lambda aqui é usado para pegar o 2º valor (qtd de acertos) da tupla.\n",
    "total_alunos = len(resultado_final)\n",
    "soma = sum(acertos for nome, acertos in resultado_final) # O for nesse caso faz o mesmo trabalho que o lambda\n",
    "media = soma/total_alunos\n",
    "\n",
    "print('\\n'+'-' * 50)\n",
    "print('|', ''.center(18)+'|'+'INFORMAÇÕES'.center(28)+'|')\n",
    "print('-' * 50)\n",
    "print('|', 'MAIOR ACERTO'.center(18)+'|'+f'{maior_acerto[1]}'.center(8)+'|'+f'{maior_acerto[0]}'.center(19)+'|')\n",
    "print('-' * 50)\n",
    "print('|', 'MENOR ACERTO'.center(18)+'|'+f'{menor_acerto[1]}'.center(8)+'|'+f'{menor_acerto[0]}'.center(19)+'|')\n",
    "print('-' * 50)\n",
    "print('|', 'TOTAL DE ALUNOS'.center(18)+'|'+f'\\033[1m {total_alunos} \\033[0m'.center(36)+'|')\n",
    "print('-' * 50)\n",
    "print('|', 'MÉDIA DE ACERTOS'.center(18)+'|'+f'\\033[1m {media:.2f} \\033[0m'.center(36)+'|')\n",
    "print('-' * 50)"
   ]
  },
  {
   "cell_type": "markdown",
   "id": "291b0604-71d5-4e6b-a860-208fcebcac34",
   "metadata": {},
   "source": [
    "### Professor colocando o gabarito"
   ]
  },
  {
   "cell_type": "code",
   "execution_count": 22,
   "id": "8aef2b88-491b-4911-bb76-611d787c82da",
   "metadata": {},
   "outputs": [
    {
     "name": "stdout",
     "output_type": "stream",
     "text": [
      "\n",
      "=============================================\n",
      "           \u001b[1m GABARITO DA PROVA \u001b[0m            \n",
      "=============================================\n",
      "\n",
      "\u001b[1mQUESTÕES\u001b[0m\n"
     ]
    },
    {
     "name": "stdin",
     "output_type": "stream",
     "text": [
      "Resposta da questão 1:  a\n",
      "Resposta da questão 2:  d\n",
      "Resposta da questão 3:  e\n",
      "Resposta da questão 4:  d\n",
      "Resposta da questão 5:  e\n",
      "Resposta da questão 6:  d\n",
      "Resposta da questão 7:  e\n",
      "Resposta da questão 8:  d\n",
      "Resposta da questão 9:  d\n",
      "Resposta da questão 10:  e\n",
      "Resposta da questão 11:  d\n",
      "Resposta da questão 12:  e\n"
     ]
    },
    {
     "name": "stdout",
     "output_type": "stream",
     "text": [
      "\n",
      "=============================================\n",
      "           \u001b[1m CORREÇÃO DA PROVA \u001b[0m            \n",
      "=============================================\n"
     ]
    },
    {
     "name": "stdin",
     "output_type": "stream",
     "text": [
      "INFORME O NOME DO ALUNO:  Lucas\n"
     ]
    },
    {
     "name": "stdout",
     "output_type": "stream",
     "text": [
      "\n",
      "\u001b[1mQUESTÕES\u001b[0m\n"
     ]
    },
    {
     "name": "stdin",
     "output_type": "stream",
     "text": [
      "Resposta da questão 1:  a\n",
      "Resposta da questão 2:  de\n"
     ]
    },
    {
     "name": "stdout",
     "output_type": "stream",
     "text": [
      "\n",
      "\u001b[1;91mRESPOSTA INVÁLIDA.\n",
      "Digite A, B, C, D ou E.\u001b[0m\n",
      "\n"
     ]
    },
    {
     "name": "stdin",
     "output_type": "stream",
     "text": [
      "Resposta da questão 2:  e\n",
      "Resposta da questão 3:  d\n",
      "Resposta da questão 4:  e\n",
      "Resposta da questão 5:  d\n",
      "Resposta da questão 6:  e\n",
      "Resposta da questão 7:  d\n",
      "Resposta da questão 8:  e\n",
      "Resposta da questão 9:  d\n",
      "Resposta da questão 10:  e\n",
      "Resposta da questão 11:  d\n",
      "Resposta da questão 12:  e\n"
     ]
    },
    {
     "name": "stdout",
     "output_type": "stream",
     "text": [
      "\n",
      "---------------------------------\n",
      "|                |  Nº ACERTOS  |\n",
      "---------------------------------\n",
      "|      LUCAS     |     \u001b[1m 5 \u001b[0m      |\n",
      "---------------------------------\n"
     ]
    },
    {
     "name": "stdin",
     "output_type": "stream",
     "text": [
      "Outro aluno vai utilizar o programa? (S/N):  n\n"
     ]
    },
    {
     "name": "stdout",
     "output_type": "stream",
     "text": [
      "\n",
      "--------------------------------------------------\n",
      "|                   |        INFORMAÇÕES         |\n",
      "--------------------------------------------------\n",
      "|    MAIOR ACERTO   |   5    |       LUCAS       |\n",
      "--------------------------------------------------\n",
      "|    MENOR ACERTO   |   5    |       LUCAS       |\n",
      "--------------------------------------------------\n",
      "|  TOTAL DE ALUNOS  |            \u001b[1m 1 \u001b[0m             |\n",
      "--------------------------------------------------\n",
      "|  MÉDIA DE ACERTOS |           \u001b[1m 5.00 \u001b[0m           |\n",
      "--------------------------------------------------\n"
     ]
    }
   ],
   "source": [
    "gabarito = []\n",
    "\n",
    "print('\\n'+'='*45)\n",
    "print ('\\33[1m GABARITO DA PROVA \\33[0m '.center(50))\n",
    "print('='*45)\n",
    "\n",
    "print('\\n\\033[1mQUESTÕES\\033[0m')\n",
    "i = 0\n",
    "# Pedir o gabarito\n",
    "while i < 12:\n",
    "    resposta = input(f'Resposta da questão {i+1}: ').upper()\n",
    "    if resposta in ['A', 'B', 'C', 'D', 'E']:\n",
    "        gabarito.append(resposta)\n",
    "        i+=1\n",
    "    else:\n",
    "        print('\\n\\033[1;91mRESPOSTA INVÁLIDA.\\nDigite A, B, C, D ou E.\\033[0m\\n')\n",
    "\n",
    "\n",
    "resultado_final = []\n",
    "continuar = True\n",
    "\n",
    "while continuar:\n",
    "    print('\\n'+'='*45)\n",
    "    print ('\\33[1m CORREÇÃO DA PROVA \\33[0m '.center(50))\n",
    "    print('='*45)\n",
    "    \n",
    "    aluno = input('INFORME O NOME DO ALUNO: ').upper() # Pedir nome do aluno\n",
    "    print('\\n\\033[1mQUESTÕES\\033[0m')\n",
    "    gabarito_aluno = []\n",
    "    i = 0\n",
    "    # Pedir resposta do aluno\n",
    "    while i < 12:\n",
    "        resposta = input(f'Resposta da questão {i+1}: ').upper()\n",
    "        if resposta in ['A', 'B', 'C', 'D', 'E']:\n",
    "            gabarito_aluno.append(resposta)\n",
    "            i+=1\n",
    "        else:\n",
    "            print('\\n\\033[1;91mRESPOSTA INVÁLIDA.\\nDigite A, B, C, D ou E.\\033[0m\\n')\n",
    "    \n",
    "    # Calcular os acertos\n",
    "    acertos = 0\n",
    "    for i in range(12):\n",
    "        if gabarito[i] == gabarito_aluno[i]:\n",
    "            acertos +=1\n",
    "            \n",
    "    resultado_final.append((aluno, acertos)) #Uma lista de tuplas\n",
    "    \n",
    "    print('\\n'+'-' * 33)\n",
    "    print('|', ''.center(15)+'|'+'Nº ACERTOS'.center(14)+'|')\n",
    "    print('-' * 33)\n",
    "    print('|', f'{aluno}'.center(15)+'|'+f'\\033[1m {acertos} \\033[0m'.center(22)+'|')\n",
    "    print('-' * 33)\n",
    "    \n",
    "    novo_aluno = input('Outro aluno vai utilizar o programa? (S/N): ').upper()\n",
    "    if novo_aluno != 'S':\n",
    "        continuar = False   \n",
    "\n",
    "# Cálculos finais\n",
    "maior_acerto = max(resultado_final, key=lambda x: x[1]) # O lambda aqui é usado para pegar o 2º valor (qtd de acertos) da tupla.\n",
    "menor_acerto = min(resultado_final, key=lambda x: x[1]) # O lambda aqui é usado para pegar o 2º valor (qtd de acertos) da tupla.\n",
    "total_alunos = len(resultado_final)\n",
    "soma = sum(acertos for nome, acertos in resultado_final) # O for nesse caso faz o mesmo trabalho que o lambda\n",
    "media = soma/total_alunos\n",
    "\n",
    "print('\\n'+'-' * 50)\n",
    "print('|', ''.center(18)+'|'+'INFORMAÇÕES'.center(28)+'|')\n",
    "print('-' * 50)\n",
    "print('|', 'MAIOR ACERTO'.center(18)+'|'+f'{maior_acerto[1]}'.center(8)+'|'+f'{maior_acerto[0]}'.center(19)+'|')\n",
    "print('-' * 50)\n",
    "print('|', 'MENOR ACERTO'.center(18)+'|'+f'{menor_acerto[1]}'.center(8)+'|'+f'{menor_acerto[0]}'.center(19)+'|')\n",
    "print('-' * 50)\n",
    "print('|', 'TOTAL DE ALUNOS'.center(18)+'|'+f'\\033[1m {total_alunos} \\033[0m'.center(36)+'|')\n",
    "print('-' * 50)\n",
    "print('|', 'MÉDIA DE ACERTOS'.center(18)+'|'+f'\\033[1m {media:.2f} \\033[0m'.center(36)+'|')\n",
    "print('-' * 50)"
   ]
  },
  {
   "cell_type": "markdown",
   "id": "cf680e0d-e37a-41ab-ac93-be1964d08ae6",
   "metadata": {},
   "source": [
    "------"
   ]
  },
  {
   "cell_type": "markdown",
   "id": "d6697203-0882-416c-b99d-f84f31401b15",
   "metadata": {},
   "source": [
    "<h3 style=\"color: #008000; font-weight: bold;\">EXERCÍCIO 17</h3>"
   ]
  },
  {
   "cell_type": "markdown",
   "id": "3e741095-4957-48f4-9922-7dd83b50be96",
   "metadata": {},
   "source": [
    "##### O cardápio de uma lanchonete é o seguinte:\n",
    "\n",
    "| Especificação    | Código | Preço  |\n",
    "|------------------|--------|--------|\n",
    "| Cachorro Quente  | 200    | 1,80|\n",
    "| Misto Simples    | 201    | 2,30|\n",
    "| Misto com ovo    | 202    | 2,60|\n",
    "| X-Salada         | 203    | 1,90|\n",
    "| X-Frango         | 204    | 1,80|\n",
    "| Refrigerante     | 205    | 1,25|\n",
    "\n",
    "##### Faça um programa que leia o código dos itens pedidos e as quantidades desejadas. Calcule e mostre o valor a ser pago por item (preço * quantidade) e o total geral do pedido. Considere que o cliente deve informar quando o pedido deve ser encerrado.\n"
   ]
  },
  {
   "cell_type": "code",
   "execution_count": 106,
   "id": "45285233-caf0-48db-a453-b384b3655008",
   "metadata": {},
   "outputs": [
    {
     "name": "stdout",
     "output_type": "stream",
     "text": [
      "\n",
      "======================================\n",
      "      \u001b[1m CARDÁPIO DA LANCHONETE \u001b[0m       \n",
      "======================================\n",
      "--------------------------------------\n",
      "| Especificação   | Código | Preço   |\n",
      "--------------------------------------\n",
      "| Cachorro Quente | 200    | R$ 1,80 |\n",
      "| Misto Simples   | 201    | R$ 2,30 |\n",
      "| Misto com ovo   | 202    | R$ 2,60 |\n",
      "| X-Salada        | 203    | R$ 1,90 |\n",
      "| X-Frango        | 204    | R$ 1,80 |\n",
      "| Refrigerante    | 205    | R$ 1,25 |\n",
      "--------------------------------------\n"
     ]
    },
    {
     "name": "stdin",
     "output_type": "stream",
     "text": [
      "\n",
      "Informe o código do item (ou 0 para encerrar o pedido):  205\n",
      "Informe a quantidade desejada:  5\n",
      "\n",
      "Informe o código do item (ou 0 para encerrar o pedido):  200\n",
      "Informe a quantidade desejada:  3\n",
      "\n",
      "Informe o código do item (ou 0 para encerrar o pedido):  203\n",
      "Informe a quantidade desejada:  3\n",
      "\n",
      "Informe o código do item (ou 0 para encerrar o pedido):  0\n"
     ]
    },
    {
     "name": "stdout",
     "output_type": "stream",
     "text": [
      "\n",
      "========================================\n",
      "          \u001b[1m RESUMO DO PEDIDO \u001b[0m           \n",
      "========================================\n",
      "----------------------------------------\n",
      "| Item            | Qtde   | Total     |\n",
      "----------------------------------------\n",
      "| Refrigerante    | 5      | R$ 6,25   |\n",
      "| Cachorro Quente | 3      | R$ 5,40   |\n",
      "| X-Salada        | 3      | R$ 5,70   |\n",
      "----------------------------------------\n",
      "| Total Geral     |        | R$ 17,35  |\n",
      "----------------------------------------\n"
     ]
    }
   ],
   "source": [
    "import locale\n",
    "\n",
    "# Define a localidade para formatar os números\n",
    "locale.setlocale(locale.LC_ALL, 'pt_BR.UTF-8')\n",
    "\n",
    "# Cardápio da lanchonete\n",
    "cardapio = {\n",
    "    200: ('Cachorro Quente', 1.80),\n",
    "    201: ('Misto Simples', 2.30),\n",
    "    202: ('Misto com ovo', 2.60),\n",
    "    203: ('X-Salada', 1.90),\n",
    "    204: ('X-Frango', 1.80),\n",
    "    205: ('Refrigerante', 1.25)\n",
    "}\n",
    "\n",
    "# Tabela de especificações\n",
    "print('\\n'+'='*38)\n",
    "print ('\\33[1m CARDÁPIO DA LANCHONETE \\33[0m '.center(45))\n",
    "print('='*38)\n",
    "print('-' * 38)\n",
    "print(f'| {\"Especificação\":<15} | {\"Código\":<6} | {\"Preço\":<7} |')\n",
    "print('-' * 38)\n",
    "for codigo, (especificacao, preco) in cardapio.items():\n",
    "    print(f'| {especificacao:<15} | {codigo:<6} | {locale.currency(preco, grouping=True):<7} |')\n",
    "print('-' * 38)\n",
    "\n",
    "pedido = []\n",
    "continuar = True\n",
    "\n",
    "while continuar:\n",
    "    try:\n",
    "        codigo = int(input('\\nInforme o código do item (ou 0 para encerrar o pedido): '))\n",
    "        \n",
    "        if codigo == 0:\n",
    "            continuar = False\n",
    "            continue\n",
    "        \n",
    "        if codigo not in cardapio:\n",
    "            print('\\033[1;91mCódigo inválido. Por favor, informe um código válido.\\033[0m')\n",
    "            continue\n",
    "\n",
    "        quantidade = int(input('Informe a quantidade desejada: '))\n",
    "        \n",
    "        if quantidade <= 0:\n",
    "            print('\\033[1;91mQuantidade inválida. Por favor, informe uma quantidade maior que zero.\\033[0m')\n",
    "            continue\n",
    "\n",
    "        item = cardapio[codigo]\n",
    "        pedido.append((item[0], item[1], quantidade))\n",
    "    \n",
    "    except ValueError:\n",
    "        print('\\033[1;91mPor favor, insira valores numéricos válidos.\\033[0m')\n",
    "\n",
    "total_geral = 0\n",
    "\n",
    "print('\\n'+'='*40)\n",
    "print ('\\33[1m RESUMO DO PEDIDO \\33[0m '.center(47))\n",
    "print('='*40)\n",
    "print('-' * 40)\n",
    "print(f'| {\"Item\":<15} | {\"Qtde\":<6} | {\"Total\":<9} |')\n",
    "print('-' * 40)\n",
    "\n",
    "for item in pedido:\n",
    "    nome, preco, quantidade = item\n",
    "    total = preco * quantidade\n",
    "    total_geral += total\n",
    "    print(f'| {nome:<15} | {quantidade:<6} | {locale.currency(total, grouping=True):<9} |')\n",
    "\n",
    "print('-' * 40)\n",
    "print(f'| {\"Total Geral\":<15} | {\" \":<6} | {locale.currency(total_geral, grouping=True):<9} |')\n",
    "print('-' * 40)\n"
   ]
  },
  {
   "cell_type": "markdown",
   "id": "416e1827-576a-4ff8-b3a8-5413a2faa160",
   "metadata": {},
   "source": [
    "-----------"
   ]
  },
  {
   "cell_type": "markdown",
   "id": "f4ad4eb0-e209-42ae-9dbd-925fa1275c1f",
   "metadata": {},
   "source": [
    "<h3 style=\"color: #008000; font-weight: bold;\">EXERCÍCIO 18</h3>"
   ]
  },
  {
   "cell_type": "markdown",
   "id": "15a7965b-9cfb-44c6-b913-422b6d11e137",
   "metadata": {},
   "source": [
    "##### Foi feita uma estatística em cinco cidades brasileiras para coletar dados sobre acidentes de trânsito. Foram obtidos os seguintes dados (o usuário deve informar esses dados):\n",
    "\n",
    " - Código da cidade;\n",
    " - Número de veículos de passeio (em 1999);\n",
    " - Número de acidentes de trânsito com vítimas (em 1999).\n",
    "\n",
    " Deseja-se saber:\n",
    " - Qual o maior e menor índice de acidentes de trânsito e a que cidade pertence;\n",
    " - Qual a média de veículos nas cinco cidades juntas;\n",
    " - Qual a média de acidentes de trânsito nas cidades com menos de 2.000 veículos de passeio.\n"
   ]
  },
  {
   "cell_type": "code",
   "execution_count": 81,
   "id": "29479bbf-86c4-458a-9ee8-678018916c20",
   "metadata": {},
   "outputs": [
    {
     "name": "stdout",
     "output_type": "stream",
     "text": [
      "\n",
      "Informe os dados da 1ª cidade: \n"
     ]
    },
    {
     "name": "stdin",
     "output_type": "stream",
     "text": [
      "Informe o código da cidade:  1\n",
      "Informe o número de veículos de passeio (em 1999):  1236\n",
      "Informe o número de acidentes de trânsito com vítimas (em 1999):  2\n"
     ]
    },
    {
     "name": "stdout",
     "output_type": "stream",
     "text": [
      "\n",
      "Informe os dados da 2ª cidade: \n"
     ]
    },
    {
     "name": "stdin",
     "output_type": "stream",
     "text": [
      "Informe o código da cidade:  2\n",
      "Informe o número de veículos de passeio (em 1999):  6321\n",
      "Informe o número de acidentes de trânsito com vítimas (em 1999):  12\n"
     ]
    },
    {
     "name": "stdout",
     "output_type": "stream",
     "text": [
      "\n",
      "Informe os dados da 3ª cidade: \n"
     ]
    },
    {
     "name": "stdin",
     "output_type": "stream",
     "text": [
      "Informe o código da cidade:  3\n",
      "Informe o número de veículos de passeio (em 1999):  1456\n",
      "Informe o número de acidentes de trânsito com vítimas (em 1999):  25\n"
     ]
    },
    {
     "name": "stdout",
     "output_type": "stream",
     "text": [
      "\n",
      "Informe os dados da 4ª cidade: \n"
     ]
    },
    {
     "name": "stdin",
     "output_type": "stream",
     "text": [
      "Informe o código da cidade:  4\n",
      "Informe o número de veículos de passeio (em 1999):  14789\n",
      "Informe o número de acidentes de trânsito com vítimas (em 1999):  147\n"
     ]
    },
    {
     "name": "stdout",
     "output_type": "stream",
     "text": [
      "\n",
      "Informe os dados da 5ª cidade: \n"
     ]
    },
    {
     "name": "stdin",
     "output_type": "stream",
     "text": [
      "Informe o código da cidade:  5\n",
      "Informe o número de veículos de passeio (em 1999):  123654\n",
      "Informe o número de acidentes de trânsito com vítimas (em 1999):  123\n"
     ]
    },
    {
     "name": "stdout",
     "output_type": "stream",
     "text": [
      "\n",
      "====================================================================================================\n",
      "                                             RELATÓRIO                                              \n",
      "====================================================================================================\n",
      "\n",
      "A cidade com o maior índice de acidentes de trânsito é a cidade 4 com 147 acidentes.\n",
      "\n",
      "A cidade com o menor índice de acidentes de trânsito é a cidade 1 com 2 acidentes.\n",
      "\n",
      "A média de veículos nas cinco cidades é de 29.491,2 veículos.\n",
      "\n",
      "A média de acidentes de trânsito nas cidades com menos de 2.000 veículos de passeio é de 13,5 acidentes.\n",
      "\n"
     ]
    }
   ],
   "source": [
    "import locale\n",
    "\n",
    "# Define a localidade para formatar os números\n",
    "locale.setlocale(locale.LC_ALL, 'pt_BR.UTF-8')\n",
    "\n",
    "cidades = []\n",
    "codigos = []\n",
    "i = 0\n",
    "\n",
    "while i < 5:\n",
    "    try:\n",
    "        print(f'\\nInforme os dados da {i + 1}ª cidade: ')\n",
    "\n",
    "        codigo = int(input('Informe o código da cidade: '))\n",
    "        if codigo <= 0 or codigo in codigos:\n",
    "            print('\\n\\033[1;91mRESPOSTA INVÁLIDA.\\nCódigo inválido ou já utilizado.\\033[0m\\n')\n",
    "            continue  # Pula para a próxima iteração se o código for inválido\n",
    "        codigos.append(codigo)\n",
    "\n",
    "        veiculos = int(input('Informe o número de veículos de passeio (em 1999): '))\n",
    "        if veiculos < 0:\n",
    "            raise ValueError\n",
    "\n",
    "        acidentes = int(input('Informe o número de acidentes de trânsito com vítimas (em 1999): '))\n",
    "        if acidentes < 0:\n",
    "            raise ValueError\n",
    "\n",
    "        cidades.append((codigo, veiculos, acidentes))  # Uma lista de tuplas\n",
    "        i += 1\n",
    "    except ValueError:\n",
    "        print('\\n\\033[1;91mPor favor, insira valores numéricos válidos e maiores ou iguais a zero. Certifique-se de que os códigos das cidades são únicos.\\033[0m\\n')\n",
    "\n",
    "# Maior e menor índice de acidentes de trânsito\n",
    "mais_acidentes = max(cidades, key=lambda x: x[2])  # O lambda aqui é usado para pegar o 3º valor (acidentes) da tupla.\n",
    "menos_acidentes = min(cidades, key=lambda x: x[2])  # O lambda aqui é usado para pegar o 3º valor (acidentes) da tupla.\n",
    "\n",
    "# Média de veículos nas cinco cidades juntas\n",
    "media = sum(veiculos for codigo, veiculos, acidentes in cidades) / len(cidades)\n",
    "\n",
    "# Média de acidentes de trânsito nas cidades com menos de 2.000 veículos de passeio\n",
    "menos_2000_veiculos = [tupla for tupla in cidades if tupla[1] < 2000]\n",
    "\n",
    "if menos_2000_veiculos:\n",
    "    media_acidentes_menos_2000 = sum(tupla[2] for tupla in menos_2000_veiculos) / len(menos_2000_veiculos)\n",
    "else:\n",
    "    media_acidentes_menos_2000 = 0\n",
    "\n",
    "# Formatando resultados\n",
    "print('\\n' + '=' * 100)\n",
    "print('RELATÓRIO'.center(100))\n",
    "print('=' * 100)\n",
    "\n",
    "print(f'\\nA cidade com o maior índice de acidentes de trânsito é a cidade {mais_acidentes[0]} com {locale.format_string(\"%d\", mais_acidentes[2], grouping=True)} acidentes.\\n')\n",
    "print(f'A cidade com o menor índice de acidentes de trânsito é a cidade {menos_acidentes[0]} com {locale.format_string(\"%d\", menos_acidentes[2], grouping=True)} acidentes.\\n')\n",
    "print(f'A média de veículos nas cinco cidades é de {locale.format_string(\"%.1f\", media, grouping=True)} veículos.\\n')\n",
    "print(f'A média de acidentes de trânsito nas cidades com menos de 2.000 veículos de passeio é de {locale.format_string(\"%.1f\", media_acidentes_menos_2000, grouping=True)} acidentes.\\n')\n"
   ]
  },
  {
   "cell_type": "markdown",
   "id": "e06c0201-dbd1-4edf-a5a9-b43794fdcc55",
   "metadata": {},
   "source": [
    "----"
   ]
  },
  {
   "cell_type": "markdown",
   "id": "5f92f1c8-104a-4a49-ae93-3628a6a96406",
   "metadata": {},
   "source": [
    "<h3 style=\"color: #008000; font-weight: bold;\">EXERCÍCIO 19</h3>"
   ]
  },
  {
   "cell_type": "markdown",
   "id": "a1ab842d-6e7b-4b0d-84bb-50d770f5100e",
   "metadata": {},
   "source": [
    "##### Um funcionário de uma empresa recebe aumento salarial anualmente: Sabe-se que:\n",
    " - Esse funcionário foi contratado em 2005, com salário inicial de R$ 1.000,00;\n",
    " - Em 2006 recebeu aumento de 1,5% sobre seu salário inicial;\n",
    " - A partir de 2007 (inclusive), os aumentos salariais sempre correspondem ao dobro do percentual do ano anterior. Faça um programa que determine o salário atual desse funcionário. Após concluir isto, altere o programa permitindo que o usuário digite o salário inicial do funcionário.\n"
   ]
  },
  {
   "cell_type": "markdown",
   "id": "0bf837c5-5a8d-4834-8b5c-ff7b31401164",
   "metadata": {},
   "source": [
    "### Determinar o salário atual do funcionário"
   ]
  },
  {
   "cell_type": "code",
   "execution_count": 33,
   "id": "5faba093-f304-4ae4-9f27-edbcd1356302",
   "metadata": {},
   "outputs": [
    {
     "name": "stdout",
     "output_type": "stream",
     "text": [
      "-----------------------------------------------------------------------------\n",
      "| \u001b[1m SALÁRIO EM 2024 |      R$ 2.034.089.956.135.592.080.204.365.824,00\u001b[0m       |\n",
      "-----------------------------------------------------------------------------\n"
     ]
    }
   ],
   "source": [
    "import locale\n",
    "\n",
    "# Define a localidade para formatar os números\n",
    "locale.setlocale(locale.LC_ALL, 'pt_BR.UTF-8')\n",
    "\n",
    "salario_inicial = 1000.00  # Salário inicial em 2005\n",
    "ano_contratacao = 2005     # Ano de contratação\n",
    "aumento = 0.015            # Aumento de 1.5% em 2006\n",
    "\n",
    "salario_hoje = salario_inicial\n",
    "\n",
    "# Calcula o salário até o ano de 2024\n",
    "for ano in range(ano_contratacao + 1, 2025):\n",
    "    salario_hoje *= (1 + aumento)  # Aplica o aumento do ano corrente\n",
    "    aumento *= 2                   # Aumento dobro do percentual do ano anterior a partir de 2007\n",
    "\n",
    "# Formata o resultado final para exibição\n",
    "salario = locale.format_string('%.2f', salario_hoje, grouping=True)\n",
    "\n",
    "#formatando resultado\n",
    "print('-' * 77)\n",
    "print('|', '\\033[1m SALÁRIO EM 2024 '.center(19)+'|'+f'R$ {salario}\\033[0m'.center(60)+'|')\n",
    "print('-' * 77)\n"
   ]
  },
  {
   "cell_type": "markdown",
   "id": "7afac4ef-cb98-4dac-aa51-1709f664a541",
   "metadata": {},
   "source": [
    "### Programa que o usuário digita o salario inicial do funcionário"
   ]
  },
  {
   "cell_type": "code",
   "execution_count": 34,
   "id": "d4e38e40-0840-43bf-8d35-12ef43263c71",
   "metadata": {},
   "outputs": [
    {
     "name": "stdin",
     "output_type": "stream",
     "text": [
      "Informe o salário inicial do funcionário, utilizando vírgula para separar os centavos:  1025\n"
     ]
    },
    {
     "name": "stdout",
     "output_type": "stream",
     "text": [
      "-----------------------------------------------------------------------------\n",
      "| \u001b[1m SALÁRIO EM 2024 |      R$ 2.084.942.205.038.982.459.453.079.552,00\u001b[0m       |\n",
      "-----------------------------------------------------------------------------\n"
     ]
    }
   ],
   "source": [
    "import locale\n",
    "\n",
    "# Define a localidade para formatar os números\n",
    "locale.setlocale(locale.LC_ALL, 'pt_BR.UTF-8')\n",
    "\n",
    "while True:\n",
    "    try:\n",
    "        # Solicita o salário inicial do funcionário\n",
    "        salario_str = input('Informe o salário inicial do funcionário, utilizando vírgula para separar os centavos: ')\n",
    "        \n",
    "        # Substitui vírgula por ponto para garantir que seja interpretado como float\n",
    "        salario_inicial = float(salario_str.replace(',', '.'))\n",
    "        \n",
    "        if salario_inicial <= 0:\n",
    "            raise ValueError\n",
    "        break  \n",
    "    except ValueError:\n",
    "        print('\\n\\033[1;91mERRO: Valor inválido. Por favor, insira um salário válido maior que zero.\\033[0m\\n')\n",
    "\n",
    "ano_contratacao = 2005     # Ano de contratação\n",
    "aumento = 0.015            # Aumento de 1.5% em 2006\n",
    "\n",
    "salario_hoje = salario_inicial\n",
    "\n",
    "# Calcula o salário até o ano de 2024\n",
    "for ano in range(ano_contratacao + 1, 2025):\n",
    "    salario_hoje *= (1 + aumento)  # Aplica o aumento do ano corrente\n",
    "    aumento *= 2                   # Aumento dobro do percentual do ano anterior a partir de 2007\n",
    "\n",
    "# Formata o resultado final para exibição\n",
    "salario = locale.format_string('%.2f', salario_hoje, grouping=True)\n",
    "\n",
    "# Exibe o resultado formatado\n",
    "print('-' * 77)\n",
    "print('|', '\\033[1m SALÁRIO EM 2024 '.center(19)+'|'+f'R$ {salario}\\033[0m'.center(60)+'|')\n",
    "print('-' * 77)"
   ]
  },
  {
   "cell_type": "markdown",
   "id": "5ae74a5e-6469-491f-93eb-aec15aa1de9f",
   "metadata": {},
   "source": [
    "-------"
   ]
  },
  {
   "cell_type": "markdown",
   "id": "bf5bf4ac-b334-483f-9336-a01f74ccf564",
   "metadata": {},
   "source": [
    "<h3 style=\"color: #008000; font-weight: bold;\">EXERCÍCIO 20</h3>"
   ]
  },
  {
   "cell_type": "markdown",
   "id": "04751422-59bd-424c-b00f-27a56960e808",
   "metadata": {},
   "source": [
    "##### Faça um programa que leia seis conjuntos de dois valores, o primeiro representando o número do funcionário e o segundo representando a sua altura em centímetros. Encontre o funcionário mais alto e o mais baixo. Mostre o número do funcionário mais alto e o número do funcionário mais baixo, junto com suas alturas.\n"
   ]
  },
  {
   "cell_type": "code",
   "execution_count": 39,
   "id": "14403fce-3f98-4bf2-b90f-5ec74ad01990",
   "metadata": {},
   "outputs": [
    {
     "name": "stdin",
     "output_type": "stream",
     "text": [
      "Informe a quantidade de funcionários do 1º grupo:  15\n",
      "Informe a altura do 1º grupo em centímetros:  189\n"
     ]
    },
    {
     "name": "stdout",
     "output_type": "stream",
     "text": [
      "\n",
      "\n"
     ]
    },
    {
     "name": "stdin",
     "output_type": "stream",
     "text": [
      "Informe a quantidade de funcionários do 2º grupo:  25\n",
      "Informe a altura do 2º grupo em centímetros:  169\n"
     ]
    },
    {
     "name": "stdout",
     "output_type": "stream",
     "text": [
      "\n",
      "\n"
     ]
    },
    {
     "name": "stdin",
     "output_type": "stream",
     "text": [
      "Informe a quantidade de funcionários do 3º grupo:  14\n",
      "Informe a altura do 3º grupo em centímetros:  200\n"
     ]
    },
    {
     "name": "stdout",
     "output_type": "stream",
     "text": [
      "\n",
      "\n"
     ]
    },
    {
     "name": "stdin",
     "output_type": "stream",
     "text": [
      "Informe a quantidade de funcionários do 4º grupo:  45\n",
      "Informe a altura do 4º grupo em centímetros:  179\n"
     ]
    },
    {
     "name": "stdout",
     "output_type": "stream",
     "text": [
      "\n",
      "\n"
     ]
    },
    {
     "name": "stdin",
     "output_type": "stream",
     "text": [
      "Informe a quantidade de funcionários do 5º grupo:  25\n",
      "Informe a altura do 5º grupo em centímetros:  210\n"
     ]
    },
    {
     "name": "stdout",
     "output_type": "stream",
     "text": [
      "\n",
      "\n"
     ]
    },
    {
     "name": "stdin",
     "output_type": "stream",
     "text": [
      "Informe a quantidade de funcionários do 6º grupo:  45\n",
      "Informe a altura do 6º grupo em centímetros:  174\n"
     ]
    },
    {
     "name": "stdout",
     "output_type": "stream",
     "text": [
      "\n",
      "\n",
      "\n",
      "--------------------------------------------------------------------\n",
      "|                        |   QTD DE FUNCIONÁRIOS   |     ALTURA    |\n",
      "--------------------------------------------------------------------\n",
      "|     GRUPO MAIS ALTO    |            25           |     2.1 m     |\n",
      "--------------------------------------------------------------------\n",
      "|     GRUPO MAIS BAIXO   |            45           |     1.74 m    |\n",
      "--------------------------------------------------------------------\n"
     ]
    }
   ],
   "source": [
    "# Cria um dicionário para armazenar número do funcionário e altura\n",
    "grupo_alturas = {}\n",
    "\n",
    "# Lê os dados de seis funcionários\n",
    "for i in range(1, 7):\n",
    "    try:\n",
    "        qtd_grupo= int(input(f\"Informe a quantidade de funcionários do {i}º grupo: \"))\n",
    "        altura_cm = float(input(f\"Informe a altura do {i}º grupo em centímetros: \"))\n",
    "        print('\\n')\n",
    "\n",
    "        # Armazena os dados no dicionário\n",
    "        grupo_alturas[qtd_grupo] = altura_cm\n",
    "\n",
    "    except ValueError:\n",
    "        print('\\n\\033[1;91mPOR FAVOR, INSIRA UM VALOR NUMÉRICO VÁLIDO PARA A ALTURA.\\033[0m\\n')\n",
    "\n",
    "# Encontra o funcionário mais alto e o mais baixo\n",
    "grupo_mais_alto = max(grupo_alturas, key=grupo_alturas.get)\n",
    "altura_mais_alta = grupo_alturas[grupo_mais_alto]\n",
    "\n",
    "grupo_mais_baixo = min(grupo_alturas, key=grupo_alturas.get)\n",
    "altura_mais_baixa = grupo_alturas[grupo_mais_baixo]\n",
    "\n",
    "# Imprime os resultados encontrados\n",
    "print('\\n' + '-' * 68)\n",
    "print('|', ''.center(23)+'|'+'QTD DE FUNCIONÁRIOS'.center(25)+'|'+'ALTURA'.center(15)+'|')\n",
    "print('-' * 68)\n",
    "print('|', 'GRUPO MAIS ALTO'.center(23)+'|'+f'{grupo_mais_alto}'.center(25)+'|'+f'{altura_mais_alta/100} m'.center(15)+'|')\n",
    "print('-' * 68)\n",
    "print('|', 'GRUPO MAIS BAIXO'.center(23)+'|'+f'{grupo_mais_baixo}'.center(25)+'|'+f'{altura_mais_baixa/100} m'.center(15)+'|')\n",
    "print('-' * 68)\n"
   ]
  },
  {
   "cell_type": "markdown",
   "id": "e85222d9-106c-45d1-a474-f5f56cc1f2d6",
   "metadata": {},
   "source": [
    "-----"
   ]
  }
 ],
 "metadata": {
  "kernelspec": {
   "display_name": "Python 3 (ipykernel)",
   "language": "python",
   "name": "python3"
  },
  "language_info": {
   "codemirror_mode": {
    "name": "ipython",
    "version": 3
   },
   "file_extension": ".py",
   "mimetype": "text/x-python",
   "name": "python",
   "nbconvert_exporter": "python",
   "pygments_lexer": "ipython3",
   "version": "3.11.7"
  }
 },
 "nbformat": 4,
 "nbformat_minor": 5
}
