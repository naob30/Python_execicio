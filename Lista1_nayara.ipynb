{
 "cells": [
  {
   "cell_type": "markdown",
   "id": "d1c11c4e-0bcb-4be3-b7ab-cd8b238a2367",
   "metadata": {},
   "source": [
    "<h1 style=\"color: #120a8f; font-weight: bold; text-align: center;\">LISTA 1 - JUMP START</h1>\n",
    "<h3 style=\"font-style: italic; text-align: center;\">Estruturas sequenciais</h3>\n",
    "<p style=\"font-style: italic; text-align: center;\">Realizado por Nayara de Oliveira Brabo</p>"
   ]
  },
  {
   "cell_type": "markdown",
   "id": "bc479817-33ac-4889-9626-379c70a4d3cd",
   "metadata": {},
   "source": [
    "---"
   ]
  },
  {
   "cell_type": "markdown",
   "id": "f722a84e-bc92-4302-b1fe-cd9d7189d2bf",
   "metadata": {},
   "source": [
    "<h3 style=\"color: #120a8f; font-weight: bold;\">EXERCÍCIO 1</h3>"
   ]
  },
  {
   "attachments": {},
   "cell_type": "markdown",
   "id": "a7b14cb1-77da-4283-9525-79c4d5d0d788",
   "metadata": {},
   "source": [
    "Faça um programa que peça um número e então mostre a mensagem: \"O número informado foi [número]\".\r\n"
   ]
  },
  {
   "cell_type": "code",
   "execution_count": 91,
   "id": "1c12348b-d389-45b8-a99a-978615bf8f41",
   "metadata": {},
   "outputs": [
    {
     "name": "stdin",
     "output_type": "stream",
     "text": [
      "ESCOLHA UM NÚMERO:  S\n"
     ]
    },
    {
     "name": "stdout",
     "output_type": "stream",
     "text": [
      "\n",
      "Por favor, insira somente números inteiros.\n",
      "\n"
     ]
    },
    {
     "name": "stdin",
     "output_type": "stream",
     "text": [
      "ESCOLHA UM NÚMERO:  5\n"
     ]
    },
    {
     "name": "stdout",
     "output_type": "stream",
     "text": [
      "--------------------------------------\n",
      "|     O número informado foi \u001b[1;44m 5 \u001b[0m.    |\n",
      "--------------------------------------\n"
     ]
    }
   ],
   "source": [
    "while True:\n",
    "    try:\n",
    "        num = int(input('ESCOLHA UM NÚMERO: '))\n",
    "        # Formata o resultado\n",
    "        print('-' * 38)\n",
    "        print('|', f'O número informado foi \\033[1;44m {num} \\033[0m.'.center(45, ' '), '|')\n",
    "        print('-' * 38)\n",
    "        break\n",
    "    except ValueError:\n",
    "        print('\\nPor favor, insira somente números inteiros.\\n')"
   ]
  },
  {
   "cell_type": "markdown",
   "id": "e259f1e5-a7cf-4811-9b01-1fe446e37739",
   "metadata": {},
   "source": [
    "-----"
   ]
  },
  {
   "cell_type": "markdown",
   "id": "c9fabde3-3ad4-448f-a35a-a46a425e0a07",
   "metadata": {},
   "source": [
    "<h3 style=\"color: #120a8f; font-weight: bold;\">EXERCÍCIO 2</h3>"
   ]
  },
  {
   "cell_type": "raw",
   "id": "b902b4ce-06b2-441a-9241-6dee4b6b65bb",
   "metadata": {},
   "source": [
    "Faça um programa que peça dois números e imprima a soma. "
   ]
  },
  {
   "cell_type": "code",
   "execution_count": 99,
   "id": "49f62033-3a1e-4c73-b740-3038813f2220",
   "metadata": {},
   "outputs": [
    {
     "name": "stdout",
     "output_type": "stream",
     "text": [
      "\n",
      "----- SOMANDO OS NÚMEROS -----\n"
     ]
    },
    {
     "name": "stdin",
     "output_type": "stream",
     "text": [
      "Escolha o 1º número:  36\n",
      "Escolha o 2º número:  66\n"
     ]
    },
    {
     "name": "stdout",
     "output_type": "stream",
     "text": [
      "\n",
      "------------ SOMA ------------\n",
      "|       36 + 66 = 102        |\n",
      "------------------------------\n"
     ]
    }
   ],
   "source": [
    "print('\\n'+' SOMANDO OS NÚMEROS '.center(30, '-'))\n",
    "\n",
    "# Pede os 2 números para a soma\n",
    "n1 = int(input('Escolha o 1º número: '))\n",
    "n2 = int(input('Escolha o 2º número: '))\n",
    "\n",
    "# Faz a soma\n",
    "soma = n1 + n2\n",
    "\n",
    "# Formata a SOMA: n1 + n2 = resultado\n",
    "print('\\n'+' SOMA '.center(30, '-'))\n",
    "print('|', f'{n1} + {n2} = {soma}'.center(26, ' '), '|')\n",
    "print('-' * 30)"
   ]
  },
  {
   "cell_type": "markdown",
   "id": "84f4626b-93d8-468a-a1ef-e13e88994bfd",
   "metadata": {},
   "source": [
    "----"
   ]
  },
  {
   "cell_type": "markdown",
   "id": "a70014f3-9a58-4637-8217-354073d8f670",
   "metadata": {},
   "source": [
    "<h3 style=\"color: #120a8f; font-weight: bold;\">EXERCÍCIO 3</h3>"
   ]
  },
  {
   "cell_type": "raw",
   "id": "fe5e40d2-1f8c-406c-8571-08a308411b90",
   "metadata": {},
   "source": [
    "Faça um programa que peça as 4 notas bimestrais e mostre a média. "
   ]
  },
  {
   "cell_type": "code",
   "execution_count": 93,
   "id": "4ab50c83-9cfb-4c63-b950-3a30aed5b34b",
   "metadata": {},
   "outputs": [
    {
     "name": "stdin",
     "output_type": "stream",
     "text": [
      "Informe a nota do 1º bimestre:  7\n",
      "Informe a nota do 2º bimestre:  9.5\n",
      "Informe a nota do 3º bimestre:  7.8\n",
      "Informe a nota do 4º bimestre:  10\n"
     ]
    },
    {
     "name": "stdout",
     "output_type": "stream",
     "text": [
      "\n",
      "-------------------------------- NOTAS --------------------------------\n",
      "| 1º Bimestre | 2º Bimestre | 3º Bimestre | 4º Bimestre | \u001b[1mMÉDIA FINAL\u001b[0m |\n",
      "|     7.0     |     9.5     |     7.8     |     10.0    |     \u001b[1m8.6\u001b[0m     |\n",
      "-----------------------------------------------------------------------\n",
      "\n",
      "---- SITUAÇÃO ----\n",
      "|   \u001b[1;42m APROVADO \u001b[0m   |\n",
      "------------------\n"
     ]
    }
   ],
   "source": [
    "# Cria uma lista vazia para armazenar as notas\n",
    "notas_aluno = []\n",
    "\n",
    "# Pede as 4 notas bimestrais ao usuário e armazena na lista\n",
    "for i in range(1, 5):\n",
    "    nota = float(input(f\"Informe a nota do {i}º bimestre: \"))\n",
    "    notas_aluno.append(nota)\n",
    "\n",
    "# Calcula a média das notas\n",
    "media = sum(notas_aluno) / len(notas_aluno)\n",
    "\n",
    "# Mostra as notas e a média\n",
    "print('\\n'+' NOTAS '.center(71, '-'))\n",
    "print('|'+' 1º Bimestre '.center(10, '-')+'|'+' 2º Bimestre '.center(10, '-')+'|'+' 3º Bimestre '.center(10, '-')+'|'+' 4º Bimestre '.center(10, '-')+'|'+' \\033[1mMÉDIA FINAL\\033[0m '.center(10, '-')+'|')\n",
    "print('|'+f' {notas_aluno[0]} '.center(13, ' ')+'|'+f' {notas_aluno[1]} '.center(13, ' ')+'|'+f' {notas_aluno[2]} '.center(13, ' ')+'|'+f' {notas_aluno[3]} '.center(13, ' ')+'|'+f' \\033[1m{media:.1f}\\033[0m '.center(21, ' ')+'|')\n",
    "print('-' * 71)\n",
    "\n",
    "# Mostrar se o aluno foi aprovado ou reprovado\n",
    "print('\\n'+' SITUAÇÃO '.center(18, '-'))\n",
    "if media < 7:\n",
    "    print('|'+' \\033[1;41m REPROVADO \\033[0m '.center(27, ' ')+'|')\n",
    "else: \n",
    "    print('|'+' \\033[1;42m APROVADO \\033[0m '.center(27, ' ')+'|')\n",
    "print('-' * 18)"
   ]
  },
  {
   "cell_type": "markdown",
   "id": "47510644-92f5-4261-99e4-6c9768521b0f",
   "metadata": {},
   "source": [
    "-----"
   ]
  },
  {
   "cell_type": "markdown",
   "id": "0bdc7723-ff09-455b-aa70-9a50f088ce64",
   "metadata": {},
   "source": [
    "<h3 style=\"color: #120a8f; font-weight: bold;\">EXERCÍCIO 4</h3>"
   ]
  },
  {
   "cell_type": "raw",
   "id": "2f9b63ba-67a4-428a-aae2-89e71275dc63",
   "metadata": {},
   "source": [
    "Faça um programa que converta metros para centímetros."
   ]
  },
  {
   "cell_type": "code",
   "execution_count": 96,
   "id": "9bf6acbc-648d-4b40-913d-744053a91344",
   "metadata": {},
   "outputs": [
    {
     "name": "stdin",
     "output_type": "stream",
     "text": [
      "Informe o valor em metros:  36\n"
     ]
    },
    {
     "name": "stdout",
     "output_type": "stream",
     "text": [
      "\n",
      "---------------- CONVERSOR ----------------\n",
      "|       METROS       |    \u001b[1mCENTÍMETROS\u001b[0m     |\n",
      "|       36.0 m       |     \u001b[1m3600.0 cm\u001b[0m      |\n",
      "-------------------------------------------\n"
     ]
    }
   ],
   "source": [
    "# Pede ao usuário para informar um valor em metros\n",
    "metros = float(input(\"Informe o valor em metros: \"))\n",
    "\n",
    "# Converte metros para centímetros\n",
    "centimetros = metros * 100\n",
    "\n",
    "# Mostra o resultado da conversão\n",
    "print('\\n'+' CONVERSOR '.center(43, '-'))\n",
    "print('|'+ 'METROS'.center(20, ' ')+'|'+'\\033[1mCENTÍMETROS\\033[0m'.center(28, ' ')+'|')\n",
    "print('|'+ f'{metros} m'.center(20, ' ')+'|'+f'\\033[1m{centimetros} cm\\033[0m'.center(28, ' ')+'|')\n",
    "print('-' * 43)"
   ]
  },
  {
   "cell_type": "markdown",
   "id": "6aa49d70-a522-4ca0-8780-2b0147baaacc",
   "metadata": {},
   "source": [
    "-----"
   ]
  },
  {
   "cell_type": "markdown",
   "id": "069a897f-fbbf-47a5-ac3e-cd89236c8499",
   "metadata": {},
   "source": [
    "<h3 style=\"color: #120a8f; font-weight: bold;\">EXERCÍCIO 5</h3>"
   ]
  },
  {
   "cell_type": "raw",
   "id": "6049283a-97f2-49ac-84a6-3c5a26daa693",
   "metadata": {},
   "source": [
    "Faça um programa que peça o raio de um círculo e mostre sua área."
   ]
  },
  {
   "cell_type": "code",
   "execution_count": 97,
   "id": "ed9ca99d-18e2-4771-a3f0-e10bfe068dc5",
   "metadata": {},
   "outputs": [
    {
     "name": "stdin",
     "output_type": "stream",
     "text": [
      "Informe o raio do círculo em cm:  6\n"
     ]
    },
    {
     "name": "stdout",
     "output_type": "stream",
     "text": [
      "\n",
      "RAIO DO CÍRCULO --> \u001b[1m6.0 cm\u001b[0m\n",
      "ÁREA DO CÍRCULO --> \u001b[1m113.1 cm²\u001b[0m\n"
     ]
    }
   ],
   "source": [
    "import math\n",
    "\n",
    "# Pede ao usuário para informar o raio do círculo\n",
    "raio = float(input(\"Informe o raio do círculo em cm: \"))\n",
    "\n",
    "# Calcula a área do círculo\n",
    "area = math.pi * (raio ** 2)\n",
    "\n",
    "# Mostra o resultado do cálculo da área\n",
    "print(f'\\nRAIO DO CÍRCULO --> \\033[1m{raio:.1f} cm\\033[0m')\n",
    "print(f\"ÁREA DO CÍRCULO --> \\033[1m{area:.1f} cm²\\033[0m\")"
   ]
  },
  {
   "cell_type": "markdown",
   "id": "ad8f7dc6-d819-4495-a492-08e30a5fb7f1",
   "metadata": {},
   "source": [
    "----"
   ]
  },
  {
   "cell_type": "markdown",
   "id": "e23a64b3-93ae-4bcf-ba0b-651e9d25747a",
   "metadata": {},
   "source": [
    "<h3 style=\"color: #120a8f; font-weight: bold;\">EXERCÍCIO 6</h3>"
   ]
  },
  {
   "cell_type": "raw",
   "id": "d822d696-4191-4258-bc64-33ea15b5eedd",
   "metadata": {},
   "source": [
    "Faça um programa que calcule a área de um quadrado, em seguida mostre o dobro desta área para o usuário."
   ]
  },
  {
   "cell_type": "code",
   "execution_count": 40,
   "id": "176d6b81-8a67-44ca-896f-dd00ff53b99b",
   "metadata": {},
   "outputs": [
    {
     "name": "stdin",
     "output_type": "stream",
     "text": [
      "Informe o lado do quadrado em cm:  25\n"
     ]
    },
    {
     "name": "stdout",
     "output_type": "stream",
     "text": [
      "\n",
      "LADOS DO QUADRADO           -->   \u001b[1m25.00 cm\u001b[0m\n",
      "ÁREA DO QUADRADO            -->   \u001b[1m625.00 cm²\u001b[0m\n",
      "DOBRO DA ÁREA DO QUADRADO   -->   \u001b[1m1250.00 cm²\u001b[0m\n"
     ]
    }
   ],
   "source": [
    "# Solicitando o lado do quadrado ao usuário\n",
    "lado = float(input('Informe o lado do quadrado em cm: '))\n",
    "\n",
    "# Calcula a área do quadrado\n",
    "area = lado * lado\n",
    "area2 = area * 2\n",
    "\n",
    "# Mostra o resultado do cálculo da área\n",
    "print(f'\\nLADOS DO QUADRADO           -->   \\033[1m{lado:.2f} cm\\033[0m')\n",
    "print(f'ÁREA DO QUADRADO            -->   \\033[1m{area:.2f} cm²\\033[0m')\n",
    "print(f'DOBRO DA ÁREA DO QUADRADO   -->   \\033[1m{area2:.2f} cm²\\033[0m')"
   ]
  },
  {
   "cell_type": "markdown",
   "id": "e9cf2c98-7f24-4df0-bf7f-799ed6ddf21b",
   "metadata": {},
   "source": [
    "-----"
   ]
  },
  {
   "cell_type": "markdown",
   "id": "aea17d89-8d73-4a96-8722-17f032504310",
   "metadata": {},
   "source": [
    "<h3 style=\"color: #120a8f; font-weight: bold;\">EXERCÍCIO 7</h3>"
   ]
  },
  {
   "cell_type": "raw",
   "id": "ed6f39fe-98eb-44b5-8fb7-fdd1bcbc2955",
   "metadata": {},
   "source": [
    "Faça um programa que pergunte quanto você ganha por hora e o número de horas trabalhadas no mês. \n",
    "Calcule e mostre o total do seu salário no referido mês"
   ]
  },
  {
   "cell_type": "code",
   "execution_count": 5,
   "id": "dad916dd-4874-4a43-88b3-96be611fcbac",
   "metadata": {},
   "outputs": [
    {
     "name": "stdin",
     "output_type": "stream",
     "text": [
      "Digite quanto você ganha por hora (use vírgula para decimais):  25,5\n",
      "Digite o número de horas trabalhadas no mês:  369\n"
     ]
    },
    {
     "name": "stdout",
     "output_type": "stream",
     "text": [
      "\n",
      "----------------------------------------- SALÁRIO -----------------------------------------\n",
      "|      HORAS TRABALHADAS       |     VALOR POR HORA (R$)      |    \u001b[1mSALÁRIO MENSAL (R$)\u001b[0m    |\n",
      "|             369h             |           R$ 25,50           |        \u001b[1mR$ 9.409,50\u001b[0m        |\n",
      "-------------------------------------------------------------------------------------------\n"
     ]
    }
   ],
   "source": [
    "import locale\n",
    "\n",
    "# Configura a localidade para português do Brasil\n",
    "locale.setlocale(locale.LC_ALL, 'pt_BR.UTF-8')\n",
    "\n",
    "# Função para converter entrada de string com vírgula para float\n",
    "def conv_float(valor_str):\n",
    "    return float(valor_str.replace(',', '.'))\n",
    "\n",
    "# Input para solicitar ganho/h e h trabalhadas\n",
    "ganhoHora_str = input(\"Digite quanto você ganha por hora (use vírgula para decimais): \")\n",
    "horasTrabalhadas_str = input(\"Digite o número de horas trabalhadas no mês: \")\n",
    "\n",
    "# Convertendo as entradas para float\n",
    "ganhoHora = conv_float(ganhoHora_str)\n",
    "horasTrabalhadas = conv_float(horasTrabalhadas_str)\n",
    "\n",
    "# Calculando o salário mensal\n",
    "salarioMensal = ganhoHora * horasTrabalhadas\n",
    "\n",
    "# Formatando os valores\n",
    "ganhoHora = locale.currency(ganhoHora, grouping=True)\n",
    "salarioMensal = locale.currency(salarioMensal, grouping=True)\n",
    "\n",
    "# Exibindo o resultado\n",
    "print('\\n' + ' SALÁRIO '.center(91, '-'))\n",
    "print('|'+ 'HORAS TRABALHADAS'.center(30, ' ')+'|'+'VALOR POR HORA (R$)'.center(30, ' ')+'|'+'\\033[1mSALÁRIO MENSAL (R$)\\033[0m'.center(35, ' ')+'|')\n",
    "print('|' + f'{horasTrabalhadas:.0f}h'.center(30, ' ') + '|' + f'{ganhoHora}'.center(30, ' ') + '|' + f'\\033[1m{salarioMensal}\\033[0m'.center(35, ' ') + '|')\n",
    "print('-' * 91)"
   ]
  },
  {
   "cell_type": "markdown",
   "id": "0d445ec8-ad69-4bf6-b747-917b9c2d9c2a",
   "metadata": {},
   "source": [
    "----"
   ]
  },
  {
   "cell_type": "markdown",
   "id": "e3dd99d1-5aec-45ff-be72-66955cb4744b",
   "metadata": {},
   "source": [
    "<h3 style=\"color: #120a8f; font-weight: bold;\">EXERCÍCIO 8</h3>"
   ]
  },
  {
   "cell_type": "markdown",
   "id": "bd17eb97-81d9-41ea-a01a-c9ce908228e9",
   "metadata": {},
   "source": [
    "###### Faça um programa que peça a temperatura em graus Fahrenheit, transforme e mostre a temperatura em graus Celsius.\n",
    "$$ Celsius = (Fahrenheit − 32) × \\frac{5}{9}) $$"
   ]
  },
  {
   "cell_type": "code",
   "execution_count": 6,
   "id": "d4dfef69-85fa-4758-81e8-75c16a6406c0",
   "metadata": {},
   "outputs": [
    {
     "name": "stdin",
     "output_type": "stream",
     "text": [
      "Digite a temperatura em graus Fahrenheit:  36\n"
     ]
    },
    {
     "name": "stdout",
     "output_type": "stream",
     "text": [
      "\n",
      "\n",
      "----FAHRENHEIT (°F)----- -----\u001b[1m CELSIUS (°C) \u001b[0m----\n",
      "|         36.0°F        |         \u001b[1m2.2°C\u001b[0m        |\n",
      "------------------------ -----------------------\n"
     ]
    }
   ],
   "source": [
    "# Função para converter Fahrenheit para Celsius\n",
    "def f_para_c(fahrenheit):\n",
    "    celsius = (fahrenheit - 32) * 5/9\n",
    "    return celsius\n",
    "\n",
    "# Solicitando a temperatura em Fahrenheit ao usuário\n",
    "fahrenheit = float(input(\"Digite a temperatura em graus Fahrenheit: \"))\n",
    "\n",
    "# Convertendo para Celsius\n",
    "celsius = f_para_c(fahrenheit)\n",
    "\n",
    "# Exibindo o resultado\n",
    "print('\\n')\n",
    "print('FAHRENHEIT (°F)'.center(24, '-'), '\\033[1m CELSIUS (°C) \\033[0m'.center(31, '-'))\n",
    "print('|', f'{fahrenheit}°F'.center(21, ' '), '|', f'\\033[1m{celsius:.1f}°C\\033[0m'.center(29, ' ') + '|')\n",
    "print(''.center(24, '-'), ''.center(23, '-'))\n",
    "\n"
   ]
  },
  {
   "cell_type": "markdown",
   "id": "bcdcbc6f-cc0f-4b72-9f5e-fefbf497703b",
   "metadata": {},
   "source": [
    "-----"
   ]
  },
  {
   "cell_type": "markdown",
   "id": "3b34356c-6664-4c06-bc67-b98dfc2ceec8",
   "metadata": {},
   "source": [
    "<h3 style=\"color: #120a8f; font-weight: bold;\">EXERCÍCIO 9</h3>"
   ]
  },
  {
   "attachments": {},
   "cell_type": "markdown",
   "id": "121e7df8-3e1c-427e-9451-7bf07af25301",
   "metadata": {},
   "source": [
    "###### Faça um programa que peça a temperatura em graus Celsius, transforme e mostre em graus Fahrenheit.\r\n",
    "$$ Fahrenheit = (Celsius × \\frac{5}{9}) + 32 $$"
   ]
  },
  {
   "cell_type": "code",
   "execution_count": 7,
   "id": "3b03c5ad-4bd2-47fd-8632-4859030905ff",
   "metadata": {},
   "outputs": [
    {
     "name": "stdin",
     "output_type": "stream",
     "text": [
      "Digite a temperatura em graus Celsius (°C):  36\n"
     ]
    },
    {
     "name": "stdout",
     "output_type": "stream",
     "text": [
      "\n",
      "\n",
      "------CELSIUS (°C)------ ---\u001b[1m FAHRENHEIT (°F) \u001b[0m---\n",
      "|         36.0°C        |         \u001b[1m96.8°F\u001b[0m       |\n",
      "------------------------ -----------------------\n"
     ]
    }
   ],
   "source": [
    "# Função para converter Celsius para Fahrenheit\n",
    "def c_para_f(celsius):\n",
    "    fahrenheit = (celsius * 9/5) + 32\n",
    "    return fahrenheit\n",
    "\n",
    "# Solicitando a temperatura em Celsius ao usuário\n",
    "celsius = float(input(\"Digite a temperatura em graus Celsius (°C): \"))\n",
    "\n",
    "# Convertendo para Fahrenheit\n",
    "fahrenheit = c_para_f(celsius)\n",
    "\n",
    "# Exibindo o resultado\n",
    "print('\\n')\n",
    "print('CELSIUS (°C)'.center(24, '-'), '\\033[1m FAHRENHEIT (°F) \\033[0m'.center(31, '-'))\n",
    "#print(' CELSIUS   -->   FAHRENHEIT '.center (45 , '-'))\n",
    "print('|', f'{celsius}°C'.center(21, ' '), '|', f'\\033[1m{fahrenheit}°F\\033[0m'.center(29, ' ') + '|')\n",
    "print(''.center(24, '-'), ''.center(23, '-'))\n"
   ]
  },
  {
   "cell_type": "markdown",
   "id": "2f0ecf4a-9126-4cb9-bf31-a7717d06bb1b",
   "metadata": {},
   "source": [
    "---"
   ]
  },
  {
   "cell_type": "markdown",
   "id": "54d586d3-86f7-4234-b9c4-bbc604fa52f6",
   "metadata": {},
   "source": [
    "<h3 style=\"color: #120a8f; font-weight: bold;\">EXERCÍCIO 10</h3>"
   ]
  },
  {
   "cell_type": "raw",
   "id": "f74c0618-1aad-4901-9c24-d009fe831dc3",
   "metadata": {},
   "source": [
    "Faça um programa que peça 2 números inteiros e um número real. Calcule e mostre:\n",
    "\n",
    "    a. o produto do dobro do primeiro com metade do segundo.\n",
    "    b. a soma do triplo do primeiro com o terceiro.\n",
    "    c. o terceiro elevado ao cubo.\n"
   ]
  },
  {
   "cell_type": "code",
   "execution_count": 8,
   "id": "cd128944-009f-40ed-bbba-3c736fabec70",
   "metadata": {},
   "outputs": [
    {
     "name": "stdin",
     "output_type": "stream",
     "text": [
      "Digite o primeiro número inteiro:  6\n",
      "Digite o segundo número inteiro:  3\n",
      "Digite o número real:  2.5\n"
     ]
    },
    {
     "name": "stdout",
     "output_type": "stream",
     "text": [
      "\n",
      "O produto do dobro do primeiro com metade do segundo  -------> \u001b[1m18.00\u001b[0m\n",
      "A soma do triplo do primeiro com o terceiro           -------> \u001b[1m20.50\u001b[0m\n",
      "O terceiro número elevado ao cubo                     -------> \u001b[1m15.62\u001b[0m\n"
     ]
    }
   ],
   "source": [
    "# Input para solicitar os números ao usuário\n",
    "n1 = int(input(\"Digite o primeiro número inteiro: \"))\n",
    "n2 = int(input(\"Digite o segundo número inteiro: \"))\n",
    "n3 = float(input(\"Digite o número real: \"))\n",
    "\n",
    "# Calculando o produto do dobro do primeiro com metade do segundo\n",
    "produto = (2 * n1) * (n2 / 2)\n",
    "\n",
    "# Calculando a soma do triplo do primeiro com o terceiro\n",
    "soma = (3 * n1) + n3\n",
    "\n",
    "# Calculando o terceiro número elevado ao cubo\n",
    "cubo = n3 ** 3\n",
    "\n",
    "# Exibindo os resultados\n",
    "print(f\"\\nO produto do dobro do primeiro com metade do segundo  -------> \\033[1m{produto:.2f}\\033[0m\")\n",
    "print(f\"A soma do triplo do primeiro com o terceiro           -------> \\033[1m{soma:.2f}\\033[0m\")\n",
    "print(f\"O terceiro número elevado ao cubo                     -------> \\033[1m{cubo:.2f}\\033[0m\")\n"
   ]
  },
  {
   "cell_type": "markdown",
   "id": "88a0ca6e-dca6-47a0-b6d8-8aa60804311f",
   "metadata": {},
   "source": [
    "----"
   ]
  },
  {
   "cell_type": "markdown",
   "id": "fd345321-0fe8-4f86-ab0a-990fec00ccb7",
   "metadata": {},
   "source": [
    "<h3 style=\"color: #120a8f; font-weight: bold;\">EXERCÍCIO 11</h3>"
   ]
  },
  {
   "cell_type": "markdown",
   "id": "270ec27a-54a9-4d98-93e2-977707b73bc1",
   "metadata": {},
   "source": [
    "###### Tendo como dados de entrada a altura de uma pessoa, construa um algoritmo que calcule seu peso ideal, usando a seguinte fórmula: \n",
    "$$ (72.7*altura) - 58 $$"
   ]
  },
  {
   "cell_type": "code",
   "execution_count": 9,
   "id": "4e8f77ff-b459-4deb-8c17-54bceb9e6e65",
   "metadata": {},
   "outputs": [
    {
     "name": "stdin",
     "output_type": "stream",
     "text": [
      "Digite a sua altura (em metros):  1.64\n"
     ]
    },
    {
     "name": "stdout",
     "output_type": "stream",
     "text": [
      "\n",
      "\u001b[1mPESO IDEAL  ---->  61.23Kg\u001b[0m\n"
     ]
    }
   ],
   "source": [
    "# Input para a altura\n",
    "altura = float(input(\"Digite a sua altura (em metros): \"))\n",
    "\n",
    "# Calculando o peso ideal\n",
    "pesoIdeal = (72.7 * altura) - 58\n",
    "\n",
    "# Exibindo o resultado\n",
    "print(f\"\\n\\033[1mPESO IDEAL  ---->  {pesoIdeal:.2f}Kg\\033[0m\")\n"
   ]
  },
  {
   "cell_type": "markdown",
   "id": "893a8b69-884e-47aa-9976-6fef9e11b376",
   "metadata": {},
   "source": [
    "----"
   ]
  },
  {
   "cell_type": "markdown",
   "id": "c83668fb-cf67-4777-a2ce-f5a3cacccde8",
   "metadata": {},
   "source": [
    "<h3 style=\"color: #120a8f; font-weight: bold;\">EXERCÍCIO 12</h3>"
   ]
  },
  {
   "cell_type": "markdown",
   "id": "da4b913c-4eb5-460a-a859-e7606c5e70ea",
   "metadata": {},
   "source": [
    "###### Tendo como dado de entrada a altura (h) de uma pessoa, construa um algoritmo que calcule seu peso ideal, utilizando as seguintes fórmulas:\n",
    "a. Para homens: $$ (72.7*h) - 58 $$\n",
    "b. Para mulheres: $$ (62.1*h) - 44.7 $$"
   ]
  },
  {
   "cell_type": "code",
   "execution_count": 98,
   "id": "9b2ef49f-704c-4f3c-b642-b9833db60f2b",
   "metadata": {},
   "outputs": [
    {
     "name": "stdin",
     "output_type": "stream",
     "text": [
      "Digite a sua altura (em metros):  1.58\n",
      "Digite o seu sexo (M para masculino, F para feminino):  f\n"
     ]
    },
    {
     "name": "stdout",
     "output_type": "stream",
     "text": [
      "\n",
      "\u001b[1mPESO IDEAL  ---->  53.42Kg\u001b[0m\n"
     ]
    }
   ],
   "source": [
    "# Input para altura da pessoa\n",
    "altura = float(input(\"Digite a sua altura (em metros): \"))\n",
    "\n",
    "# Input para o sexo da pessoa\n",
    "sexo = input(\"Digite o seu sexo (M para masculino, F para feminino): \").strip().upper() # Deixar em maiusculo e tirar os espaços\n",
    "\n",
    "# Calculando o peso ideal com base no sexo\n",
    "if sexo == 'M':\n",
    "    pesoIdeal = (72.7 * altura) - 58\n",
    "elif sexo == 'F':\n",
    "    pesoIdeal = (62.1 * altura) - 44.7\n",
    "else:\n",
    "    print(\"Sexo inválido. Por favor, digite 'M' para masculino ou 'F' para feminino.\")\n",
    "    exit()\n",
    "\n",
    "# Exibindo o resultado\n",
    "print(f\"\\n\\033[1mPESO IDEAL  ---->  {pesoIdeal:.2f}Kg\\033[0m\")\n"
   ]
  },
  {
   "cell_type": "markdown",
   "id": "9c71f180-171e-4005-b30e-7cf65ee5a87e",
   "metadata": {},
   "source": [
    "-----"
   ]
  },
  {
   "cell_type": "markdown",
   "id": "7f50291c-59c1-4fa6-a381-cd26db149566",
   "metadata": {},
   "source": [
    "<h3 style=\"color: #120a8f; font-weight: bold;\">EXERCÍCIO 13</h3>"
   ]
  },
  {
   "cell_type": "raw",
   "id": "3eefdbe6-7708-4062-8313-1c79cf782e3e",
   "metadata": {},
   "source": [
    "Arthur Oliveira, homem de bem, comprou um microcomputador para controlar o rendimento diário de seu trabalho. \n",
    "Toda vez que ele traz um peso de peixes maior que o estabelecido pelo regulamento de pesca do estado de São Paulo (50 quilos) deve pagar uma multa de R$ 4,00 por quilo excedente. \n",
    "João precisa que você faça um programa que leia a variável peso (peso de peixes) e calcule o excesso. \n",
    "Gravar na variável excesso a quantidade de quilos além do limite e na variável multa o valor da multa que Arthur deverá pagar. Imprima os dados do programa com as mensagens adequadas.\n"
   ]
  },
  {
   "cell_type": "code",
   "execution_count": 100,
   "id": "b04c34d2-d95b-4eb7-9be2-be8b3c40d537",
   "metadata": {},
   "outputs": [
    {
     "name": "stdin",
     "output_type": "stream",
     "text": [
      "Digite o peso dos peixes (em quilos):  12\n"
     ]
    },
    {
     "name": "stdout",
     "output_type": "stream",
     "text": [
      "\n",
      "DENTRO DO LIMITE DE PESO PERMITIDO.\n",
      "--------------------------\n",
      "|       \u001b[1;42m SEM MULTA \u001b[0m      |\n",
      "--------------------------\n"
     ]
    }
   ],
   "source": [
    "import locale\n",
    "\n",
    "# Configura a localidade para português do Brasil\n",
    "locale.setlocale(locale.LC_ALL, 'pt_BR.UTF-8')\n",
    "\n",
    "# Input solicitando o peso dos peixes \n",
    "peso = float(input(\"Digite o peso dos peixes (em quilos): \"))\n",
    "\n",
    "# Definindo o limite \n",
    "limite = 50.0  # quilos\n",
    "\n",
    "# Verificando se houve excesso de peso\n",
    "if peso > limite:\n",
    "    excesso = peso - limite\n",
    "    multa = locale.currency((excesso * 4.0), grouping=True) # Calculando a multa e já fazendo a conversão em R$\n",
    "    print(f\"\\nPESO EXCEDENTE: \\033[1m{excesso:.2f} Kg\\033[0m.\")\n",
    "    print('-' * 26)\n",
    "    print('|' + f\"MULTA: \\033[1;41m {multa} \\033[0m\".center(35,' ') + '|')\n",
    "    print('-' * 26)\n",
    "else:\n",
    "    excesso = 0.0\n",
    "    multa = 0.0\n",
    "    print(\"\\nDentro do limite de peso permitido.\".upper())\n",
    "    print('-' * 26)\n",
    "    print('|' + f\"\\033[1;42m SEM MULTA \\033[0m\".center(35,' ') + '|')\n",
    "    print('-' * 26)\n"
   ]
  },
  {
   "cell_type": "markdown",
   "id": "77e5369a-f6a7-4daf-961b-4c3c917c1699",
   "metadata": {},
   "source": [
    "---------"
   ]
  },
  {
   "cell_type": "markdown",
   "id": "024bf6d7-9759-4729-8971-b3bf5e845be3",
   "metadata": {},
   "source": [
    "<h3 style=\"color: #120a8f; font-weight: bold;\">EXERCÍCIO 14</h3>"
   ]
  },
  {
   "cell_type": "raw",
   "id": "4a3c89b2-5513-47f4-9c88-01061f294fea",
   "metadata": {},
   "source": [
    "Faça um programa que pergunte quanto você ganha por hora e o número de horas trabalhadas no mês. Calcule e mostre o total do seu salário no referido mês, sabendo-se que são descontados 11% para o Imposto de Renda, 8% para o INSS e 5% para o sindicato, faça um programa que nos dê:\n",
    "salário bruto.\n",
    "quanto pagou ao INSS.\n",
    "quanto pagou ao sindicato.\n",
    "o salário líquido.\n",
    "calcule os descontos e o salário líquido, conforme a tabela abaixo:\n",
    "+ Salário Bruto : R$\n",
    "- IR (11%) : R$\n",
    "- INSS (8%) : R$\n",
    "- Sindicato ( 5%) : R$\n",
    "= Salário Liquido : R$\n"
   ]
  },
  {
   "cell_type": "code",
   "execution_count": 60,
   "id": "748cb724-4f6b-4e0d-b525-6cdcda82d0d0",
   "metadata": {},
   "outputs": [
    {
     "name": "stdin",
     "output_type": "stream",
     "text": [
      "Digite quanto você ganha por hora (use vírgula para decimais):  12,5\n",
      "Digite o número de horas trabalhadas no mês:  235\n"
     ]
    },
    {
     "name": "stdout",
     "output_type": "stream",
     "text": [
      "\n",
      "\n",
      "----------------- SALÁRIO ------------------\n",
      "|(+)   SALÁRIO BRUTO    |    \u001b[92mR$ 2.937,50\u001b[0m   |\n",
      "|(-)      IR (11%)      |     \u001b[91mR$ 323,12\u001b[0m    |\n",
      "|(-)     INSS (8%)      |     \u001b[91mR$ 235,00\u001b[0m    |\n",
      "|(-)   Sindicato (5%)   |     \u001b[91mR$ 146,88\u001b[0m    |\n",
      "|------------------------------------------|\n",
      "|\u001b[1m(=)\u001b[0m  \u001b[1mSALÁRIO LÍQUIDO\u001b[0m   |   \u001b[1;42m R$ 2.232,50 \u001b[0m  |\n",
      "--------------------------------------------\n",
      "--------------------------------------------\n",
      "|    HORAS TRABALHADAS    |      \u001b[1m235h\u001b[0m      |\n",
      "|   VALOR POR HORA (R$)   |    \u001b[1mR$ 12,50\u001b[0m    |\n",
      "--------------------------------------------\n"
     ]
    }
   ],
   "source": [
    "import locale\n",
    "\n",
    "# Configura a localidade para português do Brasil\n",
    "locale.setlocale(locale.LC_ALL, 'pt_BR.UTF-8')\n",
    "\n",
    "# Função para converter entrada de string com vírgula para float\n",
    "def conv_float(valor_str):\n",
    "    return float(valor_str.replace(',', '.'))\n",
    "\n",
    "# Input para solicitar ganho/h e h trabalhadas\n",
    "ganhoHora_str = input(\"Digite quanto você ganha por hora (use vírgula para decimais): \")\n",
    "horasTrabalhadas_str = input(\"Digite o número de horas trabalhadas no mês: \")\n",
    "\n",
    "# Convertendo as entradas para float\n",
    "ganhoHora = conv_float(ganhoHora_str)\n",
    "horasTrabalhadas = conv_float(horasTrabalhadas_str)\n",
    "\n",
    "# Calculando o salário bruto\n",
    "salarioBruto = ganhoHora * horasTrabalhadas\n",
    "\n",
    "# Calculando os descontos\n",
    "ir = salarioBruto * 0.11\n",
    "inss = salarioBruto * 0.08\n",
    "sindicato = salarioBruto * 0.05\n",
    "\n",
    "# Calculando o salário líquido\n",
    "salarioLiquido = salarioBruto - ir - inss - sindicato\n",
    "\n",
    "# Formatando os valores\n",
    "ganhoHora = locale.currency(ganhoHora, grouping=True)\n",
    "salarioBruto = locale.currency(salarioBruto, grouping=True)\n",
    "salarioLiquido = locale.currency(salarioLiquido, grouping=True)\n",
    "ir = locale.currency(ir, grouping=True)\n",
    "inss = locale.currency(inss, grouping=True)\n",
    "sindicato = locale.currency(sindicato, grouping=True)\n",
    "\n",
    "# Exibindo os resultados\n",
    "print('\\n')\n",
    "print(' SALÁRIO '.center(44, '-'))\n",
    "print('|'+'(+)'+'SALÁRIO BRUTO'.center(20,' ')+'|'+f'\\033[92m{salarioBruto}\\033[0m'.center(27,' ')+'|')\n",
    "print('|'+'(-)'+'IR (11%)'.center(20,' ')+'|'+f'\\033[91m{ir}\\033[0m'.center(27,' ')+'|')\n",
    "print('|'+'(-)'+'INSS (8%)'.center(20,' ')+'|'+f'\\033[91m{inss}\\033[0m'.center(27,' ')+'|')\n",
    "print('|'+'(-)'+'Sindicato (5%)'.center(20,' ')+'|'+f'\\033[91m{sindicato}\\033[0m'.center(27,' ')+'|')\n",
    "print('|'+'-' * 42+'|')\n",
    "print('|'+'\\033[1m(=)\\033[0m'+'\\033[1mSALÁRIO LÍQUIDO\\033[0m'.center(28,' ')+'|'+f'\\033[1;42m {salarioLiquido} \\033[0m'.center(29,' ')+'|')\n",
    "print('-' * 44)\n",
    "\n",
    "# Exibindo a h e ganho/h\n",
    "print('-' * 44)\n",
    "print('|'+'HORAS TRABALHADAS'.center(25,' ')+'|'+f'\\033[1m{horasTrabalhadas:.0f}h\\033[0m'.center(24,' ')+'|')\n",
    "print('|'+'VALOR POR HORA (R$)'.center(25,' ')+'|'+f'\\033[1m{ganhoHora}\\033[0m'.center(24,' ')+'|')\n",
    "print('-' * 44)\n",
    "\n"
   ]
  },
  {
   "cell_type": "markdown",
   "id": "969840f1-f58d-492e-a903-048b55d487c7",
   "metadata": {},
   "source": [
    "-----"
   ]
  },
  {
   "cell_type": "markdown",
   "id": "72f900c8-2007-4fa3-9502-4b2f554e9075",
   "metadata": {},
   "source": [
    "<h3 style=\"color: #120a8f; font-weight: bold;\">EXERCÍCIO 15</h3>"
   ]
  },
  {
   "cell_type": "raw",
   "id": "20772e65-1332-48fe-b1d2-66b3c2202234",
   "metadata": {},
   "source": [
    "Faça um programa para uma loja de tintas. \n",
    "O programa deverá pedir o tamanho em metros quadrados da área a ser pintada. Considere que a cobertura da tinta é de 1 litro para cada 3 metros quadrados e que a tinta é vendida em latas de 18 litros, que custam R$ 80,00. \n",
    "Informe ao usuário a quantidades de latas de tinta a serem compradas e o preço total.\n"
   ]
  },
  {
   "cell_type": "code",
   "execution_count": 78,
   "id": "a104055b-0d5e-4006-8da6-bb182af5db15",
   "metadata": {},
   "outputs": [
    {
     "name": "stdin",
     "output_type": "stream",
     "text": [
      "Digite o tamanho da área a ser pintada (em metros quadrados):  365.47\n"
     ]
    },
    {
     "name": "stdout",
     "output_type": "stream",
     "text": [
      "\n",
      "\n",
      "----------------- TINTAS ----------------\n",
      "|     ÁREA (m²)      |      \u001b[1m365.47m²\u001b[0m     |\n",
      "|----------------------------------------|\n",
      "|  QUANT. DE LATAS   |         \u001b[1m7\u001b[0m         |\n",
      "|----------------------------------------|\n",
      "|  PREÇO TOTAL (R$)  |     \u001b[1mR$ 560,00\u001b[0m     |\n",
      "-----------------------------------------\n"
     ]
    }
   ],
   "source": [
    "import math\n",
    "import locale\n",
    "\n",
    "# Configura a localidade para português do Brasil\n",
    "locale.setlocale(locale.LC_ALL, 'pt_BR.UTF-8')\n",
    "\n",
    "# Solicitando o tamanho da área a ser pintada\n",
    "area = float(input(\"Digite o tamanho da área a ser pintada (em metros quadrados): \"))\n",
    "\n",
    "valor_lata = 80\n",
    "\n",
    "# Calculando a quantidade de tinta necessária\n",
    "litros_necessarios = area / 3\n",
    "\n",
    "# Calculando a quantidade de latas necessárias\n",
    "latas_necessarias = math.ceil(litros_necessarios / 18) # Arredondar para cima\n",
    "\n",
    "\n",
    "# Calculando o custo total\n",
    "custo_total = latas_necessarias * valor_lata\n",
    "\n",
    "# Formatando os valores\n",
    "custo_total = locale.currency(custo_total, grouping=True)\n",
    "\n",
    "# Exibindo os resultados\n",
    "print('\\n')\n",
    "print(' TINTAS '.center(41, '-'))\n",
    "print('|'+'ÁREA (m²)'.center(20,' ')+'|'+f'\\033[1m{area}m²\\033[0m'.center(27,' ')+'|')\n",
    "print('|'+'-' * 40+'|')\n",
    "print('|'+'QUANT. DE LATAS'.center(20,' ')+'|'+f'\\033[1m{latas_necessarias}\\033[0m'.center(27,' ')+'|')\n",
    "print('|'+'-' * 40+'|')\n",
    "print('|'+'PREÇO TOTAL (R$)'.center(20,' ')+'|'+f'\\033[1m{custo_total}\\033[0m'.center(27,' ')+'|')\n",
    "print('-' * 41)"
   ]
  },
  {
   "cell_type": "markdown",
   "id": "f692d12d-0fc0-4738-a118-94466282cfd3",
   "metadata": {},
   "source": [
    "----"
   ]
  },
  {
   "cell_type": "markdown",
   "id": "83ad7ed5-04ff-4c2a-9e5f-65919c463079",
   "metadata": {},
   "source": [
    "<h3 style=\"color: #120a8f; font-weight: bold;\">EXERCÍCIO 16</h3>"
   ]
  },
  {
   "cell_type": "raw",
   "id": "d1448530-04da-4010-b7aa-3f2600186d02",
   "metadata": {},
   "source": [
    "Faça um Programa para uma loja de tintas. O programa deverá pedir o tamanho em metros quadrados da área a ser pintada. Considere que a cobertura da tinta é de 1 litro para cada 6 metros quadrados e que a tinta é vendida em latas de 18 litros, que custam R$ 80,00 ou em galões de 3,6 litros, que custam R$ 25,00.\n",
    "Informe ao usuário as quantidades de tinta a serem compradas e os respectivos preços em 3 situações:\n",
    "- comprar apenas latas de 18 litros;\n",
    "- comprar apenas galões de 3,6 litros;\n",
    "- misturar latas e galões, de forma que o desperdício de tinta seja menor. Acrescente 10% de folga e sempre arredonde os valores para cima, isto é, considere latas cheias.\n"
   ]
  },
  {
   "cell_type": "code",
   "execution_count": 101,
   "id": "cf8b5499-905d-4964-8d97-c70b8cfaf648",
   "metadata": {},
   "outputs": [
    {
     "name": "stdin",
     "output_type": "stream",
     "text": [
      "Digite o tamanho da área a ser pintada (em metros quadrados):  365\n"
     ]
    },
    {
     "name": "stdout",
     "output_type": "stream",
     "text": [
      "\n",
      "\n",
      "------- TINTAS - APENAS LATAS (18L)-------\n",
      "|     ÁREA (m²)      |      \u001b[1m365.0 m²\u001b[0m     |\n",
      "|----------------------------------------|\n",
      "|  QUANT. DE LATAS   |         \u001b[1m4\u001b[0m         |\n",
      "|----------------------------------------|\n",
      "|  PREÇO TOTAL (R$)  |     \u001b[1mR$ 320,00\u001b[0m     |\n",
      "------------------------------------------\n",
      "\n",
      "\n",
      "------ TINTAS - APENAS GALÕES (3,6L)------\n",
      "|     ÁREA (m²)      |      \u001b[1m365.0 m²\u001b[0m     |\n",
      "|----------------------------------------|\n",
      "|  QUANT. DE LATAS   |         \u001b[1m19\u001b[0m        |\n",
      "|----------------------------------------|\n",
      "|  PREÇO TOTAL (R$)  |     \u001b[1mR$ 475,00\u001b[0m     |\n",
      "------------------------------------------\n",
      "\n",
      "\n",
      "--- TINTAS - MISTURA DE LATAS E GALÕES----\n",
      "|     ÁREA (m²)      |      \u001b[1m365.0 m²\u001b[0m     |\n",
      "|----------------------------------------|\n",
      "|  QUANT. DE LATAS   |         \u001b[1m3\u001b[0m         |\n",
      "|----------------------------------------|\n",
      "|  QUANT. DE GALÕES  |         \u001b[1m4\u001b[0m         |\n",
      "|----------------------------------------|\n",
      "|  PREÇO TOTAL (R$)  |     \u001b[1mR$ 340,00\u001b[0m     |\n",
      "------------------------------------------\n",
      "\n"
     ]
    }
   ],
   "source": [
    "import math\n",
    "import locale\n",
    "\n",
    "# Configura a localidade para português do Brasil\n",
    "locale.setlocale(locale.LC_ALL, 'pt_BR.UTF-8')\n",
    "\n",
    "# Solicitando o tamanho da área a ser pintada\n",
    "area = float(input(\"Digite o tamanho da área a ser pintada (em metros quadrados): \"))\n",
    "\n",
    "# valor da lata e galão\n",
    "valor_lata = 80\n",
    "valor_galao = 25\n",
    "\n",
    "# Calculando a quantidade de tinta necessária com folga de 10%\n",
    "litros_necessarios = (area / 6) * 1.10\n",
    "\n",
    "# Calculando a quantidade de latas de 18 litros necessárias\n",
    "latas_necessarias = math.ceil(litros_necessarios / 18)\n",
    "\n",
    "# Calculando a quantidade de galões de 3,6 litros necessários\n",
    "galoes_necessarios = math.ceil(litros_necessarios / 3.6)\n",
    "\n",
    "# Calculando a mistura de latas e galões\n",
    "latas_mistura = int(litros_necessarios / 18)\n",
    "restante = litros_necessarios - (latas_mistura * 18)\n",
    "galoes_mistura = math.ceil(restante / 3.6)\n",
    "\n",
    "# Calculando os custos\n",
    "custo_apenas_latas = latas_necessarias * valor_lata\n",
    "custo_apenas_galoes = galoes_necessarios * valor_galao\n",
    "custo_mistura = (latas_mistura * valor_lata) + (galoes_mistura * valor_galao)\n",
    "\n",
    "# Formatando os valores\n",
    "custo_apenas_latas = locale.currency(custo_apenas_latas, grouping=True)\n",
    "custo_apenas_galoes = locale.currency(custo_apenas_galoes, grouping=True)\n",
    "custo_mistura = locale.currency(custo_mistura, grouping=True)\n",
    "\n",
    "# Exibindo os resultados\n",
    "print('\\n')\n",
    "print(' TINTAS - APENAS LATAS (18L)'.center(42, '-'))\n",
    "print('|'+'ÁREA (m²)'.center(20,' ')+'|'+f'\\033[1m{area} m²\\033[0m'.center(27,' ')+'|')\n",
    "print('|'+'-' * 40+'|')\n",
    "print('|'+'QUANT. DE LATAS'.center(20,' ')+'|'+f'\\033[1m{latas_necessarias}\\033[0m'.center(27,' ')+'|')\n",
    "print('|'+'-' * 40+'|')\n",
    "print('|'+'PREÇO TOTAL (R$)'.center(20,' ')+'|'+f'\\033[1m{custo_apenas_latas}\\033[0m'.center(27,' ')+'|')\n",
    "print('-' * 42)\n",
    "\n",
    "print('\\n')\n",
    "print(' TINTAS - APENAS GALÕES (3,6L)'.center(42, '-'))\n",
    "print('|'+'ÁREA (m²)'.center(20,' ')+'|'+f'\\033[1m{area} m²\\033[0m'.center(27,' ')+'|')\n",
    "print('|'+'-' * 40+'|')\n",
    "print('|'+'QUANT. DE LATAS'.center(20,' ')+'|'+f'\\033[1m{galoes_necessarios}\\033[0m'.center(27,' ')+'|')\n",
    "print('|'+'-' * 40+'|')\n",
    "print('|'+'PREÇO TOTAL (R$)'.center(20,' ')+'|'+f'\\033[1m{custo_apenas_galoes}\\033[0m'.center(27,' ')+'|')\n",
    "print('-' * 42)\n",
    "\n",
    "print('\\n')\n",
    "print(' TINTAS - MISTURA DE LATAS E GALÕES'.center(42, '-'))\n",
    "print('|'+'ÁREA (m²)'.center(20,' ')+'|'+f'\\033[1m{area} m²\\033[0m'.center(27,' ')+'|')\n",
    "print('|'+'-' * 40+'|')\n",
    "print('|'+'QUANT. DE LATAS'.center(20,' ')+'|'+f'\\033[1m{latas_mistura}\\033[0m'.center(27,' ')+'|')\n",
    "print('|'+'-' * 40+'|')\n",
    "print('|'+'QUANT. DE GALÕES'.center(20,' ')+'|'+f'\\033[1m{galoes_mistura}\\033[0m'.center(27,' ')+'|')\n",
    "print('|'+'-' * 40+'|')\n",
    "print('|'+'PREÇO TOTAL (R$)'.center(20,' ')+'|'+f'\\033[1m{custo_mistura}\\033[0m'.center(27,' ')+'|')\n",
    "print('-' * 42+'\\n')\n"
   ]
  },
  {
   "cell_type": "markdown",
   "id": "a0c1ab30-46d8-4bde-bc9e-61b1198d84ff",
   "metadata": {},
   "source": [
    "-----"
   ]
  }
 ],
 "metadata": {
  "kernelspec": {
   "display_name": "Python 3 (ipykernel)",
   "language": "python",
   "name": "python3"
  },
  "language_info": {
   "codemirror_mode": {
    "name": "ipython",
    "version": 3
   },
   "file_extension": ".py",
   "mimetype": "text/x-python",
   "name": "python",
   "nbconvert_exporter": "python",
   "pygments_lexer": "ipython3",
   "version": "3.11.7"
  }
 },
 "nbformat": 4,
 "nbformat_minor": 5
}
